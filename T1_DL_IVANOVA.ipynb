{
  "cells": [
    {
      "cell_type": "markdown",
      "source": [
        "# Skin lesion classification"
      ],
      "metadata": {
        "id": "Ao3Aj_ZSzwQz"
      }
    },
    {
      "cell_type": "markdown",
      "source": [
        "**Deadline**: Upload this notebook (rename it as 'TP1-DL-YOUR-SURNAME.ipynb') to Ecampus/Moodle before the deadline.\n"
      ],
      "metadata": {
        "id": "TD2Mt3JRz1VY"
      }
    },
    {
      "cell_type": "markdown",
      "source": [
        "**Context**\n",
        "A skin lesion is defined as a superficial growth or patch of the skin that is visually different and/or has a different texture than its surrounding area. Skin lesions, such as moles or birthmarks, can degenerate and become melanoma, one of the deadliest skin cancer. Its incidence has been increasing during the last decades, especially in the areas mostly populated by white people.\n",
        "\n",
        "The most effective treatment is an early detection followed by surgical excision. This is why several approaches for melanoma detection have been proposed in the last years (non-invasive computer-aided diagnosis (CAD) ).\n",
        "\n",
        "**Data**\n",
        "You will have at your disposal the ISIC 2017 dataset (https://challenge.isic-archive.com/data/#2017) already pre-processed, resized and quality checked. It is divided into Training (N=2000), Validation (N=150) and Test (N=600) sets.\n",
        "\n",
        "**Goal**\n",
        "The goal of this practical session is to classify images of skin lesions as either benign (nevus or seborrheic_keratosis) or melanoma (binary classification) using machine and deep learning algorithms.\n",
        "\n",
        "In the first part of the TP, you will manually compute some features relevant to the skin lesion classification (feature engineering) and then classify images using \"classical\" ML algorithms such as, logistic regression, SVM and Random Forests.\n",
        "\n",
        "In the second part, you will test the features learnt with Deep Learning algorithms. You will first train from scratch well-known CNN architectures (VGG, ResNet, DenseNet, etc..) and then leverage the representations learnt by these networks on a pre-training from Imagenet (fine-tuning, full-restimation).\n",
        "\n",
        "Please complete the code where you see **\"XXXXXXXXX\"** and answer the **Questions**\n"
      ],
      "metadata": {
        "id": "12KVxsLdz83m"
      }
    },
    {
      "cell_type": "code",
      "execution_count": 1,
      "metadata": {
        "id": "pQkZ88OILkWb",
        "colab": {
          "base_uri": "https://localhost:8080/"
        },
        "outputId": "bcd505ac-7195-42ce-ba76-9b9a7842c8ad"
      },
      "outputs": [
        {
          "output_type": "stream",
          "name": "stdout",
          "text": [
            "Collecting torchmetrics\n",
            "  Downloading torchmetrics-1.3.0.post0-py3-none-any.whl (840 kB)\n",
            "\u001b[2K     \u001b[90m━━━━━━━━━━━━━━━━━━━━━━━━━━━━━━━━━━━━━━━━\u001b[0m \u001b[32m840.2/840.2 kB\u001b[0m \u001b[31m7.0 MB/s\u001b[0m eta \u001b[36m0:00:00\u001b[0m\n",
            "\u001b[?25hRequirement already satisfied: numpy>1.20.0 in /usr/local/lib/python3.10/dist-packages (from torchmetrics) (1.23.5)\n",
            "Requirement already satisfied: packaging>17.1 in /usr/local/lib/python3.10/dist-packages (from torchmetrics) (23.2)\n",
            "Requirement already satisfied: torch>=1.10.0 in /usr/local/lib/python3.10/dist-packages (from torchmetrics) (2.1.0+cu121)\n",
            "Collecting lightning-utilities>=0.8.0 (from torchmetrics)\n",
            "  Downloading lightning_utilities-0.10.1-py3-none-any.whl (24 kB)\n",
            "Requirement already satisfied: setuptools in /usr/local/lib/python3.10/dist-packages (from lightning-utilities>=0.8.0->torchmetrics) (67.7.2)\n",
            "Requirement already satisfied: typing-extensions in /usr/local/lib/python3.10/dist-packages (from lightning-utilities>=0.8.0->torchmetrics) (4.5.0)\n",
            "Requirement already satisfied: filelock in /usr/local/lib/python3.10/dist-packages (from torch>=1.10.0->torchmetrics) (3.13.1)\n",
            "Requirement already satisfied: sympy in /usr/local/lib/python3.10/dist-packages (from torch>=1.10.0->torchmetrics) (1.12)\n",
            "Requirement already satisfied: networkx in /usr/local/lib/python3.10/dist-packages (from torch>=1.10.0->torchmetrics) (3.2.1)\n",
            "Requirement already satisfied: jinja2 in /usr/local/lib/python3.10/dist-packages (from torch>=1.10.0->torchmetrics) (3.1.3)\n",
            "Requirement already satisfied: fsspec in /usr/local/lib/python3.10/dist-packages (from torch>=1.10.0->torchmetrics) (2023.6.0)\n",
            "Requirement already satisfied: triton==2.1.0 in /usr/local/lib/python3.10/dist-packages (from torch>=1.10.0->torchmetrics) (2.1.0)\n",
            "Requirement already satisfied: MarkupSafe>=2.0 in /usr/local/lib/python3.10/dist-packages (from jinja2->torch>=1.10.0->torchmetrics) (2.1.4)\n",
            "Requirement already satisfied: mpmath>=0.19 in /usr/local/lib/python3.10/dist-packages (from sympy->torch>=1.10.0->torchmetrics) (1.3.0)\n",
            "Installing collected packages: lightning-utilities, torchmetrics\n",
            "Successfully installed lightning-utilities-0.10.1 torchmetrics-1.3.0.post0\n",
            "Collecting gdown==4.6.0\n",
            "  Downloading gdown-4.6.0-py3-none-any.whl (14 kB)\n",
            "Requirement already satisfied: filelock in /usr/local/lib/python3.10/dist-packages (from gdown==4.6.0) (3.13.1)\n",
            "Requirement already satisfied: requests[socks] in /usr/local/lib/python3.10/dist-packages (from gdown==4.6.0) (2.31.0)\n",
            "Requirement already satisfied: six in /usr/local/lib/python3.10/dist-packages (from gdown==4.6.0) (1.16.0)\n",
            "Requirement already satisfied: tqdm in /usr/local/lib/python3.10/dist-packages (from gdown==4.6.0) (4.66.1)\n",
            "Requirement already satisfied: beautifulsoup4 in /usr/local/lib/python3.10/dist-packages (from gdown==4.6.0) (4.11.2)\n",
            "Requirement already satisfied: soupsieve>1.2 in /usr/local/lib/python3.10/dist-packages (from beautifulsoup4->gdown==4.6.0) (2.5)\n",
            "Requirement already satisfied: charset-normalizer<4,>=2 in /usr/local/lib/python3.10/dist-packages (from requests[socks]->gdown==4.6.0) (3.3.2)\n",
            "Requirement already satisfied: idna<4,>=2.5 in /usr/local/lib/python3.10/dist-packages (from requests[socks]->gdown==4.6.0) (3.6)\n",
            "Requirement already satisfied: urllib3<3,>=1.21.1 in /usr/local/lib/python3.10/dist-packages (from requests[socks]->gdown==4.6.0) (2.0.7)\n",
            "Requirement already satisfied: certifi>=2017.4.17 in /usr/local/lib/python3.10/dist-packages (from requests[socks]->gdown==4.6.0) (2023.11.17)\n",
            "Requirement already satisfied: PySocks!=1.5.7,>=1.5.6 in /usr/local/lib/python3.10/dist-packages (from requests[socks]->gdown==4.6.0) (1.7.1)\n",
            "Installing collected packages: gdown\n",
            "  Attempting uninstall: gdown\n",
            "    Found existing installation: gdown 4.7.3\n",
            "    Uninstalling gdown-4.7.3:\n",
            "      Successfully uninstalled gdown-4.7.3\n",
            "Successfully installed gdown-4.6.0\n"
          ]
        }
      ],
      "source": [
        "import os\n",
        "import numpy as np\n",
        "import pandas as pd\n",
        "from skimage.io import imread\n",
        "from skimage.io import imsave\n",
        "from skimage.transform import resize\n",
        "from skimage import color\n",
        "from skimage import measure\n",
        "from skimage import transform\n",
        "from skimage.color import rgb2gray\n",
        "from scipy import ndimage\n",
        "from scipy import stats\n",
        "from scipy.stats import gaussian_kde\n",
        "import matplotlib.pyplot as plt\n",
        "from mpl_toolkits.axes_grid1 import AxesGrid\n",
        "import torch\n",
        "import glob\n",
        "import cv2\n",
        "from PIL import Image\n",
        "from PIL import ImageShow\n",
        "\n",
        "# pytorch libraries\n",
        "import torch\n",
        "from torch import optim,nn\n",
        "from torch.autograd import Variable\n",
        "from torch.utils.data import DataLoader,Dataset, TensorDataset\n",
        "from torchvision import models,transforms\n",
        "!pip install torchmetrics\n",
        "import torchmetrics\n",
        "\n",
        "# torchvision\n",
        "import torchvision.transforms.functional as TF\n",
        "from torch.utils.data import Dataset, DataLoader\n",
        "from torchvision.transforms.functional import InterpolationMode\n",
        "\n",
        "\n",
        "# sklearn libraries\n",
        "from sklearn.metrics import confusion_matrix\n",
        "from sklearn.model_selection import train_test_split\n",
        "from sklearn.metrics import classification_report\n",
        "\n",
        "\n",
        "%matplotlib inline\n",
        "\n",
        "try:\n",
        "  import google.colab\n",
        "  IN_COLAB = True\n",
        "  !pip install gdown==4.6.0 # with the following versions, there is an error\n",
        "except:\n",
        "  IN_COLAB = False"
      ]
    },
    {
      "cell_type": "markdown",
      "source": [
        "You can either download the data from my Google Drive or work locally."
      ],
      "metadata": {
        "id": "2vUnlFkU3SGr"
      }
    },
    {
      "cell_type": "code",
      "execution_count": 2,
      "metadata": {
        "id": "c0r--DZ47OJ2",
        "colab": {
          "base_uri": "https://localhost:8080/"
        },
        "outputId": "c8415ee8-bee6-48bf-9944-cb7d44b6240f"
      },
      "outputs": [
        {
          "output_type": "stream",
          "name": "stdout",
          "text": [
            "you are using google colab\n"
          ]
        },
        {
          "output_type": "stream",
          "name": "stderr",
          "text": [
            "Downloading...\n",
            "From: https://drive.google.com/uc?id=1iH5hkRN0wCgGklUN5df9u2Ue3UXAR4xZ\n",
            "To: /content/data/TrainCropped.zip\n",
            "100%|██████████| 31.6M/31.6M [00:01<00:00, 25.9MB/s]\n",
            "Downloading...\n",
            "From: https://drive.google.com/uc?id=1lyRZuV9UST55AEqwSy4mqMmh5yHGI1FM\n",
            "To: /content/data/TestCropped.zip\n",
            "100%|██████████| 10.7M/10.7M [00:00<00:00, 29.2MB/s]\n",
            "Downloading...\n",
            "From: https://drive.google.com/uc?id=1RLJOmqAnHCgiJ7qShQurpxNaRhjjPpJb\n",
            "To: /content/data/ValCropped.zip\n",
            "100%|██████████| 2.43M/2.43M [00:00<00:00, 147MB/s]\n"
          ]
        }
      ],
      "source": [
        "if IN_COLAB:\n",
        "  print(\"you are using google colab\")\n",
        "  import gdown\n",
        "  !mkdir ./data\n",
        "  gdown.download(id=\"1iH5hkRN0wCgGklUN5df9u2Ue3UXAR4xZ\", output='./data/TrainCropped.zip', quiet=False)\n",
        "  !unzip -qu \"./data/TrainCropped.zip\" -d \"./data\"\n",
        "  gdown.download(id=\"1lyRZuV9UST55AEqwSy4mqMmh5yHGI1FM\", output='./data/TestCropped.zip', quiet=False)\n",
        "  !unzip -qu \"./data/TestCropped.zip\" -d \"./data\"\n",
        "  gdown.download(id=\"1RLJOmqAnHCgiJ7qShQurpxNaRhjjPpJb\", output='./data/ValCropped.zip', quiet=False)\n",
        "  !unzip -qu \"./data/ValCropped.zip\" -d \"./data\"\n",
        "  !rm -rf ./data/TrainCropped.zip\n",
        "  !rm -rf ./data/TestCropped.zip\n",
        "  !rm -rf ./data/ValCropped.zip\n",
        "  path='./data/'\n",
        "else:\n",
        "  print('You are NOT using colab')\n",
        "  # we assume that folders of data are in the same folder as this jupyter notebook\n",
        "  path='' # if you change this path , you should also change idTRain, idVal and idTest\n"
      ]
    },
    {
      "cell_type": "markdown",
      "source": [
        "If there is an error (might happen with gdown) please upload the three files manually.\n",
        "Follow the following instructions:\n",
        "- go to the folder symbol on the left of your screen\n",
        "- click on the three vertical dots on the 'data' folder\n",
        "- upload (importer in french) the three folders\n",
        "That's it !"
      ],
      "metadata": {
        "id": "b2z2gHwk4tIS"
      }
    },
    {
      "cell_type": "code",
      "source": [
        "# if IN_COLAB:\n",
        "#   !unzip -qu \"./data/TrainCropped.zip\" -d \"./data\"\n",
        "#   !unzip -qu \"./data/TestCropped.zip\" -d \"./data\"\n",
        "#   !unzip -qu \"./data/ValCropped.zip\" -d \"./data\"\n",
        "#   !rm -rf ./data/TrainCropped.zip\n",
        "#   !rm -rf ./data/TestCropped.zip\n",
        "#   !rm -rf ./data/ValCropped.zip\n",
        "#   path='./data/'"
      ],
      "metadata": {
        "id": "nFcmZwt_3c1p"
      },
      "execution_count": 3,
      "outputs": []
    },
    {
      "cell_type": "markdown",
      "source": [
        "For the Deep Learning part, we strongly suggest using GPU"
      ],
      "metadata": {
        "id": "sZcvPTV43bYL"
      }
    },
    {
      "cell_type": "code",
      "execution_count": 4,
      "metadata": {
        "id": "g1lKfubgpHdy",
        "colab": {
          "base_uri": "https://localhost:8080/"
        },
        "outputId": "b124363a-a19d-4fdb-a7e0-0a6089f953fd"
      },
      "outputs": [
        {
          "output_type": "stream",
          "name": "stdout",
          "text": [
            "Is there a GPU card? True \n",
            "Number of GPU cards:  1 \n",
            "Which card GPU? Tesla T4\n",
            "Total GPU memory 15.84 GB. Free GPU memory 15.73 GB\n"
          ]
        }
      ],
      "source": [
        "if torch.cuda.is_available():\n",
        "  print('Is there a GPU card?', torch.cuda.is_available(),'\\nNumber of GPU cards: ', torch.cuda.device_count(), '\\nWhich card GPU?', torch.cuda.get_device_name(0))\n",
        "  print('Total GPU memory {1:.2f} GB. Free GPU memory {0:.2f} GB'.format(torch.cuda.mem_get_info()[0]/pow(10,9),torch.cuda.mem_get_info()[1]/pow(10,9)))"
      ]
    },
    {
      "cell_type": "markdown",
      "source": [
        "Let's load the data."
      ],
      "metadata": {
        "id": "UcVOKS5t3gnA"
      }
    },
    {
      "cell_type": "code",
      "execution_count": 5,
      "metadata": {
        "id": "YidL3vd9pNf3",
        "colab": {
          "base_uri": "https://localhost:8080/"
        },
        "outputId": "8d5228c1-f1fe-4deb-e127-91b306195d76"
      },
      "outputs": [
        {
          "output_type": "stream",
          "name": "stdout",
          "text": [
            "['./data/TrainCropped/ISIC_0013526.jpg', './data/TrainCropped/ISIC_0014806.jpg', './data/TrainCropped/ISIC_0000235.jpg', './data/TrainCropped/ISIC_0000331.jpg', './data/TrainCropped/ISIC_0010257.jpg', './data/TrainCropped/ISIC_0000467.jpg', './data/TrainCropped/ISIC_0014308.jpg', './data/TrainCropped/ISIC_0000077.jpg', './data/TrainCropped/ISIC_0013797.jpg', './data/TrainCropped/ISIC_0000013.jpg', './data/TrainCropped/ISIC_0000255.jpg', './data/TrainCropped/ISIC_0014357.jpg', './data/TrainCropped/ISIC_0013721.jpg', './data/TrainCropped/ISIC_0004715.jpg', './data/TrainCropped/ISIC_0009083.jpg', './data/TrainCropped/ISIC_0004168.jpg', './data/TrainCropped/ISIC_0010229.jpg', './data/TrainCropped/ISIC_0000146.jpg', './data/TrainCropped/ISIC_0011343.jpg', './data/TrainCropped/ISIC_0014723.jpg', './data/TrainCropped/ISIC_0013672.jpg', './data/TrainCropped/ISIC_0012788.jpg', './data/TrainCropped/ISIC_0000277.jpg', './data/TrainCropped/ISIC_0014891.jpg', './data/TrainCropped/ISIC_0014576.jpg', './data/TrainCropped/ISIC_0011176.jpg', './data/TrainCropped/ISIC_0013652.jpg', './data/TrainCropped/ISIC_0012116.jpg', './data/TrainCropped/ISIC_0013383.jpg', './data/TrainCropped/ISIC_0011306.jpg', './data/TrainCropped/ISIC_0013197.jpg', './data/TrainCropped/ISIC_0015044.jpg', './data/TrainCropped/ISIC_0000161.jpg', './data/TrainCropped/ISIC_0010562.jpg', './data/TrainCropped/ISIC_0015153.jpg', './data/TrainCropped/ISIC_0000340.jpg', './data/TrainCropped/ISIC_0012669.jpg', './data/TrainCropped/ISIC_0014845.jpg', './data/TrainCropped/ISIC_0013980.jpg', './data/TrainCropped/ISIC_0012320.jpg', './data/TrainCropped/ISIC_0014628.jpg', './data/TrainCropped/ISIC_0011294.jpg', './data/TrainCropped/ISIC_0011215.jpg', './data/TrainCropped/ISIC_0013326.jpg', './data/TrainCropped/ISIC_0000100.jpg', './data/TrainCropped/ISIC_0009870.jpg', './data/TrainCropped/ISIC_0011229.jpg', './data/TrainCropped/ISIC_0013224.jpg', './data/TrainCropped/ISIC_0014791.jpg', './data/TrainCropped/ISIC_0008992.jpg', './data/TrainCropped/ISIC_0013193.jpg', './data/TrainCropped/ISIC_0014760.jpg', './data/TrainCropped/ISIC_0012339.jpg', './data/TrainCropped/ISIC_0010025.jpg', './data/TrainCropped/ISIC_0013933.jpg', './data/TrainCropped/ISIC_0012702.jpg', './data/TrainCropped/ISIC_0000012.jpg', './data/TrainCropped/ISIC_0012506.jpg', './data/TrainCropped/ISIC_0013196.jpg', './data/TrainCropped/ISIC_0014108.jpg', './data/TrainCropped/ISIC_0013427.jpg', './data/TrainCropped/ISIC_0002871.jpg', './data/TrainCropped/ISIC_0011204.jpg', './data/TrainCropped/ISIC_0013719.jpg', './data/TrainCropped/ISIC_0012655.jpg', './data/TrainCropped/ISIC_0000523.jpg', './data/TrainCropped/ISIC_0014433.jpg', './data/TrainCropped/ISIC_0009930.jpg', './data/TrainCropped/ISIC_0000220.jpg', './data/TrainCropped/ISIC_0013039.jpg', './data/TrainCropped/ISIC_0012211.jpg', './data/TrainCropped/ISIC_0013341.jpg', './data/TrainCropped/ISIC_0011361.jpg', './data/TrainCropped/ISIC_0012521.jpg', './data/TrainCropped/ISIC_0012851.jpg', './data/TrainCropped/ISIC_0011085.jpg', './data/TrainCropped/ISIC_0012777.jpg', './data/TrainCropped/ISIC_0000024.jpg', './data/TrainCropped/ISIC_0014522.jpg', './data/TrainCropped/ISIC_0008879.jpg', './data/TrainCropped/ISIC_0014099.jpg', './data/TrainCropped/ISIC_0014843.jpg', './data/TrainCropped/ISIC_0010368.jpg', './data/TrainCropped/ISIC_0004166.jpg', './data/TrainCropped/ISIC_0011163.jpg', './data/TrainCropped/ISIC_0000554.jpg', './data/TrainCropped/ISIC_0000245.jpg', './data/TrainCropped/ISIC_0010595.jpg', './data/TrainCropped/ISIC_0013417.jpg', './data/TrainCropped/ISIC_0010267.jpg', './data/TrainCropped/ISIC_0000310.jpg', './data/TrainCropped/ISIC_0010174.jpg', './data/TrainCropped/ISIC_0000306.jpg', './data/TrainCropped/ISIC_0014569.jpg', './data/TrainCropped/ISIC_0011166.jpg', './data/TrainCropped/ISIC_0013075.jpg', './data/TrainCropped/ISIC_0012415.jpg', './data/TrainCropped/ISIC_0014264.jpg', './data/TrainCropped/ISIC_0000016.jpg', './data/TrainCropped/ISIC_0010329.jpg', './data/TrainCropped/ISIC_0010460.jpg', './data/TrainCropped/ISIC_0012233.jpg', './data/TrainCropped/ISIC_0000050.jpg', './data/TrainCropped/ISIC_0013888.jpg', './data/TrainCropped/ISIC_0000048.jpg', './data/TrainCropped/ISIC_0000105.jpg', './data/TrainCropped/ISIC_0014919.jpg', './data/TrainCropped/ISIC_0009898.jpg', './data/TrainCropped/ISIC_0009949.jpg', './data/TrainCropped/ISIC_0013342.jpg', './data/TrainCropped/ISIC_0012690.jpg', './data/TrainCropped/ISIC_0015166.jpg', './data/TrainCropped/ISIC_0014830.jpg', './data/TrainCropped/ISIC_0013052.jpg', './data/TrainCropped/ISIC_0014661.jpg', './data/TrainCropped/ISIC_0014195.jpg', './data/TrainCropped/ISIC_0010847.jpg', './data/TrainCropped/ISIC_0010336.jpg', './data/TrainCropped/ISIC_0013946.jpg', './data/TrainCropped/ISIC_0012674.jpg', './data/TrainCropped/ISIC_0012880.jpg', './data/TrainCropped/ISIC_0011162.jpg', './data/TrainCropped/ISIC_0011366.jpg', './data/TrainCropped/ISIC_0000549.jpg', './data/TrainCropped/ISIC_0013975.jpg', './data/TrainCropped/ISIC_0014922.jpg', './data/TrainCropped/ISIC_0010479.jpg', './data/TrainCropped/ISIC_0000900.jpg', './data/TrainCropped/ISIC_0011097.jpg', './data/TrainCropped/ISIC_0014630.jpg', './data/TrainCropped/ISIC_0000388.jpg', './data/TrainCropped/ISIC_0012664.jpg', './data/TrainCropped/ISIC_0013492.jpg', './data/TrainCropped/ISIC_0012685.jpg', './data/TrainCropped/ISIC_0014504.jpg', './data/TrainCropped/ISIC_0000317.jpg', './data/TrainCropped/ISIC_0015204.jpg', './data/TrainCropped/ISIC_0000043.jpg', './data/TrainCropped/ISIC_0009895.jpg', './data/TrainCropped/ISIC_0010472.jpg', './data/TrainCropped/ISIC_0010036.jpg', './data/TrainCropped/ISIC_0012696.jpg', './data/TrainCropped/ISIC_0000392.jpg', './data/TrainCropped/ISIC_0000263.jpg', './data/TrainCropped/ISIC_0014573.jpg', './data/TrainCropped/ISIC_0000522.jpg', './data/TrainCropped/ISIC_0009937.jpg', './data/TrainCropped/ISIC_0012699.jpg', './data/TrainCropped/ISIC_0013033.jpg', './data/TrainCropped/ISIC_0000465.jpg', './data/TrainCropped/ISIC_0010051.jpg', './data/TrainCropped/ISIC_0010191.jpg', './data/TrainCropped/ISIC_0004115.jpg', './data/TrainCropped/ISIC_0014692.jpg', './data/TrainCropped/ISIC_0000283.jpg', './data/TrainCropped/ISIC_0009920.jpg', './data/TrainCropped/ISIC_0012097.jpg', './data/TrainCropped/ISIC_0012672.jpg', './data/TrainCropped/ISIC_0014923.jpg', './data/TrainCropped/ISIC_0005187.jpg', './data/TrainCropped/ISIC_0000163.jpg', './data/TrainCropped/ISIC_0011298.jpg', './data/TrainCropped/ISIC_0013841.jpg', './data/TrainCropped/ISIC_0012806.jpg', './data/TrainCropped/ISIC_0013762.jpg', './data/TrainCropped/ISIC_0006193.jpg', './data/TrainCropped/ISIC_0000538.jpg', './data/TrainCropped/ISIC_0002780.jpg', './data/TrainCropped/ISIC_0000231.jpg', './data/TrainCropped/ISIC_0006940.jpg', './data/TrainCropped/ISIC_0013747.jpg', './data/TrainCropped/ISIC_0007475.jpg', './data/TrainCropped/ISIC_0000545.jpg', './data/TrainCropped/ISIC_0000419.jpg', './data/TrainCropped/ISIC_0012523.jpg', './data/TrainCropped/ISIC_0013189.jpg', './data/TrainCropped/ISIC_0012770.jpg', './data/TrainCropped/ISIC_0013927.jpg', './data/TrainCropped/ISIC_0000378.jpg', './data/TrainCropped/ISIC_0010856.jpg', './data/TrainCropped/ISIC_0006350.jpg', './data/TrainCropped/ISIC_0014397.jpg', './data/TrainCropped/ISIC_0010255.jpg', './data/TrainCropped/ISIC_0000420.jpg', './data/TrainCropped/ISIC_0012756.jpg', './data/TrainCropped/ISIC_0012789.jpg', './data/TrainCropped/ISIC_0010067.jpg', './data/TrainCropped/ISIC_0011124.jpg', './data/TrainCropped/ISIC_0010851.jpg', './data/TrainCropped/ISIC_0012719.jpg', './data/TrainCropped/ISIC_0000367.jpg', './data/TrainCropped/ISIC_0011119.jpg', './data/TrainCropped/ISIC_0011095.jpg', './data/TrainCropped/ISIC_0013433.jpg', './data/TrainCropped/ISIC_0000120.jpg', './data/TrainCropped/ISIC_0010846.jpg', './data/TrainCropped/ISIC_0000201.jpg', './data/TrainCropped/ISIC_0013438.jpg', './data/TrainCropped/ISIC_0000490.jpg', './data/TrainCropped/ISIC_0010074.jpg', './data/TrainCropped/ISIC_0010596.jpg', './data/TrainCropped/ISIC_0013801.jpg', './data/TrainCropped/ISIC_0012450.jpg', './data/TrainCropped/ISIC_0012897.jpg', './data/TrainCropped/ISIC_0012309.jpg', './data/TrainCropped/ISIC_0014570.jpg', './data/TrainCropped/ISIC_0012658.jpg', './data/TrainCropped/ISIC_0000390.jpg', './data/TrainCropped/ISIC_0014615.jpg', './data/TrainCropped/ISIC_0015189.jpg', './data/TrainCropped/ISIC_0011358.jpg', './data/TrainCropped/ISIC_0011303.jpg', './data/TrainCropped/ISIC_0014316.jpg', './data/TrainCropped/ISIC_0008552.jpg', './data/TrainCropped/ISIC_0000407.jpg', './data/TrainCropped/ISIC_0000080.jpg', './data/TrainCropped/ISIC_0011136.jpg', './data/TrainCropped/ISIC_0012675.jpg', './data/TrainCropped/ISIC_0013861.jpg', './data/TrainCropped/ISIC_0014802.jpg', './data/TrainCropped/ISIC_0012237.jpg', './data/TrainCropped/ISIC_0013320.jpg', './data/TrainCropped/ISIC_0012986.jpg', './data/TrainCropped/ISIC_0010216.jpg', './data/TrainCropped/ISIC_0000094.jpg', './data/TrainCropped/ISIC_0001140.jpg', './data/TrainCropped/ISIC_0011170.jpg', './data/TrainCropped/ISIC_0012969.jpg', './data/TrainCropped/ISIC_0000412.jpg', './data/TrainCropped/ISIC_0012891.jpg', './data/TrainCropped/ISIC_0002093.jpg', './data/TrainCropped/ISIC_0010566.jpg', './data/TrainCropped/ISIC_0014770.jpg', './data/TrainCropped/ISIC_0012873.jpg', './data/TrainCropped/ISIC_0013192.jpg', './data/TrainCropped/ISIC_0013782.jpg', './data/TrainCropped/ISIC_0012381.jpg', './data/TrainCropped/ISIC_0000268.jpg', './data/TrainCropped/ISIC_0009967.jpg', './data/TrainCropped/ISIC_0010340.jpg', './data/TrainCropped/ISIC_0012261.jpg', './data/TrainCropped/ISIC_0012823.jpg', './data/TrainCropped/ISIC_0000543.jpg', './data/TrainCropped/ISIC_0010365.jpg', './data/TrainCropped/ISIC_0012683.jpg', './data/TrainCropped/ISIC_0000056.jpg', './data/TrainCropped/ISIC_0007322.jpg', './data/TrainCropped/ISIC_0012460.jpg', './data/TrainCropped/ISIC_0002489.jpg', './data/TrainCropped/ISIC_0000509.jpg', './data/TrainCropped/ISIC_0014527.jpg', './data/TrainCropped/ISIC_0014726.jpg', './data/TrainCropped/ISIC_0013832.jpg', './data/TrainCropped/ISIC_0012459.jpg', './data/TrainCropped/ISIC_0013676.jpg', './data/TrainCropped/ISIC_0000301.jpg', './data/TrainCropped/ISIC_0013121.jpg', './data/TrainCropped/ISIC_0000088.jpg', './data/TrainCropped/ISIC_0010327.jpg', './data/TrainCropped/ISIC_0010581.jpg', './data/TrainCropped/ISIC_0000338.jpg', './data/TrainCropped/ISIC_0014925.jpg', './data/TrainCropped/ISIC_0000323.jpg', './data/TrainCropped/ISIC_0000488.jpg', './data/TrainCropped/ISIC_0014076.jpg', './data/TrainCropped/ISIC_0000107.jpg', './data/TrainCropped/ISIC_0009882.jpg', './data/TrainCropped/ISIC_0014156.jpg', './data/TrainCropped/ISIC_0009966.jpg', './data/TrainCropped/ISIC_0007038.jpg', './data/TrainCropped/ISIC_0012495.jpg', './data/TrainCropped/ISIC_0000540.jpg', './data/TrainCropped/ISIC_0000410.jpg', './data/TrainCropped/ISIC_0013675.jpg', './data/TrainCropped/ISIC_0010248.jpg', './data/TrainCropped/ISIC_0009910.jpg', './data/TrainCropped/ISIC_0013680.jpg', './data/TrainCropped/ISIC_0000218.jpg', './data/TrainCropped/ISIC_0010382.jpg', './data/TrainCropped/ISIC_0014079.jpg', './data/TrainCropped/ISIC_0014821.jpg', './data/TrainCropped/ISIC_0010367.jpg', './data/TrainCropped/ISIC_0013845.jpg', './data/TrainCropped/ISIC_0010471.jpg', './data/TrainCropped/ISIC_0012413.jpg', './data/TrainCropped/ISIC_0015079.jpg', './data/TrainCropped/ISIC_0010075.jpg', './data/TrainCropped/ISIC_0006711.jpg', './data/TrainCropped/ISIC_0013044.jpg', './data/TrainCropped/ISIC_0000229.jpg', './data/TrainCropped/ISIC_0000276.jpg', './data/TrainCropped/ISIC_0002469.jpg', './data/TrainCropped/ISIC_0010093.jpg', './data/TrainCropped/ISIC_0009953.jpg', './data/TrainCropped/ISIC_0014715.jpg', './data/TrainCropped/ISIC_0000381.jpg', './data/TrainCropped/ISIC_0013674.jpg', './data/TrainCropped/ISIC_0013369.jpg', './data/TrainCropped/ISIC_0014731.jpg', './data/TrainCropped/ISIC_0015110.jpg', './data/TrainCropped/ISIC_0009896.jpg', './data/TrainCropped/ISIC_0012478.jpg', './data/TrainCropped/ISIC_0000505.jpg', './data/TrainCropped/ISIC_0012790.jpg', './data/TrainCropped/ISIC_0013025.jpg', './data/TrainCropped/ISIC_0011317.jpg', './data/TrainCropped/ISIC_0000442.jpg', './data/TrainCropped/ISIC_0014838.jpg', './data/TrainCropped/ISIC_0014273.jpg', './data/TrainCropped/ISIC_0014694.jpg', './data/TrainCropped/ISIC_0013032.jpg', './data/TrainCropped/ISIC_0013080.jpg', './data/TrainCropped/ISIC_0001102.jpg', './data/TrainCropped/ISIC_0012665.jpg', './data/TrainCropped/ISIC_0013177.jpg', './data/TrainCropped/ISIC_0014515.jpg', './data/TrainCropped/ISIC_0009964.jpg', './data/TrainCropped/ISIC_0000075.jpg', './data/TrainCropped/ISIC_0011205.jpg', './data/TrainCropped/ISIC_0010575.jpg', './data/TrainCropped/ISIC_0014851.jpg', './data/TrainCropped/ISIC_0013554.jpg', './data/TrainCropped/ISIC_0002673.jpg', './data/TrainCropped/ISIC_0011131.jpg', './data/TrainCropped/ISIC_0000199.jpg', './data/TrainCropped/ISIC_0000217.jpg', './data/TrainCropped/ISIC_0014525.jpg', './data/TrainCropped/ISIC_0009969.jpg', './data/TrainCropped/ISIC_0009955.jpg', './data/TrainCropped/ISIC_0012697.jpg', './data/TrainCropped/ISIC_0009188.jpg', './data/TrainCropped/ISIC_0010022.jpg', './data/TrainCropped/ISIC_0000222.jpg', './data/TrainCropped/ISIC_0008659.jpg', './data/TrainCropped/ISIC_0000203.jpg', './data/TrainCropped/ISIC_0011083.jpg', './data/TrainCropped/ISIC_0012376.jpg', './data/TrainCropped/ISIC_0012516.jpg', './data/TrainCropped/ISIC_0011099.jpg', './data/TrainCropped/ISIC_0013405.jpg', './data/TrainCropped/ISIC_0014029.jpg', './data/TrainCropped/ISIC_0015158.jpg', './data/TrainCropped/ISIC_0012489.jpg', './data/TrainCropped/ISIC_0010863.jpg', './data/TrainCropped/ISIC_0013150.jpg', './data/TrainCropped/ISIC_0010447.jpg', './data/TrainCropped/ISIC_0000101.jpg', './data/TrainCropped/ISIC_0014045.jpg', './data/TrainCropped/ISIC_0000032.jpg', './data/TrainCropped/ISIC_0000167.jpg', './data/TrainCropped/ISIC_0013592.jpg', './data/TrainCropped/ISIC_0010850.jpg', './data/TrainCropped/ISIC_0010474.jpg', './data/TrainCropped/ISIC_0011330.jpg', './data/TrainCropped/ISIC_0010557.jpg', './data/TrainCropped/ISIC_0013371.jpg', './data/TrainCropped/ISIC_0002459.jpg', './data/TrainCropped/ISIC_0013243.jpg', './data/TrainCropped/ISIC_0013274.jpg', './data/TrainCropped/ISIC_0012905.jpg', './data/TrainCropped/ISIC_0000326.jpg', './data/TrainCropped/ISIC_0000208.jpg', './data/TrainCropped/ISIC_0000189.jpg', './data/TrainCropped/ISIC_0001148.jpg', './data/TrainCropped/ISIC_0012704.jpg', './data/TrainCropped/ISIC_0000242.jpg', './data/TrainCropped/ISIC_0013146.jpg', './data/TrainCropped/ISIC_0012501.jpg', './data/TrainCropped/ISIC_0012230.jpg', './data/TrainCropped/ISIC_0000433.jpg', './data/TrainCropped/ISIC_0006800.jpg', './data/TrainCropped/ISIC_0010246.jpg', './data/TrainCropped/ISIC_0000469.jpg', './data/TrainCropped/ISIC_0012303.jpg', './data/TrainCropped/ISIC_0012944.jpg', './data/TrainCropped/ISIC_0013639.jpg', './data/TrainCropped/ISIC_0000137.jpg', './data/TrainCropped/ISIC_0006612.jpg', './data/TrainCropped/ISIC_0000139.jpg', './data/TrainCropped/ISIC_0013129.jpg', './data/TrainCropped/ISIC_0000484.jpg', './data/TrainCropped/ISIC_0014183.jpg', './data/TrainCropped/ISIC_0005787.jpg', './data/TrainCropped/ISIC_0014975.jpg', './data/TrainCropped/ISIC_0014190.jpg', './data/TrainCropped/ISIC_0013302.jpg', './data/TrainCropped/ISIC_0012311.jpg', './data/TrainCropped/ISIC_0013982.jpg', './data/TrainCropped/ISIC_0013775.jpg', './data/TrainCropped/ISIC_0012360.jpg', './data/TrainCropped/ISIC_0011207.jpg', './data/TrainCropped/ISIC_0013023.jpg', './data/TrainCropped/ISIC_0011349.jpg', './data/TrainCropped/ISIC_0011114.jpg', './data/TrainCropped/ISIC_0013682.jpg', './data/TrainCropped/ISIC_0014748.jpg', './data/TrainCropped/ISIC_0000037.jpg', './data/TrainCropped/ISIC_0014529.jpg', './data/TrainCropped/ISIC_0010858.jpg', './data/TrainCropped/ISIC_0000379.jpg', './data/TrainCropped/ISIC_0014317.jpg', './data/TrainCropped/ISIC_0014834.jpg', './data/TrainCropped/ISIC_0010078.jpg', './data/TrainCropped/ISIC_0011217.jpg', './data/TrainCropped/ISIC_0000156.jpg', './data/TrainCropped/ISIC_0013167.jpg', './data/TrainCropped/ISIC_0000157.jpg', './data/TrainCropped/ISIC_0014592.jpg', './data/TrainCropped/ISIC_0001118.jpg', './data/TrainCropped/ISIC_0010225.jpg', './data/TrainCropped/ISIC_0000009.jpg', './data/TrainCropped/ISIC_0000328.jpg', './data/TrainCropped/ISIC_0013970.jpg', './data/TrainCropped/ISIC_0011305.jpg', './data/TrainCropped/ISIC_0013499.jpg', './data/TrainCropped/ISIC_0014337.jpg', './data/TrainCropped/ISIC_0015170.jpg', './data/TrainCropped/ISIC_0009873.jpg', './data/TrainCropped/ISIC_0013136.jpg', './data/TrainCropped/ISIC_0000474.jpg', './data/TrainCropped/ISIC_0000121.jpg', './data/TrainCropped/ISIC_0014026.jpg', './data/TrainCropped/ISIC_0012238.jpg', './data/TrainCropped/ISIC_0012386.jpg', './data/TrainCropped/ISIC_0003308.jpg', './data/TrainCropped/ISIC_0011143.jpg', './data/TrainCropped/ISIC_0014636.jpg', './data/TrainCropped/ISIC_0009917.jpg', './data/TrainCropped/ISIC_0000085.jpg', './data/TrainCropped/ISIC_0009975.jpg', './data/TrainCropped/ISIC_0014081.jpg', './data/TrainCropped/ISIC_0014580.jpg', './data/TrainCropped/ISIC_0011348.jpg', './data/TrainCropped/ISIC_0000298.jpg', './data/TrainCropped/ISIC_0009909.jpg', './data/TrainCropped/ISIC_0013437.jpg', './data/TrainCropped/ISIC_0008626.jpg', './data/TrainCropped/ISIC_0014299.jpg', './data/TrainCropped/ISIC_0000377.jpg', './data/TrainCropped/ISIC_0013097.jpg', './data/TrainCropped/ISIC_0013315.jpg', './data/TrainCropped/ISIC_0012378.jpg', './data/TrainCropped/ISIC_0012481.jpg', './data/TrainCropped/ISIC_0000387.jpg', './data/TrainCropped/ISIC_0012987.jpg', './data/TrainCropped/ISIC_0009950.jpg', './data/TrainCropped/ISIC_0009981.jpg', './data/TrainCropped/ISIC_0009758.jpg', './data/TrainCropped/ISIC_0011098.jpg', './data/TrainCropped/ISIC_0012700.jpg', './data/TrainCropped/ISIC_0010603.jpg', './data/TrainCropped/ISIC_0014577.jpg', './data/TrainCropped/ISIC_0002476.jpg', './data/TrainCropped/ISIC_0013429.jpg', './data/TrainCropped/ISIC_0000140.jpg', './data/TrainCropped/ISIC_0000325.jpg', './data/TrainCropped/ISIC_0010249.jpg', './data/TrainCropped/ISIC_0013090.jpg', './data/TrainCropped/ISIC_0010261.jpg', './data/TrainCropped/ISIC_0012813.jpg', './data/TrainCropped/ISIC_0013910.jpg', './data/TrainCropped/ISIC_0009979.jpg', './data/TrainCropped/ISIC_0013687.jpg', './data/TrainCropped/ISIC_0011117.jpg', './data/TrainCropped/ISIC_0011344.jpg', './data/TrainCropped/ISIC_0010584.jpg', './data/TrainCropped/ISIC_0002647.jpg', './data/TrainCropped/ISIC_0011135.jpg', './data/TrainCropped/ISIC_0000240.jpg', './data/TrainCropped/ISIC_0000209.jpg', './data/TrainCropped/ISIC_0000063.jpg', './data/TrainCropped/ISIC_0000365.jpg', './data/TrainCropped/ISIC_0012416.jpg', './data/TrainCropped/ISIC_0011203.jpg', './data/TrainCropped/ISIC_0000359.jpg', './data/TrainCropped/ISIC_0012445.jpg', './data/TrainCropped/ISIC_0012359.jpg', './data/TrainCropped/ISIC_0011140.jpg', './data/TrainCropped/ISIC_0000495.jpg', './data/TrainCropped/ISIC_0008396.jpg', './data/TrainCropped/ISIC_0013819.jpg', './data/TrainCropped/ISIC_0000498.jpg', './data/TrainCropped/ISIC_0014395.jpg', './data/TrainCropped/ISIC_0010318.jpg', './data/TrainCropped/ISIC_0012715.jpg', './data/TrainCropped/ISIC_0000051.jpg', './data/TrainCropped/ISIC_0015082.jpg', './data/TrainCropped/ISIC_0004110.jpg', './data/TrainCropped/ISIC_0011227.jpg', './data/TrainCropped/ISIC_0014187.jpg', './data/TrainCropped/ISIC_0010854.jpg', './data/TrainCropped/ISIC_0012663.jpg', './data/TrainCropped/ISIC_0010256.jpg', './data/TrainCropped/ISIC_0000186.jpg', './data/TrainCropped/ISIC_0014150.jpg', './data/TrainCropped/ISIC_0009860.jpg', './data/TrainCropped/ISIC_0005548.jpg', './data/TrainCropped/ISIC_0013000.jpg', './data/TrainCropped/ISIC_0012657.jpg', './data/TrainCropped/ISIC_0000103.jpg', './data/TrainCropped/ISIC_0012107.jpg', './data/TrainCropped/ISIC_0013713.jpg', './data/TrainCropped/ISIC_0011333.jpg', './data/TrainCropped/ISIC_0013163.jpg', './data/TrainCropped/ISIC_0014769.jpg', './data/TrainCropped/ISIC_0013606.jpg', './data/TrainCropped/ISIC_0000193.jpg', './data/TrainCropped/ISIC_0012828.jpg', './data/TrainCropped/ISIC_0009880.jpg', './data/TrainCropped/ISIC_0014621.jpg', './data/TrainCropped/ISIC_0000015.jpg', './data/TrainCropped/ISIC_0008029.jpg', './data/TrainCropped/ISIC_0012332.jpg', './data/TrainCropped/ISIC_0013725.jpg', './data/TrainCropped/ISIC_0002488.jpg', './data/TrainCropped/ISIC_0010186.jpg', './data/TrainCropped/ISIC_0000138.jpg', './data/TrainCropped/ISIC_0009971.jpg', './data/TrainCropped/ISIC_0014739.jpg', './data/TrainCropped/ISIC_0014498.jpg', './data/TrainCropped/ISIC_0012464.jpg', './data/TrainCropped/ISIC_0014915.jpg', './data/TrainCropped/ISIC_0000278.jpg', './data/TrainCropped/ISIC_0011328.jpg', './data/TrainCropped/ISIC_0000468.jpg', './data/TrainCropped/ISIC_0000322.jpg', './data/TrainCropped/ISIC_0009998.jpg', './data/TrainCropped/ISIC_0000254.jpg', './data/TrainCropped/ISIC_0000129.jpg', './data/TrainCropped/ISIC_0012744.jpg', './data/TrainCropped/ISIC_0013599.jpg', './data/TrainCropped/ISIC_0001100.jpg', './data/TrainCropped/ISIC_0014004.jpg', './data/TrainCropped/ISIC_0013166.jpg', './data/TrainCropped/ISIC_0012209.jpg', './data/TrainCropped/ISIC_0013517.jpg', './data/TrainCropped/ISIC_0000205.jpg', './data/TrainCropped/ISIC_0000343.jpg', './data/TrainCropped/ISIC_0008145.jpg', './data/TrainCropped/ISIC_0014730.jpg', './data/TrainCropped/ISIC_0000252.jpg', './data/TrainCropped/ISIC_0012526.jpg', './data/TrainCropped/ISIC_0014848.jpg', './data/TrainCropped/ISIC_0013965.jpg', './data/TrainCropped/ISIC_0010441.jpg', './data/TrainCropped/ISIC_0010358.jpg', './data/TrainCropped/ISIC_0000274.jpg', './data/TrainCropped/ISIC_0015233.jpg', './data/TrainCropped/ISIC_0012384.jpg', './data/TrainCropped/ISIC_0000370.jpg', './data/TrainCropped/ISIC_0014083.jpg', './data/TrainCropped/ISIC_0013112.jpg', './data/TrainCropped/ISIC_0010102.jpg', './data/TrainCropped/ISIC_0013275.jpg', './data/TrainCropped/ISIC_0011372.jpg', './data/TrainCropped/ISIC_0014855.jpg', './data/TrainCropped/ISIC_0010053.jpg', './data/TrainCropped/ISIC_0009888.jpg', './data/TrainCropped/ISIC_0000256.jpg', './data/TrainCropped/ISIC_0000192.jpg', './data/TrainCropped/ISIC_0000214.jpg', './data/TrainCropped/ISIC_0010092.jpg', './data/TrainCropped/ISIC_0014657.jpg', './data/TrainCropped/ISIC_0010047.jpg', './data/TrainCropped/ISIC_0000288.jpg', './data/TrainCropped/ISIC_0012740.jpg', './data/TrainCropped/ISIC_0000038.jpg', './data/TrainCropped/ISIC_0010568.jpg', './data/TrainCropped/ISIC_0013400.jpg', './data/TrainCropped/ISIC_0000143.jpg', './data/TrainCropped/ISIC_0000480.jpg', './data/TrainCropped/ISIC_0000184.jpg', './data/TrainCropped/ISIC_0013329.jpg', './data/TrainCropped/ISIC_0010476.jpg', './data/TrainCropped/ISIC_0010262.jpg', './data/TrainCropped/ISIC_0000460.jpg', './data/TrainCropped/ISIC_0010602.jpg', './data/TrainCropped/ISIC_0013001.jpg', './data/TrainCropped/ISIC_0014311.jpg', './data/TrainCropped/ISIC_0012721.jpg', './data/TrainCropped/ISIC_0013972.jpg', './data/TrainCropped/ISIC_0014866.jpg', './data/TrainCropped/ISIC_0010456.jpg', './data/TrainCropped/ISIC_0014641.jpg', './data/TrainCropped/ISIC_0011089.jpg', './data/TrainCropped/ISIC_0000206.jpg', './data/TrainCropped/ISIC_0013424.jpg', './data/TrainCropped/ISIC_0014274.jpg', './data/TrainCropped/ISIC_0014149.jpg', './data/TrainCropped/ISIC_0012662.jpg', './data/TrainCropped/ISIC_0010222.jpg', './data/TrainCropped/ISIC_0013807.jpg', './data/TrainCropped/ISIC_0009935.jpg', './data/TrainCropped/ISIC_0010265.jpg', './data/TrainCropped/ISIC_0012374.jpg', './data/TrainCropped/ISIC_0013835.jpg', './data/TrainCropped/ISIC_0013227.jpg', './data/TrainCropped/ISIC_0000491.jpg', './data/TrainCropped/ISIC_0014061.jpg', './data/TrainCropped/ISIC_0012539.jpg', './data/TrainCropped/ISIC_0013731.jpg', './data/TrainCropped/ISIC_0000409.jpg', './data/TrainCropped/ISIC_0013055.jpg', './data/TrainCropped/ISIC_0012742.jpg', './data/TrainCropped/ISIC_0000040.jpg', './data/TrainCropped/ISIC_0008507.jpg', './data/TrainCropped/ISIC_0010087.jpg', './data/TrainCropped/ISIC_0012285.jpg', './data/TrainCropped/ISIC_0012982.jpg', './data/TrainCropped/ISIC_0009252.jpg', './data/TrainCropped/ISIC_0000355.jpg', './data/TrainCropped/ISIC_0012263.jpg', './data/TrainCropped/ISIC_0000234.jpg', './data/TrainCropped/ISIC_0013684.jpg', './data/TrainCropped/ISIC_0015181.jpg', './data/TrainCropped/ISIC_0012811.jpg', './data/TrainCropped/ISIC_0012865.jpg', './data/TrainCropped/ISIC_0010240.jpg', './data/TrainCropped/ISIC_0001131.jpg', './data/TrainCropped/ISIC_0000342.jpg', './data/TrainCropped/ISIC_0014606.jpg', './data/TrainCropped/ISIC_0000028.jpg', './data/TrainCropped/ISIC_0013839.jpg', './data/TrainCropped/ISIC_0012749.jpg', './data/TrainCropped/ISIC_0013065.jpg', './data/TrainCropped/ISIC_0012544.jpg', './data/TrainCropped/ISIC_0012298.jpg', './data/TrainCropped/ISIC_0008294.jpg', './data/TrainCropped/ISIC_0014783.jpg', './data/TrainCropped/ISIC_0000449.jpg', './data/TrainCropped/ISIC_0010350.jpg', './data/TrainCropped/ISIC_0012679.jpg', './data/TrainCropped/ISIC_0013126.jpg', './data/TrainCropped/ISIC_0010494.jpg', './data/TrainCropped/ISIC_0000265.jpg', './data/TrainCropped/ISIC_0010586.jpg', './data/TrainCropped/ISIC_0000017.jpg', './data/TrainCropped/ISIC_0012224.jpg', './data/TrainCropped/ISIC_0011161.jpg', './data/TrainCropped/ISIC_0000385.jpg', './data/TrainCropped/ISIC_0012473.jpg', './data/TrainCropped/ISIC_0014114.jpg', './data/TrainCropped/ISIC_0014754.jpg', './data/TrainCropped/ISIC_0014699.jpg', './data/TrainCropped/ISIC_0012487.jpg', './data/TrainCropped/ISIC_0000384.jpg', './data/TrainCropped/ISIC_0012435.jpg', './data/TrainCropped/ISIC_0012268.jpg', './data/TrainCropped/ISIC_0010201.jpg', './data/TrainCropped/ISIC_0000431.jpg', './data/TrainCropped/ISIC_0014762.jpg', './data/TrainCropped/ISIC_0000185.jpg', './data/TrainCropped/ISIC_0012957.jpg', './data/TrainCropped/ISIC_0010032.jpg', './data/TrainCropped/ISIC_0012155.jpg', './data/TrainCropped/ISIC_0014654.jpg', './data/TrainCropped/ISIC_0013160.jpg', './data/TrainCropped/ISIC_0013222.jpg', './data/TrainCropped/ISIC_0010379.jpg', './data/TrainCropped/ISIC_0010015.jpg', './data/TrainCropped/ISIC_0011315.jpg', './data/TrainCropped/ISIC_0000132.jpg', './data/TrainCropped/ISIC_0000003.jpg', './data/TrainCropped/ISIC_0005555.jpg', './data/TrainCropped/ISIC_0000122.jpg', './data/TrainCropped/ISIC_0009885.jpg', './data/TrainCropped/ISIC_0000354.jpg', './data/TrainCropped/ISIC_0000081.jpg', './data/TrainCropped/ISIC_0013690.jpg', './data/TrainCropped/ISIC_0000097.jpg', './data/TrainCropped/ISIC_0013047.jpg', './data/TrainCropped/ISIC_0000482.jpg', './data/TrainCropped/ISIC_0013922.jpg', './data/TrainCropped/ISIC_0014696.jpg', './data/TrainCropped/ISIC_0009915.jpg', './data/TrainCropped/ISIC_0000321.jpg', './data/TrainCropped/ISIC_0013173.jpg', './data/TrainCropped/ISIC_0014088.jpg', './data/TrainCropped/ISIC_0013685.jpg', './data/TrainCropped/ISIC_0014658.jpg', './data/TrainCropped/ISIC_0014327.jpg', './data/TrainCropped/ISIC_0010215.jpg', './data/TrainCropped/ISIC_0000227.jpg', './data/TrainCropped/ISIC_0002107.jpg', './data/TrainCropped/ISIC_0010553.jpg', './data/TrainCropped/ISIC_0012281.jpg', './data/TrainCropped/ISIC_0006114.jpg', './data/TrainCropped/ISIC_0010057.jpg', './data/TrainCropped/ISIC_0013865.jpg', './data/TrainCropped/ISIC_0000216.jpg', './data/TrainCropped/ISIC_0014093.jpg', './data/TrainCropped/ISIC_0000324.jpg', './data/TrainCropped/ISIC_0014808.jpg', './data/TrainCropped/ISIC_0011110.jpg', './data/TrainCropped/ISIC_0012930.jpg', './data/TrainCropped/ISIC_0013967.jpg', './data/TrainCropped/ISIC_0013014.jpg', './data/TrainCropped/ISIC_0013213.jpg', './data/TrainCropped/ISIC_0010348.jpg', './data/TrainCropped/ISIC_0010589.jpg', './data/TrainCropped/ISIC_0014263.jpg', './data/TrainCropped/ISIC_0010844.jpg', './data/TrainCropped/ISIC_0013187.jpg', './data/TrainCropped/ISIC_0011310.jpg', './data/TrainCropped/ISIC_0000380.jpg', './data/TrainCropped/ISIC_0000155.jpg', './data/TrainCropped/ISIC_0015045.jpg', './data/TrainCropped/ISIC_0012998.jpg', './data/TrainCropped/ISIC_0014158.jpg', './data/TrainCropped/ISIC_0014683.jpg', './data/TrainCropped/ISIC_0000456.jpg', './data/TrainCropped/ISIC_0011208.jpg', './data/TrainCropped/ISIC_0015190.jpg', './data/TrainCropped/ISIC_0014131.jpg', './data/TrainCropped/ISIC_0010081.jpg', './data/TrainCropped/ISIC_0000882.jpg', './data/TrainCropped/ISIC_0014189.jpg', './data/TrainCropped/ISIC_0013808.jpg', './data/TrainCropped/ISIC_0014144.jpg', './data/TrainCropped/ISIC_0000532.jpg', './data/TrainCropped/ISIC_0012854.jpg', './data/TrainCropped/ISIC_0014013.jpg', './data/TrainCropped/ISIC_0002438.jpg', './data/TrainCropped/ISIC_0009901.jpg', './data/TrainCropped/ISIC_0014651.jpg', './data/TrainCropped/ISIC_0012945.jpg', './data/TrainCropped/ISIC_0000350.jpg', './data/TrainCropped/ISIC_0000536.jpg', './data/TrainCropped/ISIC_0014646.jpg', './data/TrainCropped/ISIC_0013443.jpg', './data/TrainCropped/ISIC_0000067.jpg', './data/TrainCropped/ISIC_0012962.jpg', './data/TrainCropped/ISIC_0009881.jpg', './data/TrainCropped/ISIC_0000204.jpg', './data/TrainCropped/ISIC_0012527.jpg', './data/TrainCropped/ISIC_0013155.jpg', './data/TrainCropped/ISIC_0000174.jpg', './data/TrainCropped/ISIC_0015038.jpg', './data/TrainCropped/ISIC_0013610.jpg', './data/TrainCropped/ISIC_0014475.jpg', './data/TrainCropped/ISIC_0014046.jpg', './data/TrainCropped/ISIC_0000124.jpg', './data/TrainCropped/ISIC_0013667.jpg', './data/TrainCropped/ISIC_0011168.jpg', './data/TrainCropped/ISIC_0000470.jpg', './data/TrainCropped/ISIC_0010212.jpg', './data/TrainCropped/ISIC_0000403.jpg', './data/TrainCropped/ISIC_0013257.jpg', './data/TrainCropped/ISIC_0005000.jpg', './data/TrainCropped/ISIC_0013141.jpg', './data/TrainCropped/ISIC_0003051.jpg', './data/TrainCropped/ISIC_0014836.jpg', './data/TrainCropped/ISIC_0010598.jpg', './data/TrainCropped/ISIC_0010599.jpg', './data/TrainCropped/ISIC_0014716.jpg', './data/TrainCropped/ISIC_0014797.jpg', './data/TrainCropped/ISIC_0013294.jpg', './data/TrainCropped/ISIC_0011171.jpg', './data/TrainCropped/ISIC_0000243.jpg', './data/TrainCropped/ISIC_0000135.jpg', './data/TrainCropped/ISIC_0013397.jpg', './data/TrainCropped/ISIC_0013184.jpg', './data/TrainCropped/ISIC_0013742.jpg', './data/TrainCropped/ISIC_0013595.jpg', './data/TrainCropped/ISIC_0015295.jpg', './data/TrainCropped/ISIC_0010254.jpg', './data/TrainCropped/ISIC_0012678.jpg', './data/TrainCropped/ISIC_0010569.jpg', './data/TrainCropped/ISIC_0013395.jpg', './data/TrainCropped/ISIC_0010040.jpg', './data/TrainCropped/ISIC_0013596.jpg', './data/TrainCropped/ISIC_0011214.jpg', './data/TrainCropped/ISIC_0012182.jpg', './data/TrainCropped/ISIC_0000034.jpg', './data/TrainCropped/ISIC_0014929.jpg', './data/TrainCropped/ISIC_0012773.jpg', './data/TrainCropped/ISIC_0010558.jpg', './data/TrainCropped/ISIC_0012940.jpg', './data/TrainCropped/ISIC_0012835.jpg', './data/TrainCropped/ISIC_0014926.jpg', './data/TrainCropped/ISIC_0009921.jpg', './data/TrainCropped/ISIC_0013489.jpg', './data/TrainCropped/ISIC_0013890.jpg', './data/TrainCropped/ISIC_0013689.jpg', './data/TrainCropped/ISIC_0010372.jpg', './data/TrainCropped/ISIC_0010055.jpg', './data/TrainCropped/ISIC_0013803.jpg', './data/TrainCropped/ISIC_0010176.jpg', './data/TrainCropped/ISIC_0013306.jpg', './data/TrainCropped/ISIC_0012883.jpg', './data/TrainCropped/ISIC_0012902.jpg', './data/TrainCropped/ISIC_0013054.jpg', './data/TrainCropped/ISIC_0000226.jpg', './data/TrainCropped/ISIC_0012118.jpg', './data/TrainCropped/ISIC_0000197.jpg', './data/TrainCropped/ISIC_0013921.jpg', './data/TrainCropped/ISIC_0000521.jpg', './data/TrainCropped/ISIC_0013084.jpg', './data/TrainCropped/ISIC_0010205.jpg', './data/TrainCropped/ISIC_0011144.jpg', './data/TrainCropped/ISIC_0014072.jpg', './data/TrainCropped/ISIC_0009344.jpg', './data/TrainCropped/ISIC_0000547.jpg', './data/TrainCropped/ISIC_0011211.jpg', './data/TrainCropped/ISIC_0014133.jpg', './data/TrainCropped/ISIC_0002353.jpg', './data/TrainCropped/ISIC_0014782.jpg', './data/TrainCropped/ISIC_0002206.jpg', './data/TrainCropped/ISIC_0012494.jpg', './data/TrainCropped/ISIC_0011225.jpg', './data/TrainCropped/ISIC_0014684.jpg', './data/TrainCropped/ISIC_0007557.jpg', './data/TrainCropped/ISIC_0000421.jpg', './data/TrainCropped/ISIC_0000211.jpg', './data/TrainCropped/ISIC_0012334.jpg', './data/TrainCropped/ISIC_0009533.jpg', './data/TrainCropped/ISIC_0012278.jpg', './data/TrainCropped/ISIC_0006795.jpg', './data/TrainCropped/ISIC_0008116.jpg', './data/TrainCropped/ISIC_0013094.jpg', './data/TrainCropped/ISIC_0012089.jpg', './data/TrainCropped/ISIC_0013799.jpg', './data/TrainCropped/ISIC_0000023.jpg', './data/TrainCropped/ISIC_0009884.jpg', './data/TrainCropped/ISIC_0011387.jpg', './data/TrainCropped/ISIC_0000313.jpg', './data/TrainCropped/ISIC_0011220.jpg', './data/TrainCropped/ISIC_0009923.jpg', './data/TrainCropped/ISIC_0014080.jpg', './data/TrainCropped/ISIC_0008207.jpg', './data/TrainCropped/ISIC_0014001.jpg', './data/TrainCropped/ISIC_0013792.jpg', './data/TrainCropped/ISIC_0000489.jpg', './data/TrainCropped/ISIC_0013220.jpg', './data/TrainCropped/ISIC_0012496.jpg', './data/TrainCropped/ISIC_0000300.jpg', './data/TrainCropped/ISIC_0000349.jpg', './data/TrainCropped/ISIC_0014518.jpg', './data/TrainCropped/ISIC_0014667.jpg', './data/TrainCropped/ISIC_0014763.jpg', './data/TrainCropped/ISIC_0012397.jpg', './data/TrainCropped/ISIC_0012950.jpg', './data/TrainCropped/ISIC_0010011.jpg', './data/TrainCropped/ISIC_0013585.jpg', './data/TrainCropped/ISIC_0010481.jpg', './data/TrainCropped/ISIC_0010184.jpg', './data/TrainCropped/ISIC_0013777.jpg', './data/TrainCropped/ISIC_0014571.jpg', './data/TrainCropped/ISIC_0002287.jpg', './data/TrainCropped/ISIC_0012294.jpg', './data/TrainCropped/ISIC_0012282.jpg', './data/TrainCropped/ISIC_0003346.jpg', './data/TrainCropped/ISIC_0014028.jpg', './data/TrainCropped/ISIC_0013748.jpg', './data/TrainCropped/ISIC_0012235.jpg', './data/TrainCropped/ISIC_0000293.jpg', './data/TrainCropped/ISIC_0000485.jpg', './data/TrainCropped/ISIC_0000116.jpg', './data/TrainCropped/ISIC_0014793.jpg', './data/TrainCropped/ISIC_0014775.jpg', './data/TrainCropped/ISIC_0014664.jpg', './data/TrainCropped/ISIC_0010477.jpg', './data/TrainCropped/ISIC_0000515.jpg', './data/TrainCropped/ISIC_0000476.jpg', './data/TrainCropped/ISIC_0000386.jpg', './data/TrainCropped/ISIC_0000550.jpg', './data/TrainCropped/ISIC_0000530.jpg', './data/TrainCropped/ISIC_0010498.jpg', './data/TrainCropped/ISIC_0000397.jpg', './data/TrainCropped/ISIC_0011362.jpg', './data/TrainCropped/ISIC_0008998.jpg', './data/TrainCropped/ISIC_0014589.jpg', './data/TrainCropped/ISIC_0014191.jpg', './data/TrainCropped/ISIC_0000427.jpg', './data/TrainCropped/ISIC_0009599.jpg', './data/TrainCropped/ISIC_0013635.jpg', './data/TrainCropped/ISIC_0011219.jpg', './data/TrainCropped/ISIC_0000104.jpg', './data/TrainCropped/ISIC_0002453.jpg', './data/TrainCropped/ISIC_0012549.jpg', './data/TrainCropped/ISIC_0009961.jpg', './data/TrainCropped/ISIC_0000314.jpg', './data/TrainCropped/ISIC_0000511.jpg', './data/TrainCropped/ISIC_0012845.jpg', './data/TrainCropped/ISIC_0012725.jpg', './data/TrainCropped/ISIC_0000148.jpg', './data/TrainCropped/ISIC_0012518.jpg', './data/TrainCropped/ISIC_0001142.jpg', './data/TrainCropped/ISIC_0000239.jpg', './data/TrainCropped/ISIC_0000508.jpg', './data/TrainCropped/ISIC_0011145.jpg', './data/TrainCropped/ISIC_0000535.jpg', './data/TrainCropped/ISIC_0012706.jpg', './data/TrainCropped/ISIC_0012274.jpg', './data/TrainCropped/ISIC_0014238.jpg', './data/TrainCropped/ISIC_0012228.jpg', './data/TrainCropped/ISIC_0009942.jpg', './data/TrainCropped/ISIC_0014127.jpg', './data/TrainCropped/ISIC_0014818.jpg', './data/TrainCropped/ISIC_0013695.jpg', './data/TrainCropped/ISIC_0000127.jpg', './data/TrainCropped/ISIC_0014458.jpg', './data/TrainCropped/ISIC_0012785.jpg', './data/TrainCropped/ISIC_0014347.jpg', './data/TrainCropped/ISIC_0013268.jpg', './data/TrainCropped/ISIC_0013217.jpg', './data/TrainCropped/ISIC_0013664.jpg', './data/TrainCropped/ISIC_0000434.jpg', './data/TrainCropped/ISIC_0011118.jpg', './data/TrainCropped/ISIC_0011212.jpg', './data/TrainCropped/ISIC_0013597.jpg', './data/TrainCropped/ISIC_0012787.jpg', './data/TrainCropped/ISIC_0014625.jpg', './data/TrainCropped/ISIC_0014742.jpg', './data/TrainCropped/ISIC_0009912.jpg', './data/TrainCropped/ISIC_0012208.jpg', './data/TrainCropped/ISIC_0010066.jpg', './data/TrainCropped/ISIC_0010591.jpg', './data/TrainCropped/ISIC_0014605.jpg', './data/TrainCropped/ISIC_0012271.jpg', './data/TrainCropped/ISIC_0014290.jpg', './data/TrainCropped/ISIC_0013843.jpg', './data/TrainCropped/ISIC_0002879.jpg', './data/TrainCropped/ISIC_0010044.jpg', './data/TrainCropped/ISIC_0013816.jpg', './data/TrainCropped/ISIC_0014353.jpg', './data/TrainCropped/ISIC_0014179.jpg', './data/TrainCropped/ISIC_0010003.jpg', './data/TrainCropped/ISIC_0000126.jpg', './data/TrainCropped/ISIC_0013800.jpg', './data/TrainCropped/ISIC_0009430.jpg', './data/TrainCropped/ISIC_0013802.jpg', './data/TrainCropped/ISIC_0010468.jpg', './data/TrainCropped/ISIC_0013088.jpg', './data/TrainCropped/ISIC_0008993.jpg', './data/TrainCropped/ISIC_0002836.jpg', './data/TrainCropped/ISIC_0013480.jpg', './data/TrainCropped/ISIC_0012735.jpg', './data/TrainCropped/ISIC_0013749.jpg', './data/TrainCropped/ISIC_0014987.jpg', './data/TrainCropped/ISIC_0010064.jpg', './data/TrainCropped/ISIC_0010207.jpg', './data/TrainCropped/ISIC_0014372.jpg', './data/TrainCropped/ISIC_0000504.jpg', './data/TrainCropped/ISIC_0000008.jpg', './data/TrainCropped/ISIC_0013935.jpg', './data/TrainCropped/ISIC_0000082.jpg', './data/TrainCropped/ISIC_0005639.jpg', './data/TrainCropped/ISIC_0009993.jpg', './data/TrainCropped/ISIC_0004346.jpg', './data/TrainCropped/ISIC_0000341.jpg', './data/TrainCropped/ISIC_0006982.jpg', './data/TrainCropped/ISIC_0012117.jpg', './data/TrainCropped/ISIC_0014151.jpg', './data/TrainCropped/ISIC_0011367.jpg', './data/TrainCropped/ISIC_0013559.jpg', './data/TrainCropped/ISIC_0011347.jpg', './data/TrainCropped/ISIC_0000475.jpg', './data/TrainCropped/ISIC_0013063.jpg', './data/TrainCropped/ISIC_0013783.jpg', './data/TrainCropped/ISIC_0000202.jpg', './data/TrainCropped/ISIC_0004309.jpg', './data/TrainCropped/ISIC_0000529.jpg', './data/TrainCropped/ISIC_0009297.jpg', './data/TrainCropped/ISIC_0011398.jpg', './data/TrainCropped/ISIC_0012961.jpg', './data/TrainCropped/ISIC_0000319.jpg', './data/TrainCropped/ISIC_0000212.jpg', './data/TrainCropped/ISIC_0012737.jpg', './data/TrainCropped/ISIC_0014578.jpg', './data/TrainCropped/ISIC_0000006.jpg', './data/TrainCropped/ISIC_0010326.jpg', './data/TrainCropped/ISIC_0000045.jpg', './data/TrainCropped/ISIC_0000451.jpg', './data/TrainCropped/ISIC_0009932.jpg', './data/TrainCropped/ISIC_0012898.jpg', './data/TrainCropped/ISIC_0009078.jpg', './data/TrainCropped/ISIC_0001128.jpg', './data/TrainCropped/ISIC_0010046.jpg', './data/TrainCropped/ISIC_0012291.jpg', './data/TrainCropped/ISIC_0010180.jpg', './data/TrainCropped/ISIC_0013208.jpg', './data/TrainCropped/ISIC_0012517.jpg', './data/TrainCropped/ISIC_0014074.jpg', './data/TrainCropped/ISIC_0010202.jpg', './data/TrainCropped/ISIC_0012833.jpg', './data/TrainCropped/ISIC_0013048.jpg', './data/TrainCropped/ISIC_0012879.jpg', './data/TrainCropped/ISIC_0012177.jpg', './data/TrainCropped/ISIC_0010236.jpg', './data/TrainCropped/ISIC_0000307.jpg', './data/TrainCropped/ISIC_0009960.jpg', './data/TrainCropped/ISIC_0010018.jpg', './data/TrainCropped/ISIC_0014904.jpg', './data/TrainCropped/ISIC_0014410.jpg', './data/TrainCropped/ISIC_0011382.jpg', './data/TrainCropped/ISIC_0013425.jpg', './data/TrainCropped/ISIC_0013390.jpg', './data/TrainCropped/ISIC_0010333.jpg', './data/TrainCropped/ISIC_0011397.jpg', './data/TrainCropped/ISIC_0009902.jpg', './data/TrainCropped/ISIC_0011326.jpg', './data/TrainCropped/ISIC_0014598.jpg', './data/TrainCropped/ISIC_0013434.jpg', './data/TrainCropped/ISIC_0012901.jpg', './data/TrainCropped/ISIC_0010483.jpg', './data/TrainCropped/ISIC_0012246.jpg', './data/TrainCropped/ISIC_0012710.jpg', './data/TrainCropped/ISIC_0000374.jpg', './data/TrainCropped/ISIC_0013656.jpg', './data/TrainCropped/ISIC_0010442.jpg', './data/TrainCropped/ISIC_0013056.jpg', './data/TrainCropped/ISIC_0000294.jpg', './data/TrainCropped/ISIC_0000096.jpg', './data/TrainCropped/ISIC_0000215.jpg', './data/TrainCropped/ISIC_0010341.jpg', './data/TrainCropped/ISIC_0011393.jpg', './data/TrainCropped/ISIC_0000133.jpg', './data/TrainCropped/ISIC_0010034.jpg', './data/TrainCropped/ISIC_0014713.jpg', './data/TrainCropped/ISIC_0012878.jpg', './data/TrainCropped/ISIC_0012887.jpg', './data/TrainCropped/ISIC_0013310.jpg', './data/TrainCropped/ISIC_0010607.jpg', './data/TrainCropped/ISIC_0015006.jpg', './data/TrainCropped/ISIC_0000152.jpg', './data/TrainCropped/ISIC_0014248.jpg', './data/TrainCropped/ISIC_0013494.jpg', './data/TrainCropped/ISIC_0013430.jpg', './data/TrainCropped/ISIC_0013147.jpg', './data/TrainCropped/ISIC_0012141.jpg', './data/TrainCropped/ISIC_0000036.jpg', './data/TrainCropped/ISIC_0013330.jpg', './data/TrainCropped/ISIC_0000047.jpg', './data/TrainCropped/ISIC_0010461.jpg', './data/TrainCropped/ISIC_0010233.jpg', './data/TrainCropped/ISIC_0009933.jpg', './data/TrainCropped/ISIC_0011327.jpg', './data/TrainCropped/ISIC_0009976.jpg', './data/TrainCropped/ISIC_0013707.jpg', './data/TrainCropped/ISIC_0002439.jpg', './data/TrainCropped/ISIC_0000171.jpg', './data/TrainCropped/ISIC_0014169.jpg', './data/TrainCropped/ISIC_0014289.jpg', './data/TrainCropped/ISIC_0000531.jpg', './data/TrainCropped/ISIC_0013706.jpg', './data/TrainCropped/ISIC_0012999.jpg', './data/TrainCropped/ISIC_0012793.jpg', './data/TrainCropped/ISIC_0000376.jpg', './data/TrainCropped/ISIC_0013523.jpg', './data/TrainCropped/ISIC_0012324.jpg', './data/TrainCropped/ISIC_0000493.jpg', './data/TrainCropped/ISIC_0013864.jpg', './data/TrainCropped/ISIC_0013984.jpg', './data/TrainCropped/ISIC_0014722.jpg', './data/TrainCropped/ISIC_0012453.jpg', './data/TrainCropped/ISIC_0011112.jpg', './data/TrainCropped/ISIC_0009946.jpg', './data/TrainCropped/ISIC_0013034.jpg', './data/TrainCropped/ISIC_0000351.jpg', './data/TrainCropped/ISIC_0013558.jpg', './data/TrainCropped/ISIC_0010330.jpg', './data/TrainCropped/ISIC_0014092.jpg', './data/TrainCropped/ISIC_0013219.jpg', './data/TrainCropped/ISIC_0014951.jpg', './data/TrainCropped/ISIC_0000160.jpg', './data/TrainCropped/ISIC_0014913.jpg', './data/TrainCropped/ISIC_0010061.jpg', './data/TrainCropped/ISIC_0010094.jpg', './data/TrainCropped/ISIC_0013204.jpg', './data/TrainCropped/ISIC_0000066.jpg', './data/TrainCropped/ISIC_0013796.jpg', './data/TrainCropped/ISIC_0000516.jpg', './data/TrainCropped/ISIC_0009951.jpg', './data/TrainCropped/ISIC_0014171.jpg', './data/TrainCropped/ISIC_0014197.jpg', './data/TrainCropped/ISIC_0000258.jpg', './data/TrainCropped/ISIC_0010170.jpg', './data/TrainCropped/ISIC_0000111.jpg', './data/TrainCropped/ISIC_0012363.jpg', './data/TrainCropped/ISIC_0014225.jpg', './data/TrainCropped/ISIC_0014665.jpg', './data/TrainCropped/ISIC_0000501.jpg', './data/TrainCropped/ISIC_0000232.jpg', './data/TrainCropped/ISIC_0000352.jpg', './data/TrainCropped/ISIC_0000345.jpg', './data/TrainCropped/ISIC_0000029.jpg', './data/TrainCropped/ISIC_0000108.jpg', './data/TrainCropped/ISIC_0013862.jpg', './data/TrainCropped/ISIC_0009905.jpg', './data/TrainCropped/ISIC_0005620.jpg', './data/TrainCropped/ISIC_0009899.jpg', './data/TrainCropped/ISIC_0010448.jpg', './data/TrainCropped/ISIC_0010853.jpg', './data/TrainCropped/ISIC_0011155.jpg', './data/TrainCropped/ISIC_0000224.jpg', './data/TrainCropped/ISIC_0010449.jpg', './data/TrainCropped/ISIC_0000057.jpg', './data/TrainCropped/ISIC_0000471.jpg', './data/TrainCropped/ISIC_0000448.jpg', './data/TrainCropped/ISIC_0000436.jpg', './data/TrainCropped/ISIC_0013688.jpg', './data/TrainCropped/ISIC_0010231.jpg', './data/TrainCropped/ISIC_0000285.jpg', './data/TrainCropped/ISIC_0000021.jpg', './data/TrainCropped/ISIC_0010360.jpg', './data/TrainCropped/ISIC_0014839.jpg', './data/TrainCropped/ISIC_0014385.jpg', './data/TrainCropped/ISIC_0000001.jpg', './data/TrainCropped/ISIC_0000269.jpg', './data/TrainCropped/ISIC_0000147.jpg', './data/TrainCropped/ISIC_0000030.jpg', './data/TrainCropped/ISIC_0014547.jpg', './data/TrainCropped/ISIC_0012814.jpg', './data/TrainCropped/ISIC_0009947.jpg', './data/TrainCropped/ISIC_0000455.jpg', './data/TrainCropped/ISIC_0000492.jpg', './data/TrainCropped/ISIC_0014831.jpg', './data/TrainCropped/ISIC_0013997.jpg', './data/TrainCropped/ISIC_0011173.jpg', './data/TrainCropped/ISIC_0002829.jpg', './data/TrainCropped/ISIC_0013106.jpg', './data/TrainCropped/ISIC_0012856.jpg', './data/TrainCropped/ISIC_0010019.jpg', './data/TrainCropped/ISIC_0013961.jpg', './data/TrainCropped/ISIC_0011146.jpg', './data/TrainCropped/ISIC_0014229.jpg', './data/TrainCropped/ISIC_0010317.jpg', './data/TrainCropped/ISIC_0011079.jpg', './data/TrainCropped/ISIC_0014581.jpg', './data/TrainCropped/ISIC_0009874.jpg', './data/TrainCropped/ISIC_0010220.jpg', './data/TrainCropped/ISIC_0013995.jpg', './data/TrainCropped/ISIC_0014249.jpg', './data/TrainCropped/ISIC_0011210.jpg', './data/TrainCropped/ISIC_0009160.jpg', './data/TrainCropped/ISIC_0014612.jpg', './data/TrainCropped/ISIC_0014526.jpg', './data/TrainCropped/ISIC_0000110.jpg', './data/TrainCropped/ISIC_0000499.jpg', './data/TrainCropped/ISIC_0014325.jpg', './data/TrainCropped/ISIC_0011300.jpg', './data/TrainCropped/ISIC_0010571.jpg', './data/TrainCropped/ISIC_0013490.jpg', './data/TrainCropped/ISIC_0008785.jpg', './data/TrainCropped/ISIC_0000539.jpg', './data/TrainCropped/ISIC_0000445.jpg', './data/TrainCropped/ISIC_0013026.jpg', './data/TrainCropped/ISIC_0014933.jpg', './data/TrainCropped/ISIC_0000123.jpg', './data/TrainCropped/ISIC_0014685.jpg', './data/TrainCropped/ISIC_0000150.jpg', './data/TrainCropped/ISIC_0011137.jpg', './data/TrainCropped/ISIC_0010042.jpg', './data/TrainCropped/ISIC_0000453.jpg', './data/TrainCropped/ISIC_0014432.jpg', './data/TrainCropped/ISIC_0013027.jpg', './data/TrainCropped/ISIC_0013370.jpg', './data/TrainCropped/ISIC_0014603.jpg', './data/TrainCropped/ISIC_0012970.jpg', './data/TrainCropped/ISIC_0009929.jpg', './data/TrainCropped/ISIC_0012673.jpg', './data/TrainCropped/ISIC_0000172.jpg', './data/TrainCropped/ISIC_0000496.jpg', './data/TrainCropped/ISIC_0012550.jpg', './data/TrainCropped/ISIC_0000548.jpg', './data/TrainCropped/ISIC_0013929.jpg', './data/TrainCropped/ISIC_0013758.jpg', './data/TrainCropped/ISIC_0012175.jpg', './data/TrainCropped/ISIC_0000486.jpg', './data/TrainCropped/ISIC_0013958.jpg', './data/TrainCropped/ISIC_0012094.jpg', './data/TrainCropped/ISIC_0012108.jpg', './data/TrainCropped/ISIC_0000112.jpg', './data/TrainCropped/ISIC_0000014.jpg', './data/TrainCropped/ISIC_0014094.jpg', './data/TrainCropped/ISIC_0013365.jpg', './data/TrainCropped/ISIC_0000128.jpg', './data/TrainCropped/ISIC_0013772.jpg', './data/TrainCropped/ISIC_0013804.jpg', './data/TrainCropped/ISIC_0010435.jpg', './data/TrainCropped/ISIC_0013248.jpg', './data/TrainCropped/ISIC_0011132.jpg', './data/TrainCropped/ISIC_0001133.jpg', './data/TrainCropped/ISIC_0010013.jpg', './data/TrainCropped/ISIC_0013040.jpg', './data/TrainCropped/ISIC_0013488.jpg', './data/TrainCropped/ISIC_0013594.jpg', './data/TrainCropped/ISIC_0000383.jpg', './data/TrainCropped/ISIC_0010227.jpg', './data/TrainCropped/ISIC_0000166.jpg', './data/TrainCropped/ISIC_0014638.jpg', './data/TrainCropped/ISIC_0000542.jpg', './data/TrainCropped/ISIC_0012692.jpg', './data/TrainCropped/ISIC_0000207.jpg', './data/TrainCropped/ISIC_0014438.jpg', './data/TrainCropped/ISIC_0000413.jpg', './data/TrainCropped/ISIC_0012212.jpg', './data/TrainCropped/ISIC_0014453.jpg', './data/TrainCropped/ISIC_0000524.jpg', './data/TrainCropped/ISIC_0013525.jpg', './data/TrainCropped/ISIC_0010177.jpg', './data/TrainCropped/ISIC_0000302.jpg', './data/TrainCropped/ISIC_0010063.jpg', './data/TrainCropped/ISIC_0010493.jpg', './data/TrainCropped/ISIC_0012469.jpg', './data/TrainCropped/ISIC_0012840.jpg', './data/TrainCropped/ISIC_0000415.jpg', './data/TrainCropped/ISIC_0000071.jpg', './data/TrainCropped/ISIC_0012452.jpg', './data/TrainCropped/ISIC_0011088.jpg', './data/TrainCropped/ISIC_0010100.jpg', './data/TrainCropped/ISIC_0010264.jpg', './data/TrainCropped/ISIC_0000131.jpg', './data/TrainCropped/ISIC_0000159.jpg', './data/TrainCropped/ISIC_0011126.jpg', './data/TrainCropped/ISIC_0012253.jpg', './data/TrainCropped/ISIC_0014803.jpg', './data/TrainCropped/ISIC_0000466.jpg', './data/TrainCropped/ISIC_0000020.jpg', './data/TrainCropped/ISIC_0010002.jpg', './data/TrainCropped/ISIC_0012711.jpg', './data/TrainCropped/ISIC_0009982.jpg', './data/TrainCropped/ISIC_0009945.jpg', './data/TrainCropped/ISIC_0010364.jpg', './data/TrainCropped/ISIC_0010219.jpg', './data/TrainCropped/ISIC_0000369.jpg', './data/TrainCropped/ISIC_0012290.jpg', './data/TrainCropped/ISIC_0012701.jpg', './data/TrainCropped/ISIC_0008807.jpg', './data/TrainCropped/ISIC_0000520.jpg', './data/TrainCropped/ISIC_0011322.jpg', './data/TrainCropped/ISIC_0009911.jpg', './data/TrainCropped/ISIC_0014805.jpg', './data/TrainCropped/ISIC_0013876.jpg', './data/TrainCropped/ISIC_0012187.jpg', './data/TrainCropped/ISIC_0011292.jpg', './data/TrainCropped/ISIC_0000426.jpg', './data/TrainCropped/ISIC_0014253.jpg', './data/TrainCropped/ISIC_0012543.jpg', './data/TrainCropped/ISIC_0012661.jpg', './data/TrainCropped/ISIC_0002976.jpg', './data/TrainCropped/ISIC_0000259.jpg', './data/TrainCropped/ISIC_0014324.jpg', './data/TrainCropped/ISIC_0007693.jpg', './data/TrainCropped/ISIC_0009868.jpg', './data/TrainCropped/ISIC_0011167.jpg', './data/TrainCropped/ISIC_0014911.jpg', './data/TrainCropped/ISIC_0013200.jpg', './data/TrainCropped/ISIC_0012475.jpg', './data/TrainCropped/ISIC_0000165.jpg', './data/TrainCropped/ISIC_0000246.jpg', './data/TrainCropped/ISIC_0010332.jpg', './data/TrainCropped/ISIC_0012827.jpg', './data/TrainCropped/ISIC_0000141.jpg', './data/TrainCropped/ISIC_0000372.jpg', './data/TrainCropped/ISIC_0013432.jpg', './data/TrainCropped/ISIC_0014543.jpg', './data/TrainCropped/ISIC_0010588.jpg', './data/TrainCropped/ISIC_0004985.jpg', './data/TrainCropped/ISIC_0013207.jpg', './data/TrainCropped/ISIC_0000262.jpg', './data/TrainCropped/ISIC_0014507.jpg', './data/TrainCropped/ISIC_0013981.jpg', './data/TrainCropped/ISIC_0000527.jpg', './data/TrainCropped/ISIC_0012682.jpg', './data/TrainCropped/ISIC_0013996.jpg', './data/TrainCropped/ISIC_0013311.jpg', './data/TrainCropped/ISIC_0012810.jpg', './data/TrainCropped/ISIC_0000188.jpg', './data/TrainCropped/ISIC_0014724.jpg', './data/TrainCropped/ISIC_0010016.jpg', './data/TrainCropped/ISIC_0010185.jpg', './data/TrainCropped/ISIC_0009298.jpg', './data/TrainCropped/ISIC_0000054.jpg', './data/TrainCropped/ISIC_0013031.jpg', './data/TrainCropped/ISIC_0013487.jpg', './data/TrainCropped/ISIC_0014849.jpg', './data/TrainCropped/ISIC_0014089.jpg', './data/TrainCropped/ISIC_0013830.jpg', './data/TrainCropped/ISIC_0012907.jpg', './data/TrainCropped/ISIC_0000506.jpg', './data/TrainCropped/ISIC_0000118.jpg', './data/TrainCropped/ISIC_0009973.jpg', './data/TrainCropped/ISIC_0009872.jpg', './data/TrainCropped/ISIC_0012726.jpg', './data/TrainCropped/ISIC_0013178.jpg', './data/TrainCropped/ISIC_0012105.jpg', './data/TrainCropped/ISIC_0014804.jpg', './data/TrainCropped/ISIC_0014599.jpg', './data/TrainCropped/ISIC_0010466.jpg', './data/TrainCropped/ISIC_0014157.jpg', './data/TrainCropped/ISIC_0013530.jpg', './data/TrainCropped/ISIC_0014579.jpg', './data/TrainCropped/ISIC_0011386.jpg', './data/TrainCropped/ISIC_0012952.jpg', './data/TrainCropped/ISIC_0009936.jpg', './data/TrainCropped/ISIC_0013244.jpg', './data/TrainCropped/ISIC_0000264.jpg', './data/TrainCropped/ISIC_0001152.jpg', './data/TrainCropped/ISIC_0013235.jpg', './data/TrainCropped/ISIC_0010088.jpg', './data/TrainCropped/ISIC_0012804.jpg', './data/TrainCropped/ISIC_0014779.jpg', './data/TrainCropped/ISIC_0014903.jpg', './data/TrainCropped/ISIC_0000134.jpg', './data/TrainCropped/ISIC_0013314.jpg', './data/TrainCropped/ISIC_0000320.jpg', './data/TrainCropped/ISIC_0013552.jpg', './data/TrainCropped/ISIC_0015182.jpg', './data/TrainCropped/ISIC_0012284.jpg', './data/TrainCropped/ISIC_0011224.jpg', './data/TrainCropped/ISIC_0012990.jpg', './data/TrainCropped/ISIC_0010247.jpg', './data/TrainCropped/ISIC_0014031.jpg', './data/TrainCropped/ISIC_0010086.jpg', './data/TrainCropped/ISIC_0013304.jpg', './data/TrainCropped/ISIC_0009962.jpg', './data/TrainCropped/ISIC_0012348.jpg', './data/TrainCropped/ISIC_0011165.jpg', './data/TrainCropped/ISIC_0014132.jpg', './data/TrainCropped/ISIC_0010000.jpg', './data/TrainCropped/ISIC_0000500.jpg', './data/TrainCropped/ISIC_0010554.jpg', './data/TrainCropped/ISIC_0000289.jpg', './data/TrainCropped/ISIC_0014490.jpg', './data/TrainCropped/ISIC_0013114.jpg', './data/TrainCropped/ISIC_0014607.jpg', './data/TrainCropped/ISIC_0009939.jpg', './data/TrainCropped/ISIC_0014469.jpg', './data/TrainCropped/ISIC_0000364.jpg', './data/TrainCropped/ISIC_0000363.jpg', './data/TrainCropped/ISIC_0013579.jpg', './data/TrainCropped/ISIC_0010028.jpg', './data/TrainCropped/ISIC_0014795.jpg', './data/TrainCropped/ISIC_0014594.jpg', './data/TrainCropped/ISIC_0013359.jpg', './data/TrainCropped/ISIC_0000357.jpg', './data/TrainCropped/ISIC_0009954.jpg', './data/TrainCropped/ISIC_0014286.jpg', './data/TrainCropped/ISIC_0014501.jpg', './data/TrainCropped/ISIC_0000507.jpg', './data/TrainCropped/ISIC_0010852.jpg', './data/TrainCropped/ISIC_0014272.jpg', './data/TrainCropped/ISIC_0014082.jpg', './data/TrainCropped/ISIC_0000181.jpg', './data/TrainCropped/ISIC_0010337.jpg', './data/TrainCropped/ISIC_0015200.jpg', './data/TrainCropped/ISIC_0014707.jpg', './data/TrainCropped/ISIC_0010573.jpg', './data/TrainCropped/ISIC_0010077.jpg', './data/TrainCropped/ISIC_0009991.jpg', './data/TrainCropped/ISIC_0013223.jpg', './data/TrainCropped/ISIC_0001105.jpg', './data/TrainCropped/ISIC_0002885.jpg', './data/TrainCropped/ISIC_0010497.jpg', './data/TrainCropped/ISIC_0008236.jpg', './data/TrainCropped/ISIC_0010213.jpg', './data/TrainCropped/ISIC_0000099.jpg', './data/TrainCropped/ISIC_0011090.jpg', './data/TrainCropped/ISIC_0013634.jpg', './data/TrainCropped/ISIC_0000142.jpg', './data/TrainCropped/ISIC_0014328.jpg', './data/TrainCropped/ISIC_0000533.jpg', './data/TrainCropped/ISIC_0015284.jpg', './data/TrainCropped/ISIC_0013795.jpg', './data/TrainCropped/ISIC_0012232.jpg', './data/TrainCropped/ISIC_0013015.jpg', './data/TrainCropped/ISIC_0002246.jpg', './data/TrainCropped/ISIC_0012217.jpg', './data/TrainCropped/ISIC_0014393.jpg', './data/TrainCropped/ISIC_0000119.jpg', './data/TrainCropped/ISIC_0011402.jpg', './data/TrainCropped/ISIC_0012871.jpg', './data/TrainCropped/ISIC_0000391.jpg', './data/TrainCropped/ISIC_0013333.jpg', './data/TrainCropped/ISIC_0000473.jpg', './data/TrainCropped/ISIC_0000295.jpg', './data/TrainCropped/ISIC_0010339.jpg', './data/TrainCropped/ISIC_0010334.jpg', './data/TrainCropped/ISIC_0013806.jpg', './data/TrainCropped/ISIC_0014222.jpg', './data/TrainCropped/ISIC_0014850.jpg', './data/TrainCropped/ISIC_0000049.jpg', './data/TrainCropped/ISIC_0013086.jpg', './data/TrainCropped/ISIC_0009906.jpg', './data/TrainCropped/ISIC_0012377.jpg', './data/TrainCropped/ISIC_0012433.jpg', './data/TrainCropped/ISIC_0012520.jpg', './data/TrainCropped/ISIC_0000091.jpg', './data/TrainCropped/ISIC_0013601.jpg', './data/TrainCropped/ISIC_0013410.jpg', './data/TrainCropped/ISIC_0008600.jpg', './data/TrainCropped/ISIC_0012156.jpg', './data/TrainCropped/ISIC_0012090.jpg', './data/TrainCropped/ISIC_0000510.jpg', './data/TrainCropped/ISIC_0014583.jpg', './data/TrainCropped/ISIC_0000149.jpg', './data/TrainCropped/ISIC_0008528.jpg', './data/TrainCropped/ISIC_0013316.jpg', './data/TrainCropped/ISIC_0001119.jpg', './data/TrainCropped/ISIC_0013837.jpg', './data/TrainCropped/ISIC_0012826.jpg', './data/TrainCropped/ISIC_0012911.jpg', './data/TrainCropped/ISIC_0010069.jpg', './data/TrainCropped/ISIC_0009925.jpg', './data/TrainCropped/ISIC_0015219.jpg', './data/TrainCropped/ISIC_0009987.jpg', './data/TrainCropped/ISIC_0013118.jpg', './data/TrainCropped/ISIC_0014185.jpg', './data/TrainCropped/ISIC_0014819.jpg', './data/TrainCropped/ISIC_0013626.jpg', './data/TrainCropped/ISIC_0014622.jpg', './data/TrainCropped/ISIC_0013174.jpg', './data/TrainCropped/ISIC_0013568.jpg', './data/TrainCropped/ISIC_0014365.jpg', './data/TrainCropped/ISIC_0000517.jpg', './data/TrainCropped/ISIC_0000481.jpg', './data/TrainCropped/ISIC_0014073.jpg', './data/TrainCropped/ISIC_0012713.jpg', './data/TrainCropped/ISIC_0014825.jpg', './data/TrainCropped/ISIC_0006776.jpg', './data/TrainCropped/ISIC_0000130.jpg', './data/TrainCropped/ISIC_0002374.jpg', './data/TrainCropped/ISIC_0000233.jpg', './data/TrainCropped/ISIC_0013461.jpg', './data/TrainCropped/ISIC_0014642.jpg', './data/TrainCropped/ISIC_0000444.jpg', './data/TrainCropped/ISIC_0013896.jpg', './data/TrainCropped/ISIC_0012512.jpg', './data/TrainCropped/ISIC_0011177.jpg', './data/TrainCropped/ISIC_0013249.jpg', './data/TrainCropped/ISIC_0012503.jpg', './data/TrainCropped/ISIC_0012529.jpg', './data/TrainCropped/ISIC_0000041.jpg', './data/TrainCropped/ISIC_0008280.jpg', './data/TrainCropped/ISIC_0012329.jpg', './data/TrainCropped/ISIC_0000534.jpg', './data/TrainCropped/ISIC_0010597.jpg', './data/TrainCropped/ISIC_0009977.jpg', './data/TrainCropped/ISIC_0000022.jpg', './data/TrainCropped/ISIC_0000330.jpg', './data/TrainCropped/ISIC_0012966.jpg', './data/TrainCropped/ISIC_0013879.jpg', './data/TrainCropped/ISIC_0012299.jpg', './data/TrainCropped/ISIC_0000145.jpg', './data/TrainCropped/ISIC_0013423.jpg', './data/TrainCropped/ISIC_0014832.jpg', './data/TrainCropped/ISIC_0014582.jpg', './data/TrainCropped/ISIC_0014811.jpg', './data/TrainCropped/ISIC_0010552.jpg', './data/TrainCropped/ISIC_0012442.jpg', './data/TrainCropped/ISIC_0010864.jpg', './data/TrainCropped/ISIC_0000198.jpg', './data/TrainCropped/ISIC_0000329.jpg', './data/TrainCropped/ISIC_0010480.jpg', './data/TrainCropped/ISIC_0001103.jpg', './data/TrainCropped/ISIC_0000153.jpg', './data/TrainCropped/ISIC_0013238.jpg', './data/TrainCropped/ISIC_0013942.jpg', './data/TrainCropped/ISIC_0000098.jpg', './data/TrainCropped/ISIC_0013458.jpg', './data/TrainCropped/ISIC_0010192.jpg', './data/TrainCropped/ISIC_0000136.jpg', './data/TrainCropped/ISIC_0009504.jpg', './data/TrainCropped/ISIC_0012739.jpg', './data/TrainCropped/ISIC_0014595.jpg', './data/TrainCropped/ISIC_0000010.jpg', './data/TrainCropped/ISIC_0015108.jpg', './data/TrainCropped/ISIC_0011352.jpg', './data/TrainCropped/ISIC_0000053.jpg', './data/TrainCropped/ISIC_0000079.jpg', './data/TrainCropped/ISIC_0010237.jpg', './data/TrainCropped/ISIC_0000299.jpg', './data/TrainCropped/ISIC_0001134.jpg', './data/TrainCropped/ISIC_0009583.jpg', './data/TrainCropped/ISIC_0012889.jpg', './data/TrainCropped/ISIC_0007087.jpg', './data/TrainCropped/ISIC_0013258.jpg', './data/TrainCropped/ISIC_0000078.jpg', './data/TrainCropped/ISIC_0000176.jpg', './data/TrainCropped/ISIC_0010593.jpg', './data/TrainCropped/ISIC_0000089.jpg', './data/TrainCropped/ISIC_0012855.jpg', './data/TrainCropped/ISIC_0013486.jpg', './data/TrainCropped/ISIC_0013172.jpg', './data/TrainCropped/ISIC_0010043.jpg', './data/TrainCropped/ISIC_0009914.jpg', './data/TrainCropped/ISIC_0008347.jpg', './data/TrainCropped/ISIC_0012250.jpg', './data/TrainCropped/ISIC_0013007.jpg', './data/TrainCropped/ISIC_0011338.jpg', './data/TrainCropped/ISIC_0008406.jpg', './data/TrainCropped/ISIC_0009919.jpg', './data/TrainCropped/ISIC_0000087.jpg', './data/TrainCropped/ISIC_0013516.jpg', './data/TrainCropped/ISIC_0014430.jpg', './data/TrainCropped/ISIC_0010458.jpg', './data/TrainCropped/ISIC_0013288.jpg', './data/TrainCropped/ISIC_0000282.jpg', './data/TrainCropped/ISIC_0000555.jpg', './data/TrainCropped/ISIC_0010492.jpg', './data/TrainCropped/ISIC_0000169.jpg', './data/TrainCropped/ISIC_0000026.jpg', './data/TrainCropped/ISIC_0014983.jpg', './data/TrainCropped/ISIC_0013087.jpg', './data/TrainCropped/ISIC_0010473.jpg', './data/TrainCropped/ISIC_0010024.jpg', './data/TrainCropped/ISIC_0014291.jpg', './data/TrainCropped/ISIC_0013190.jpg', './data/TrainCropped/ISIC_0000368.jpg', './data/TrainCropped/ISIC_0014511.jpg', './data/TrainCropped/ISIC_0006021.jpg', './data/TrainCropped/ISIC_0014394.jpg', './data/TrainCropped/ISIC_0008541.jpg', './data/TrainCropped/ISIC_0009871.jpg', './data/TrainCropped/ISIC_0014585.jpg', './data/TrainCropped/ISIC_0009974.jpg', './data/TrainCropped/ISIC_0014613.jpg', './data/TrainCropped/ISIC_0011384.jpg', './data/TrainCropped/ISIC_0012245.jpg', './data/TrainCropped/ISIC_0000292.jpg', './data/TrainCropped/ISIC_0000019.jpg', './data/TrainCropped/ISIC_0013053.jpg', './data/TrainCropped/ISIC_0011164.jpg', './data/TrainCropped/ISIC_0000552.jpg', './data/TrainCropped/ISIC_0014714.jpg', './data/TrainCropped/ISIC_0014596.jpg', './data/TrainCropped/ISIC_0012677.jpg', './data/TrainCropped/ISIC_0011101.jpg', './data/TrainCropped/ISIC_0010182.jpg', './data/TrainCropped/ISIC_0000315.jpg', './data/TrainCropped/ISIC_0013886.jpg', './data/TrainCropped/ISIC_0013059.jpg', './data/TrainCropped/ISIC_0014044.jpg', './data/TrainCropped/ISIC_0013580.jpg', './data/TrainCropped/ISIC_0014473.jpg', './data/TrainCropped/ISIC_0013936.jpg', './data/TrainCropped/ISIC_0003056.jpg', './data/TrainCropped/ISIC_0013603.jpg', './data/TrainCropped/ISIC_0000344.jpg', './data/TrainCropped/ISIC_0012179.jpg', './data/TrainCropped/ISIC_0010059.jpg', './data/TrainCropped/ISIC_0014823.jpg', './data/TrainCropped/ISIC_0013712.jpg', './data/TrainCropped/ISIC_0013831.jpg', './data/TrainCropped/ISIC_0009963.jpg', './data/TrainCropped/ISIC_0012680.jpg', './data/TrainCropped/ISIC_0000177.jpg', './data/TrainCropped/ISIC_0009972.jpg', './data/TrainCropped/ISIC_0013024.jpg', './data/TrainCropped/ISIC_0012681.jpg', './data/TrainCropped/ISIC_0013140.jpg', './data/TrainCropped/ISIC_0010193.jpg', './data/TrainCropped/ISIC_0010592.jpg', './data/TrainCropped/ISIC_0014632.jpg', './data/TrainCropped/ISIC_0014745.jpg', './data/TrainCropped/ISIC_0000162.jpg', './data/TrainCropped/ISIC_0000303.jpg', './data/TrainCropped/ISIC_0000361.jpg', './data/TrainCropped/ISIC_0012103.jpg', './data/TrainCropped/ISIC_0014908.jpg', './data/TrainCropped/ISIC_0000247.jpg', './data/TrainCropped/ISIC_0015005.jpg', './data/TrainCropped/ISIC_0000408.jpg', './data/TrainCropped/ISIC_0012981.jpg', './data/TrainCropped/ISIC_0014537.jpg', './data/TrainCropped/ISIC_0000046.jpg', './data/TrainCropped/ISIC_0012939.jpg', './data/TrainCropped/ISIC_0014173.jpg', './data/TrainCropped/ISIC_0012167.jpg', './data/TrainCropped/ISIC_0012653.jpg', './data/TrainCropped/ISIC_0011123.jpg', './data/TrainCropped/ISIC_0000327.jpg', './data/TrainCropped/ISIC_0013233.jpg', './data/TrainCropped/ISIC_0014617.jpg', './data/TrainCropped/ISIC_0012709.jpg', './data/TrainCropped/ISIC_0013335.jpg', './data/TrainCropped/ISIC_0012406.jpg', './data/TrainCropped/ISIC_0011297.jpg', './data/TrainCropped/ISIC_0013124.jpg', './data/TrainCropped/ISIC_0012877.jpg', './data/TrainCropped/ISIC_0013398.jpg', './data/TrainCropped/ISIC_0013844.jpg', './data/TrainCropped/ISIC_0000487.jpg', './data/TrainCropped/ISIC_0010488.jpg', './data/TrainCropped/ISIC_0011107.jpg', './data/TrainCropped/ISIC_0014897.jpg', './data/TrainCropped/ISIC_0000025.jpg', './data/TrainCropped/ISIC_0013198.jpg', './data/TrainCropped/ISIC_0014711.jpg', './data/TrainCropped/ISIC_0015032.jpg', './data/TrainCropped/ISIC_0014602.jpg', './data/TrainCropped/ISIC_0012671.jpg', './data/TrainCropped/ISIC_0010104.jpg', './data/TrainCropped/ISIC_0010490.jpg', './data/TrainCropped/ISIC_0013971.jpg', './data/TrainCropped/ISIC_0000463.jpg', './data/TrainCropped/ISIC_0000494.jpg', './data/TrainCropped/ISIC_0014794.jpg', './data/TrainCropped/ISIC_0010475.jpg', './data/TrainCropped/ISIC_0000213.jpg', './data/TrainCropped/ISIC_0014346.jpg', './data/TrainCropped/ISIC_0000004.jpg', './data/TrainCropped/ISIC_0014930.jpg', './data/TrainCropped/ISIC_0000064.jpg', './data/TrainCropped/ISIC_0014554.jpg', './data/TrainCropped/ISIC_0000556.jpg', './data/TrainCropped/ISIC_0010467.jpg', './data/TrainCropped/ISIC_0012259.jpg', './data/TrainCropped/ISIC_0013287.jpg', './data/TrainCropped/ISIC_0010206.jpg', './data/TrainCropped/ISIC_0011199.jpg', './data/TrainCropped/ISIC_0000382.jpg', './data/TrainCropped/ISIC_0000065.jpg', './data/TrainCropped/ISIC_0014331.jpg', './data/TrainCropped/ISIC_0009918.jpg', './data/TrainCropped/ISIC_0014431.jpg', './data/TrainCropped/ISIC_0014502.jpg', './data/TrainCropped/ISIC_0014166.jpg', './data/TrainCropped/ISIC_0011082.jpg', './data/TrainCropped/ISIC_0012693.jpg', './data/TrainCropped/ISIC_0013120.jpg', './data/TrainCropped/ISIC_0009035.jpg', './data/TrainCropped/ISIC_0014898.jpg', './data/TrainCropped/ISIC_0010244.jpg', './data/TrainCropped/ISIC_0012318.jpg', './data/TrainCropped/ISIC_0011218.jpg', './data/TrainCropped/ISIC_0011102.jpg', './data/TrainCropped/ISIC_0014341.jpg', './data/TrainCropped/ISIC_0003728.jpg', './data/TrainCropped/ISIC_0013737.jpg', './data/TrainCropped/ISIC_0000002.jpg', './data/TrainCropped/ISIC_0000052.jpg', './data/TrainCropped/ISIC_0010187.jpg', './data/TrainCropped/ISIC_0014066.jpg', './data/TrainCropped/ISIC_0013096.jpg', './data/TrainCropped/ISIC_0010234.jpg', './data/TrainCropped/ISIC_0000044.jpg', './data/TrainCropped/ISIC_0000316.jpg', './data/TrainCropped/ISIC_0000190.jpg', './data/TrainCropped/ISIC_0000443.jpg', './data/TrainCropped/ISIC_0015168.jpg', './data/TrainCropped/ISIC_0013229.jpg', './data/TrainCropped/ISIC_0014516.jpg', './data/TrainCropped/ISIC_0013201.jpg', './data/TrainCropped/ISIC_0013334.jpg', './data/TrainCropped/ISIC_0000290.jpg', './data/TrainCropped/ISIC_0014049.jpg', './data/TrainCropped/ISIC_0012390.jpg', './data/TrainCropped/ISIC_0014069.jpg', './data/TrainCropped/ISIC_0013355.jpg', './data/TrainCropped/ISIC_0010014.jpg', './data/TrainCropped/ISIC_0014441.jpg', './data/TrainCropped/ISIC_0010105.jpg', './data/TrainCropped/ISIC_0011115.jpg', './data/TrainCropped/ISIC_0000371.jpg', './data/TrainCropped/ISIC_0010178.jpg', './data/TrainCropped/ISIC_0013740.jpg', './data/TrainCropped/ISIC_0012455.jpg', './data/TrainCropped/ISIC_0012932.jpg', './data/TrainCropped/ISIC_0000528.jpg', './data/TrainCropped/ISIC_0012379.jpg', './data/TrainCropped/ISIC_0000447.jpg', './data/TrainCropped/ISIC_0010006.jpg', './data/TrainCropped/ISIC_0013805.jpg', './data/TrainCropped/ISIC_0013670.jpg', './data/TrainCropped/ISIC_0014476.jpg', './data/TrainCropped/ISIC_0000251.jpg', './data/TrainCropped/ISIC_0000035.jpg', './data/TrainCropped/ISIC_0002616.jpg', './data/TrainCropped/ISIC_0013498.jpg', './data/TrainCropped/ISIC_0014360.jpg', './data/TrainCropped/ISIC_0000031.jpg', './data/TrainCropped/ISIC_0014174.jpg', './data/TrainCropped/ISIC_0013573.jpg', './data/TrainCropped/ISIC_0000360.jpg', './data/TrainCropped/ISIC_0010370.jpg', './data/TrainCropped/ISIC_0011324.jpg', './data/TrainCropped/ISIC_0011169.jpg', './data/TrainCropped/ISIC_0005666.jpg', './data/TrainCropped/ISIC_0014680.jpg', './data/TrainCropped/ISIC_0013621.jpg', './data/TrainCropped/ISIC_0008403.jpg', './data/TrainCropped/ISIC_0011230.jpg', './data/TrainCropped/ISIC_0009877.jpg', './data/TrainCropped/ISIC_0000244.jpg', './data/TrainCropped/ISIC_0014216.jpg', './data/TrainCropped/ISIC_0010357.jpg', './data/TrainCropped/ISIC_0012333.jpg', './data/TrainCropped/ISIC_0012670.jpg', './data/TrainCropped/ISIC_0014639.jpg', './data/TrainCropped/ISIC_0010567.jpg', './data/TrainCropped/ISIC_0000221.jpg', './data/TrainCropped/ISIC_0000275.jpg', './data/TrainCropped/ISIC_0009943.jpg', './data/TrainCropped/ISIC_0015220.jpg', './data/TrainCropped/ISIC_0000479.jpg', './data/TrainCropped/ISIC_0013071.jpg', './data/TrainCropped/ISIC_0012391.jpg', './data/TrainCropped/ISIC_0000069.jpg', './data/TrainCropped/ISIC_0013428.jpg', './data/TrainCropped/ISIC_0000074.jpg', './data/TrainCropped/ISIC_0002806.jpg', './data/TrainCropped/ISIC_0013403.jpg', './data/TrainCropped/ISIC_0015260.jpg', './data/TrainCropped/ISIC_0000358.jpg', './data/TrainCropped/ISIC_0000223.jpg', './data/TrainCropped/ISIC_0013643.jpg', './data/TrainCropped/ISIC_0013765.jpg', './data/TrainCropped/ISIC_0009938.jpg', './data/TrainCropped/ISIC_0013495.jpg', './data/TrainCropped/ISIC_0010582.jpg', './data/TrainCropped/ISIC_0000179.jpg', './data/TrainCropped/ISIC_0009940.jpg', './data/TrainCropped/ISIC_0000260.jpg', './data/TrainCropped/ISIC_0012227.jpg', './data/TrainCropped/ISIC_0013493.jpg', './data/TrainCropped/ISIC_0013983.jpg', './data/TrainCropped/ISIC_0012382.jpg', './data/TrainCropped/ISIC_0011339.jpg', './data/TrainCropped/ISIC_0013567.jpg', './data/TrainCropped/ISIC_0009869.jpg', './data/TrainCropped/ISIC_0012844.jpg', './data/TrainCropped/ISIC_0000311.jpg', './data/TrainCropped/ISIC_0012257.jpg', './data/TrainCropped/ISIC_0000353.jpg', './data/TrainCropped/ISIC_0013092.jpg', './data/TrainCropped/ISIC_0013378.jpg', './data/TrainCropped/ISIC_0000457.jpg', './data/TrainCropped/ISIC_0013500.jpg', './data/TrainCropped/ISIC_0000513.jpg', './data/TrainCropped/ISIC_0009931.jpg', './data/TrainCropped/ISIC_0010241.jpg', './data/TrainCropped/ISIC_0014785.jpg', './data/TrainCropped/ISIC_0000154.jpg', './data/TrainCropped/ISIC_0010070.jpg', './data/TrainCropped/ISIC_0000253.jpg', './data/TrainCropped/ISIC_0013346.jpg', './data/TrainCropped/ISIC_0010444.jpg', './data/TrainCropped/ISIC_0013134.jpg', './data/TrainCropped/ISIC_0013364.jpg', './data/TrainCropped/ISIC_0013394.jpg', './data/TrainCropped/ISIC_0013553.jpg', './data/TrainCropped/ISIC_0012800.jpg', './data/TrainCropped/ISIC_0000225.jpg', './data/TrainCropped/ISIC_0009965.jpg', './data/TrainCropped/ISIC_0000151.jpg', './data/TrainCropped/ISIC_0014440.jpg', './data/TrainCropped/ISIC_0010054.jpg', './data/TrainCropped/ISIC_0010021.jpg', './data/TrainCropped/ISIC_0014920.jpg', './data/TrainCropped/ISIC_0000018.jpg', './data/TrainCropped/ISIC_0010371.jpg', './data/TrainCropped/ISIC_0014062.jpg', './data/TrainCropped/ISIC_0011158.jpg', './data/TrainCropped/ISIC_0011223.jpg', './data/TrainCropped/ISIC_0000236.jpg', './data/TrainCropped/ISIC_0002975.jpg', './data/TrainCropped/ISIC_0009165.jpg', './data/TrainCropped/ISIC_0000182.jpg', './data/TrainCropped/ISIC_0000546.jpg', './data/TrainCropped/ISIC_0011304.jpg', './data/TrainCropped/ISIC_0010848.jpg', './data/TrainCropped/ISIC_0011321.jpg', './data/TrainCropped/ISIC_0010080.jpg', './data/TrainCropped/ISIC_0000525.jpg', './data/TrainCropped/ISIC_0013581.jpg', './data/TrainCropped/ISIC_0012137.jpg', './data/TrainCropped/ISIC_0003174.jpg', './data/TrainCropped/ISIC_0000109.jpg', './data/TrainCropped/ISIC_0014640.jpg', './data/TrainCropped/ISIC_0000011.jpg', './data/TrainCropped/ISIC_0000059.jpg', './data/TrainCropped/ISIC_0002251.jpg', './data/TrainCropped/ISIC_0000483.jpg', './data/TrainCropped/ISIC_0012164.jpg', './data/TrainCropped/ISIC_0012338.jpg', './data/TrainCropped/ISIC_0012342.jpg', './data/TrainCropped/ISIC_0010362.jpg', './data/TrainCropped/ISIC_0010585.jpg', './data/TrainCropped/ISIC_0013618.jpg', './data/TrainCropped/ISIC_0010251.jpg', './data/TrainCropped/ISIC_0010020.jpg', './data/TrainCropped/ISIC_0012768.jpg', './data/TrainCropped/ISIC_0013918.jpg', './data/TrainCropped/ISIC_0012260.jpg', './data/TrainCropped/ISIC_0014682.jpg', './data/TrainCropped/ISIC_0012203.jpg', './data/TrainCropped/ISIC_0000541.jpg', './data/TrainCropped/ISIC_0014136.jpg', './data/TrainCropped/ISIC_0014609.jpg', './data/TrainCropped/ISIC_0000237.jpg', './data/TrainCropped/ISIC_0010570.jpg', './data/TrainCropped/ISIC_0000999.jpg', './data/TrainCropped/ISIC_0011157.jpg', './data/TrainCropped/ISIC_0000425.jpg', './data/TrainCropped/ISIC_0013205.jpg', './data/TrainCropped/ISIC_0013012.jpg', './data/TrainCropped/ISIC_0014535.jpg', './data/TrainCropped/ISIC_0013817.jpg', './data/TrainCropped/ISIC_0010194.jpg', './data/TrainCropped/ISIC_0014735.jpg', './data/TrainCropped/ISIC_0013986.jpg', './data/TrainCropped/ISIC_0012508.jpg', './data/TrainCropped/ISIC_0015109.jpg', './data/TrainCropped/ISIC_0000095.jpg', './data/TrainCropped/ISIC_0009968.jpg', './data/TrainCropped/ISIC_0012135.jpg', './data/TrainCropped/ISIC_0009994.jpg', './data/TrainCropped/ISIC_0010058.jpg', './data/TrainCropped/ISIC_0009564.jpg', './data/TrainCropped/ISIC_0000281.jpg', './data/TrainCropped/ISIC_0013789.jpg', './data/TrainCropped/ISIC_0012322.jpg', './data/TrainCropped/ISIC_0000439.jpg', './data/TrainCropped/ISIC_0000551.jpg', './data/TrainCropped/ISIC_0013815.jpg', './data/TrainCropped/ISIC_0015112.jpg', './data/TrainCropped/ISIC_0000219.jpg', './data/TrainCropped/ISIC_0009897.jpg', './data/TrainCropped/ISIC_0013236.jpg', './data/TrainCropped/ISIC_0013181.jpg', './data/TrainCropped/ISIC_0000297.jpg', './data/TrainCropped/ISIC_0000519.jpg', './data/TrainCropped/ISIC_0010342.jpg', './data/TrainCropped/ISIC_0007760.jpg', './data/TrainCropped/ISIC_0000418.jpg', './data/TrainCropped/ISIC_0000027.jpg', './data/TrainCropped/ISIC_0000125.jpg', './data/TrainCropped/ISIC_0000346.jpg', './data/TrainCropped/ISIC_0012511.jpg', './data/TrainCropped/ISIC_0014890.jpg', './data/TrainCropped/ISIC_0011345.jpg', './data/TrainCropped/ISIC_0012676.jpg', './data/TrainCropped/ISIC_0014557.jpg', './data/TrainCropped/ISIC_0001126.jpg', './data/TrainCropped/ISIC_0000461.jpg', './data/TrainCropped/ISIC_0013089.jpg', './data/TrainCropped/ISIC_0014486.jpg', './data/TrainCropped/ISIC_0012183.jpg', './data/TrainCropped/ISIC_0011363.jpg', './data/TrainCropped/ISIC_0000366.jpg', './data/TrainCropped/ISIC_0000113.jpg', './data/TrainCropped/ISIC_0014422.jpg', './data/TrainCropped/ISIC_0010455.jpg', './data/TrainCropped/ISIC_0009956.jpg', './data/TrainCropped/ISIC_0013497.jpg', './data/TrainCropped/ISIC_0009879.jpg', './data/TrainCropped/ISIC_0011353.jpg', './data/TrainCropped/ISIC_0012172.jpg', './data/TrainCropped/ISIC_0013969.jpg', './data/TrainCropped/ISIC_0010005.jpg', './data/TrainCropped/ISIC_0012792.jpg', './data/TrainCropped/ISIC_0012148.jpg', './data/TrainCropped/ISIC_0014032.jpg', './data/TrainCropped/ISIC_0013360.jpg', './data/TrainCropped/ISIC_0010089.jpg', './data/TrainCropped/ISIC_0010062.jpg', './data/TrainCropped/ISIC_0010565.jpg', './data/TrainCropped/ISIC_0013798.jpg', './data/TrainCropped/ISIC_0000336.jpg', './data/TrainCropped/ISIC_0008256.jpg', './data/TrainCropped/ISIC_0011336.jpg', './data/TrainCropped/ISIC_0013165.jpg', './data/TrainCropped/ISIC_0011127.jpg', './data/TrainCropped/ISIC_0013409.jpg', './data/TrainCropped/ISIC_0014366.jpg', './data/TrainCropped/ISIC_0010173.jpg', './data/TrainCropped/ISIC_0010587.jpg', './data/TrainCropped/ISIC_0014869.jpg', './data/TrainCropped/ISIC_0010574.jpg', './data/TrainCropped/ISIC_0013578.jpg', './data/TrainCropped/ISIC_0012214.jpg', './data/TrainCropped/ISIC_0012150.jpg', './data/TrainCropped/ISIC_0010465.jpg', './data/TrainCropped/ISIC_0010862.jpg', './data/TrainCropped/ISIC_0014593.jpg', './data/TrainCropped/ISIC_0012213.jpg', './data/TrainCropped/ISIC_0000393.jpg', './data/TrainCropped/ISIC_0012949.jpg', './data/TrainCropped/ISIC_0000061.jpg', './data/TrainCropped/ISIC_0000086.jpg', './data/TrainCropped/ISIC_0011213.jpg', './data/TrainCropped/ISIC_0000347.jpg', './data/TrainCropped/ISIC_0011296.jpg', './data/TrainCropped/ISIC_0012976.jpg', './data/TrainCropped/ISIC_0000396.jpg', './data/TrainCropped/ISIC_0012888.jpg', './data/TrainCropped/ISIC_0010374.jpg', './data/TrainCropped/ISIC_0010060.jpg', './data/TrainCropped/ISIC_0010320.jpg', './data/TrainCropped/ISIC_0010590.jpg', './data/TrainCropped/ISIC_0013625.jpg', './data/TrainCropped/ISIC_0000042.jpg', './data/TrainCropped/ISIC_0014650.jpg', './data/TrainCropped/ISIC_0014812.jpg', './data/TrainCropped/ISIC_0000261.jpg', './data/TrainCropped/ISIC_0012988.jpg', './data/TrainCropped/ISIC_0012205.jpg', './data/TrainCropped/ISIC_0010443.jpg', './data/TrainCropped/ISIC_0000164.jpg', './data/TrainCropped/ISIC_0014361.jpg', './data/TrainCropped/ISIC_0010487.jpg', './data/TrainCropped/ISIC_0012741.jpg', './data/TrainCropped/ISIC_0014708.jpg', './data/TrainCropped/ISIC_0013212.jpg', './data/TrainCropped/ISIC_0012102.jpg', './data/TrainCropped/ISIC_0000102.jpg', './data/TrainCropped/ISIC_0003005.jpg', './data/TrainCropped/ISIC_0000039.jpg', './data/TrainCropped/ISIC_0013840.jpg', './data/TrainCropped/ISIC_0006326.jpg', './data/TrainCropped/ISIC_0011130.jpg', './data/TrainCropped/ISIC_0000332.jpg', './data/TrainCropped/ISIC_0000007.jpg', './data/TrainCropped/ISIC_0010463.jpg', './data/TrainCropped/ISIC_0000072.jpg', './data/TrainCropped/ISIC_0010861.jpg', './data/TrainCropped/ISIC_0015113.jpg', './data/TrainCropped/ISIC_0009891.jpg', './data/TrainCropped/ISIC_0010090.jpg', './data/TrainCropped/ISIC_0014164.jpg', './data/TrainCropped/ISIC_0011359.jpg', './data/TrainCropped/ISIC_0013778.jpg', './data/TrainCropped/ISIC_0011121.jpg', './data/TrainCropped/ISIC_0000093.jpg', './data/TrainCropped/ISIC_0014860.jpg', './data/TrainCropped/ISIC_0000478.jpg', './data/TrainCropped/ISIC_0012325.jpg', './data/TrainCropped/ISIC_0011159.jpg', './data/TrainCropped/ISIC_0013572.jpg', './data/TrainCropped/ISIC_0013691.jpg', './data/TrainCropped/ISIC_0010356.jpg', './data/TrainCropped/ISIC_0000514.jpg', './data/TrainCropped/ISIC_0009875.jpg', './data/TrainCropped/ISIC_0010351.jpg', './data/TrainCropped/ISIC_0014702.jpg', './data/TrainCropped/ISIC_0009958.jpg', './data/TrainCropped/ISIC_0013874.jpg', './data/TrainCropped/ISIC_0014120.jpg', './data/TrainCropped/ISIC_0000544.jpg', './data/TrainCropped/ISIC_0000000.jpg', './data/TrainCropped/ISIC_0012884.jpg', './data/TrainCropped/ISIC_0000518.jpg', './data/TrainCropped/ISIC_0013456.jpg', './data/TrainCropped/ISIC_0012772.jpg', './data/TrainCropped/ISIC_0014771.jpg', './data/TrainCropped/ISIC_0000062.jpg', './data/TrainCropped/ISIC_0001960.jpg', './data/TrainCropped/ISIC_0013474.jpg', './data/TrainCropped/ISIC_0000196.jpg', './data/TrainCropped/ISIC_0014778.jpg', './data/TrainCropped/ISIC_0000416.jpg', './data/TrainCropped/ISIC_0010168.jpg', './data/TrainCropped/ISIC_0012351.jpg', './data/TrainCropped/ISIC_0000092.jpg', './data/TrainCropped/ISIC_0002948.jpg', './data/TrainCropped/ISIC_0013962.jpg', './data/TrainCropped/ISIC_0012173.jpg', './data/TrainCropped/ISIC_0014846.jpg', './data/TrainCropped/ISIC_0009883.jpg', './data/TrainCropped/ISIC_0013037.jpg', './data/TrainCropped/ISIC_0013356.jpg', './data/TrainCropped/ISIC_0013385.jpg', './data/TrainCropped/ISIC_0000395.jpg', './data/TrainCropped/ISIC_0010452.jpg', './data/TrainCropped/ISIC_0010344.jpg', './data/TrainCropped/ISIC_0000348.jpg', './data/TrainCropped/ISIC_0013836.jpg', './data/TrainCropped/ISIC_0013671.jpg', './data/TrainCropped/ISIC_0012659.jpg', './data/TrainCropped/ISIC_0010171.jpg', './data/TrainCropped/ISIC_0009941.jpg', './data/TrainCropped/ISIC_0000503.jpg', './data/TrainCropped/ISIC_0013079.jpg', './data/TrainCropped/ISIC_0013709.jpg', './data/TrainCropped/ISIC_0010346.jpg', './data/TrainCropped/ISIC_0000055.jpg', './data/TrainCropped/ISIC_0013584.jpg', './data/TrainCropped/ISIC_0010857.jpg', './data/TrainCropped/ISIC_0000423.jpg', './data/TrainCropped/ISIC_0009889.jpg', './data/TrainCropped/ISIC_0000191.jpg', './data/TrainCropped/ISIC_0000250.jpg', './data/TrainCropped/ISIC_0014545.jpg', './data/TrainCropped/ISIC_0014591.jpg', './data/TrainCropped/ISIC_0010017.jpg', './data/TrainCropped/ISIC_0013340.jpg', './data/TrainCropped/ISIC_0014163.jpg', './data/TrainCropped/ISIC_0012666.jpg', './data/TrainCropped/ISIC_0010606.jpg', './data/TrainCropped/ISIC_0014480.jpg', './data/TrainCropped/ISIC_0010029.jpg', './data/TrainCropped/ISIC_0012170.jpg', './data/TrainCropped/ISIC_0014788.jpg', './data/TrainCropped/ISIC_0000458.jpg', './data/TrainCropped/ISIC_0000073.jpg', './data/TrainCropped/ISIC_0010860.jpg', './data/TrainCropped/ISIC_0000068.jpg']\n",
            "There are 2000 Train images\n"
          ]
        }
      ],
      "source": [
        "pathTrain=glob.glob(path + \"TrainCropped/*.jpg\")\n",
        "print(pathTrain)\n",
        "idTrain=np.copy(pathTrain)\n",
        "if IN_COLAB:\n",
        "    for i in np.arange(len(idTrain)): idTrain[i]=idTrain[i][20:-4]\n",
        "else:\n",
        "    for i in np.arange(len(idTrain)): idTrain[i]=idTrain[i][13:-4]\n",
        "#print(idTrain)\n",
        "print('There are', len(idTrain), 'Train images')"
      ]
    },
    {
      "cell_type": "code",
      "execution_count": 6,
      "metadata": {
        "id": "XKnL44cKqEl3",
        "colab": {
          "base_uri": "https://localhost:8080/"
        },
        "outputId": "37365d0e-4398-4389-e674-841f0277268f"
      },
      "outputs": [
        {
          "output_type": "stream",
          "name": "stdout",
          "text": [
            "There are 150 Validation images\n"
          ]
        }
      ],
      "source": [
        "pathVal=glob.glob(path + \"ValCropped/*.jpg\")\n",
        "idVal=np.copy(pathVal)\n",
        "if IN_COLAB:\n",
        "    for i in np.arange(len(idVal)): idVal[i]=idVal[i][18:-4]\n",
        "else:\n",
        "    for i in np.arange(len(idVal)): idVal[i]=idVal[i][11:-4]\n",
        "#print(idVal)\n",
        "print('There are', len(idVal) , 'Validation images')"
      ]
    },
    {
      "cell_type": "code",
      "execution_count": 7,
      "metadata": {
        "id": "ZJLmMYRgpQFk",
        "colab": {
          "base_uri": "https://localhost:8080/"
        },
        "outputId": "62dbcb38-2357-4bf9-893d-17906e44611d"
      },
      "outputs": [
        {
          "output_type": "stream",
          "name": "stdout",
          "text": [
            "There are 600 Test images\n"
          ]
        }
      ],
      "source": [
        "pathTest=glob.glob(path + \"TestCropped/*.jpg\")\n",
        "idTest=np.copy(pathTest)\n",
        "if IN_COLAB:\n",
        "    for i in np.arange(len(idTest)): idTest[i]=idTest[i][19:-4]\n",
        "else:\n",
        "    for i in np.arange(len(idTest)): idTest[i]=idTest[i][12:-4]\n",
        "#print(idTest)\n",
        "print('There are', len(idTest) , 'Test images')"
      ]
    },
    {
      "cell_type": "markdown",
      "source": [
        "## Loading Metadata and Target values\n",
        "\n",
        "You have at your disposal also two metadata, the age and the sex. If you want, you can use them as features in the classification but be careful ! There are missing values\n",
        "\n",
        "We also load the target values (0 for benign and 1 for melanoma)"
      ],
      "metadata": {
        "id": "ngOYRqe9h-N1"
      }
    },
    {
      "cell_type": "code",
      "execution_count": 8,
      "metadata": {
        "id": "X3qeLjuB9F84",
        "colab": {
          "base_uri": "https://localhost:8080/"
        },
        "outputId": "1f57ebd2-ef96-481a-fd50-00c28aa091ce"
      },
      "outputs": [
        {
          "output_type": "stream",
          "name": "stdout",
          "text": [
            "       image_id age_approximate     sex\n",
            "0  ISIC_0000000              55  female\n",
            "1  ISIC_0000001              30  female\n",
            "2  ISIC_0000002              60  female\n",
            "3  ISIC_0000003              30    male\n",
            "4  ISIC_0000004              80    male\n",
            "5  ISIC_0000006              25  female\n",
            "6  ISIC_0000007              25  female\n",
            "7  ISIC_0000008              30  female\n",
            "8  ISIC_0000009              30  female\n",
            "9  ISIC_0000010              35  female\n"
          ]
        }
      ],
      "source": [
        "Metatrain = pd.read_csv('./data/TrainCropped/ISIC-2017_Training_Data_metadata.csv')\n",
        "print(Metatrain.head(10))\n",
        "Groundtrain = pd.read_csv('./data/TrainCropped/ISIC-2017_Training_Part3_GroundTruth.csv')"
      ]
    },
    {
      "cell_type": "code",
      "execution_count": 9,
      "metadata": {
        "id": "rqB5ZLXeyo3q"
      },
      "outputs": [],
      "source": [
        "Ytrain=np.zeros(len(idTrain))\n",
        "for i in range(len(idTrain)):\n",
        "  name=idTrain[i]\n",
        "  index=Groundtrain[\"image_id\"].str.find(name)\n",
        "  max_index = index.argmax()\n",
        "  Ytrain[i]=int(Groundtrain[\"melanoma\"][max_index])"
      ]
    },
    {
      "cell_type": "code",
      "execution_count": 10,
      "metadata": {
        "id": "crTO9h5x5Fla"
      },
      "outputs": [],
      "source": [
        "Metaval = pd.read_csv('./data/ValCropped/ISIC-2017_Validation_Data_metadata.csv')\n",
        "Groundval = pd.read_csv('./data/ValCropped/ISIC-2017_Validation_Part3_GroundTruth.csv')"
      ]
    },
    {
      "cell_type": "code",
      "execution_count": 11,
      "metadata": {
        "id": "D7QFUNEtys_L"
      },
      "outputs": [],
      "source": [
        "Yval=np.zeros(len(idVal))\n",
        "for i in range(len(idVal)):\n",
        "  name=idVal[i]\n",
        "  index=Groundval[\"image_id\"].str.find(name)\n",
        "  max_index = index.argmax()\n",
        "  Yval[i]=int(Groundval[\"melanoma\"][max_index])"
      ]
    },
    {
      "cell_type": "code",
      "execution_count": 12,
      "metadata": {
        "id": "bgSzrYNS5dnH"
      },
      "outputs": [],
      "source": [
        "Metatest = pd.read_csv('./data/TestCropped/ISIC-2017_Test_v2_Data_metadata.csv')\n",
        "Groundtest = pd.read_csv('./data/TestCropped/ISIC-2017_Test_v2_Part3_GroundTruth.csv')"
      ]
    },
    {
      "cell_type": "code",
      "execution_count": 13,
      "metadata": {
        "id": "yZjgOfVqytE_"
      },
      "outputs": [],
      "source": [
        "Ytest=np.zeros(len(idTest))\n",
        "for i in range(len(idTest)):\n",
        "  name=idTest[i]\n",
        "  index=Groundtest[\"image_id\"].str.find(name)\n",
        "  max_index = index.argmax()\n",
        "  Ytest[i]=int(Groundtest[\"melanoma\"][max_index])"
      ]
    },
    {
      "cell_type": "markdown",
      "metadata": {
        "id": "gSx_jQAXxMvG"
      },
      "source": [
        "##Deep Learning\n",
        "In this section, you will try simple Deep Learning strategies:\n",
        "- Fine-tuning the last layer of a network already trained on Image-Net\n",
        "- Re-training completely a network already trained on Image-Net\n",
        "- Re-training from scratch a network that has already shown good performances on other data-sets (architecture transfer or inductive bias transfer)\n",
        "\n",
        "You will have to use at least three different networks (e.g., ResNet, VGG, DenseNet)\n",
        "\n",
        "**Please compute the full time (reading papers/tutorials, coding, computational time) you spend on this part. It will be asked at the end of the practical session**"
      ]
    },
    {
      "cell_type": "markdown",
      "source": [
        "Pytorch also offers two nice primitives for storing and working with datasets:\n",
        "\n",
        "*   **Dataset** stores the images, labels and segmentation masks\n",
        "*   **DataLoader** wraps an iterable around the elements of the Dataset\n",
        "\n",
        "This is very practical since we can easily resize the images to the same size (important for DL) and multiply image and segmentation masks. Here, you have an exemple."
      ],
      "metadata": {
        "id": "9heR0Je9QA0n"
      }
    },
    {
      "cell_type": "code",
      "source": [
        "class ISICDataset(Dataset):\n",
        "    def __init__(self, pathlist, targets, size=(224,224)):\n",
        "        self.image_paths = pathlist\n",
        "        self.mask_paths = [ p[:-4]+'seg.png' for p in pathlist ]\n",
        "        self.targets = torch.LongTensor(targets)\n",
        "        self.size=size\n",
        "\n",
        "    def __len__(self):\n",
        "        return len(self.image_paths)\n",
        "\n",
        "    def __getitem__(self, idx):\n",
        "        img_path = self.image_paths[idx]\n",
        "        mask_path = self.mask_paths[idx]\n",
        "        y = self.targets[idx]\n",
        "\n",
        "        x = Image.open(img_path).resize(self.size, Image.BILINEAR) # all images are resized to (224,224)\n",
        "        s = Image.open(mask_path).resize(self.size, Image.NEAREST) # all segmentation masks are resized to (224,224)\n",
        "\n",
        "        # Multiply image and segmentation mask\n",
        "        blank = x.point(lambda _: 0)\n",
        "        c = Image.composite(x, blank, s)\n",
        "\n",
        "        # Send to tensor\n",
        "        x = TF.to_tensor(x)\n",
        "        c = TF.to_tensor(c)\n",
        "\n",
        "        # Normalize according to ImageNet statistics\n",
        "        x = TF.normalize(x,(0.485, 0.456, 0.406), (0.229, 0.224, 0.225))\n",
        "        c = TF.normalize(c,(0.485, 0.456, 0.406), (0.229, 0.224, 0.225))\n",
        "\n",
        "        return x, c, y"
      ],
      "metadata": {
        "id": "xHTjTKxD0zhb"
      },
      "execution_count": 79,
      "outputs": []
    },
    {
      "cell_type": "markdown",
      "source": [
        "\n",
        "Another reason why DataSets and DataLoaders are practical is that we can automatically apply data augmentation strategies. For instance, if we want to automatically apply (the same) data augmentations to both images and segmentations, we can use:"
      ],
      "metadata": {
        "id": "XJouPwpy06Rl"
      }
    },
    {
      "cell_type": "code",
      "source": [
        "class AddGaussianNoise(object):\n",
        "    def __init__(self, mean=0., std=1.):\n",
        "        self.std = std\n",
        "        self.mean = mean\n",
        "\n",
        "    def __call__(self, tensor):\n",
        "        return tensor + torch.randn(tensor.size()) * self.std + self.mean\n",
        "\n",
        "    def __repr__(self):\n",
        "        return self.__class__.__name__ + '(mean={0}, std={1})'.format(self.mean, self.std)\n",
        "\n",
        "\n",
        "class ISICDatasetWithAug(Dataset):\n",
        "    def __init__(self, pathlist, targets, size=(224,224)):\n",
        "        self.image_paths = pathlist\n",
        "        self.mask_paths = [ p[:-4]+'seg.png' for p in pathlist ]\n",
        "        self.targets = torch.LongTensor(targets)\n",
        "        self.size=size\n",
        "\n",
        "    def __len__(self):\n",
        "        return len(self.image_paths)\n",
        "\n",
        "    def __getitem__(self, idx):\n",
        "        img_path = self.image_paths[idx]\n",
        "        mask_path = self.mask_paths[idx]\n",
        "        y = self.targets[idx]\n",
        "\n",
        "        x = Image.open(img_path).resize(self.size, Image.BILINEAR) # all images are resized to (224,224)\n",
        "        s = Image.open(mask_path).resize(self.size, Image.NEAREST) # all segmentation masks are resized to (224,224)\n",
        "\n",
        "        # Random crop\n",
        "        i, j, h, w = transforms.RandomCrop.get_params(x, output_size=(128, 128))\n",
        "        x = TF.crop(x, i, j, h, w)\n",
        "        s = TF.crop(s, i, j, h, w)\n",
        "\n",
        "        # Random horizontal flipping\n",
        "        if np.random.random() > 0.5:\n",
        "          x = TF.hflip(x)\n",
        "          s = TF.hflip(s)\n",
        "\n",
        "        # Random vertical flipping\n",
        "        if np.random.random() > 0.5:\n",
        "            x = TF.vflip(x)\n",
        "            s = TF.vflip(s)\n",
        "\n",
        "        # Random rotation\n",
        "        angle=np.random.randint(-90, 90)\n",
        "        x=TF.rotate(x, angle, InterpolationMode.BILINEAR)\n",
        "        s=TF.rotate(s,angle, InterpolationMode.NEAREST)\n",
        "\n",
        "        # Multiply image and segmentation mask\n",
        "        blank = x.point(lambda _: 0)\n",
        "        c = Image.composite(x, blank, s)\n",
        "\n",
        "        # Send to tensor\n",
        "        x = TF.to_tensor(x)\n",
        "        c = TF.to_tensor(c)\n",
        "\n",
        "        # Normalize according to ImageNet statistics\n",
        "        x = TF.normalize(x,(0.485, 0.456, 0.406), (0.229, 0.224, 0.225))\n",
        "        c = TF.normalize(c,(0.485, 0.456, 0.406), (0.229, 0.224, 0.225))\n",
        "\n",
        "        return x, c, y\n",
        "\n",
        "\n"
      ],
      "metadata": {
        "id": "8TNzXlS12PBZ"
      },
      "execution_count": 15,
      "outputs": []
    },
    {
      "cell_type": "markdown",
      "source": [
        "You have probably noticed that there are three outputs.\n",
        "\n",
        "**Question**: Explain what they are and which data augmentations we are computing."
      ],
      "metadata": {
        "id": "2y54RPw_1QD-"
      }
    },
    {
      "cell_type": "markdown",
      "source": [
        "*x*: The original image tensor. The image is opened, resized to size (224x224), converted to a tensor, and then normalized using ImageNet statistics. This tensor is suitable for input into a deep learning model pre-trained on ImageNet.\n",
        "\n",
        "c: The image tensor after being multiplied by the segmentation mask. The segmentation mask is used to isolate the lesion from the rest of the image. The 'composite' image is created by blending the original image and a blank image using the segmentation mask as the alpha channel.\n",
        "\n",
        "y: The target label for the image. This is a tensor representing the class label (benign or malignant) of the skin lesion."
      ],
      "metadata": {
        "id": "JpDie1C4LwCb"
      }
    },
    {
      "cell_type": "markdown",
      "source": [
        "Then, we can load the data"
      ],
      "metadata": {
        "id": "y1uTyUxHRggO"
      }
    },
    {
      "cell_type": "code",
      "source": [
        "from tqdm import tqdm"
      ],
      "metadata": {
        "id": "-RloizxgLtie"
      },
      "execution_count": 16,
      "outputs": []
    },
    {
      "cell_type": "code",
      "execution_count": 80,
      "metadata": {
        "id": "_0jifSbi2hqF",
        "colab": {
          "base_uri": "https://localhost:8080/"
        },
        "outputId": "fdc0e20a-1700-4b13-ae9d-2a0b983e6e41"
      },
      "outputs": [
        {
          "output_type": "stream",
          "name": "stdout",
          "text": [
            "Device: cuda:0\n"
          ]
        }
      ],
      "source": [
        "# to make the results reproducible\n",
        "np.random.seed(10)\n",
        "torch.manual_seed(10)\n",
        "torch.cuda.manual_seed(10)\n",
        "\n",
        "# Ensure that you are using GPU\n",
        "device = torch.device(\"cuda:0\") if torch.cuda.is_available() else torch.device(\"cpu\")\n",
        "print(\"Device:\", device)\n",
        "\n",
        "batch_size=256 # adapted to the Google Colab GPU\n",
        "num_epochs=5# to be modified\n",
        "learning_rate=0.05 # to be modified\n",
        "\n",
        "train_dataset = ISICDataset(pathTrain, Ytrain)\n",
        "val_dataset=ISICDataset(pathVal, Yval)\n",
        "test_dataset=ISICDataset(pathTest, Ytest)\n",
        "\n",
        "train_loader = DataLoader(train_dataset, num_workers=1, batch_size=batch_size, shuffle=True)\n",
        "val_loader = DataLoader(val_dataset, num_workers=1, batch_size=batch_size)\n",
        "test_loader = DataLoader(test_dataset, num_workers=1, batch_size=batch_size)"
      ]
    },
    {
      "cell_type": "markdown",
      "source": [
        "## ResNet"
      ],
      "metadata": {
        "id": "coQscOT24Njs"
      }
    },
    {
      "cell_type": "markdown",
      "metadata": {
        "id": "wmgna2Enf2C_"
      },
      "source": [
        "### The first part will be about fine-tuning the last layer of a network already pre-trained on Image-Net. Here it is the code:"
      ]
    },
    {
      "cell_type": "code",
      "execution_count": 81,
      "metadata": {
        "id": "QAdT42HowBv_"
      },
      "outputs": [],
      "source": [
        "num_classes = 1 # since we use the BCEWithLogitsLoss, we only have one output (if you were using CrossEntropy Loss, num_classes would be 2)\n",
        "\n",
        "# Load a pre-trained ResNet-18 model\n",
        "resnet18 = models.resnet18(weights='IMAGENET1K_V1')\n",
        "# Freeze all parameters of the model\n",
        "for param in resnet18.parameters():\n",
        "    param.requires_grad = False\n",
        "# Change last layer, the fully connected layer (classifier)\n",
        "resnet18.fc = torch.nn.Linear(resnet18.fc.in_features, num_classes)"
      ]
    },
    {
      "cell_type": "markdown",
      "source": [
        "Then, we can train this last layer on the training data. Find the best model in the validation set and evaluate the generalization performance on the test set. If you look for the best hyper-parameter, you should also use the validation set."
      ],
      "metadata": {
        "id": "usA9BqarwBv_"
      }
    },
    {
      "cell_type": "code",
      "source": [
        "acc_models_test = []"
      ],
      "metadata": {
        "id": "PXbf3b6QMFWX"
      },
      "execution_count": 19,
      "outputs": []
    },
    {
      "cell_type": "code",
      "source": [
        "model=resnet18.float().cuda() # use float32 to save a bit of memory\n",
        "\n",
        "# pos_weight is N_Train/sum(Ytrain) -> why in your opinion ?\n",
        "# calculates how many times the negative class is more frequent than the positive class.\n",
        "# By setting pos_weight to this value, it's like telling the model to pretend that the classes are balanced.\n",
        "criterion = nn.BCEWithLogitsLoss(pos_weight=torch.Tensor([5.347593582887701]).cuda())\n",
        "auc = torchmetrics.AUROC(task='binary',num_classes=2, average = 'macro').cuda()\n",
        "accuracy = torchmetrics.Accuracy(task='binary',num_classes = 2, average='micro').cuda()\n",
        "optimizer = optim.Adam(model.parameters(), lr=learning_rate)\n",
        "Tensor = torch.cuda.FloatTensor # use float32 to save a bit of memory\n",
        "\n",
        "# Training\n",
        "for epoch in range(num_epochs):\n",
        "    model.train()\n",
        "    train_loss = 0.0\n",
        "    for images, composite, labels in tqdm(train_loader):\n",
        "        optimizer.zero_grad()\n",
        "        outputs = model(images.float().cuda())\n",
        "        # outputs = model(composite.float().cuda())\n",
        "        loss = criterion(outputs.squeeze(), labels.float().cuda())\n",
        "        loss.backward()\n",
        "        optimizer.step()\n",
        "        train_loss += loss.item() * images.size(0)\n",
        "        # train_loss += loss.item() * composite.size(0)\n",
        "    train_loss = train_loss / len(train_dataset)\n",
        "\n",
        "    all_preds=[]\n",
        "    all_labels=[]\n",
        "    # Validation\n",
        "    model.eval()\n",
        "    val_loss = 0.0\n",
        "    with torch.no_grad():\n",
        "        for images, composite, labels in tqdm(val_loader):\n",
        "            #outputs = model(images.float().cuda())\n",
        "            outputs = model(composite.float().cuda())\n",
        "            loss = criterion(outputs.squeeze(), labels.float().cuda())\n",
        "            #val_loss += loss.item() * images.size(0)\n",
        "            val_loss += loss.item() * composite.size(0)\n",
        "            preds=torch.sigmoid(outputs).squeeze()\n",
        "            auc.update(preds, labels.cuda())\n",
        "            accuracy.update(preds, labels.cuda())\n",
        "    val_loss = val_loss / len(val_dataset)\n",
        "    val_auc = auc.compute()\n",
        "    val_acc = accuracy.compute()\n",
        "    print('Epoch [{}/{}], Train Loss: {:.4f}, Val Loss: {:.4f}, Val AUC: {:.4f}, Val Acc: {:.4f}'.format(epoch+1, num_epochs, train_loss, val_loss, val_auc, val_acc))\n",
        "\n"
      ],
      "metadata": {
        "colab": {
          "base_uri": "https://localhost:8080/"
        },
        "outputId": "48779e1a-e966-493c-b3d4-f273e3543035",
        "id": "5Y3l36qIwBwA"
      },
      "execution_count": 82,
      "outputs": [
        {
          "output_type": "stream",
          "name": "stderr",
          "text": [
            "100%|██████████| 8/8 [00:09<00:00,  1.17s/it]\n",
            "100%|██████████| 1/1 [00:01<00:00,  1.06s/it]\n"
          ]
        },
        {
          "output_type": "stream",
          "name": "stdout",
          "text": [
            "Epoch [1/5], Train Loss: 10.8763, Val Loss: 4.7878, Val AUC: 0.6928, Val Acc: 0.8000\n"
          ]
        },
        {
          "output_type": "stream",
          "name": "stderr",
          "text": [
            "100%|██████████| 8/8 [00:08<00:00,  1.10s/it]\n",
            "100%|██████████| 1/1 [00:01<00:00,  1.36s/it]\n"
          ]
        },
        {
          "output_type": "stream",
          "name": "stdout",
          "text": [
            "Epoch [2/5], Train Loss: 4.3751, Val Loss: 1.2449, Val AUC: 0.6085, Val Acc: 0.7000\n"
          ]
        },
        {
          "output_type": "stream",
          "name": "stderr",
          "text": [
            "100%|██████████| 8/8 [00:10<00:00,  1.28s/it]\n",
            "100%|██████████| 1/1 [00:01<00:00,  1.09s/it]\n"
          ]
        },
        {
          "output_type": "stream",
          "name": "stdout",
          "text": [
            "Epoch [3/5], Train Loss: 2.2559, Val Loss: 1.2890, Val AUC: 0.6324, Val Acc: 0.6578\n"
          ]
        },
        {
          "output_type": "stream",
          "name": "stderr",
          "text": [
            "100%|██████████| 8/8 [00:09<00:00,  1.16s/it]\n",
            "100%|██████████| 1/1 [00:01<00:00,  1.06s/it]\n"
          ]
        },
        {
          "output_type": "stream",
          "name": "stdout",
          "text": [
            "Epoch [4/5], Train Loss: 1.5913, Val Loss: 1.4059, Val AUC: 0.6531, Val Acc: 0.6217\n"
          ]
        },
        {
          "output_type": "stream",
          "name": "stderr",
          "text": [
            "100%|██████████| 8/8 [00:09<00:00,  1.20s/it]\n",
            "100%|██████████| 1/1 [00:01<00:00,  1.05s/it]"
          ]
        },
        {
          "output_type": "stream",
          "name": "stdout",
          "text": [
            "Epoch [5/5], Train Loss: 1.4115, Val Loss: 1.1371, Val AUC: 0.6702, Val Acc: 0.6400\n"
          ]
        },
        {
          "output_type": "stream",
          "name": "stderr",
          "text": [
            "\n"
          ]
        }
      ]
    },
    {
      "cell_type": "code",
      "source": [
        "### Testing\n",
        "model.eval()\n",
        "test_loss=0\n",
        "with torch.no_grad():\n",
        "    for images, composite, labels in tqdm(test_loader):\n",
        "        outputs = model(images.float().cuda())\n",
        "        loss = criterion(outputs.squeeze(), labels.float().cuda())\n",
        "        test_loss += loss.item()\n",
        "        preds=torch.sigmoid(outputs).squeeze()\n",
        "        auc.update(preds, labels.cuda())\n",
        "        accuracy.update(preds, labels.cuda())\n",
        "test_loss = test_loss / len(test_dataset)\n",
        "test_auc = auc.compute()\n",
        "test_acc = accuracy.compute()\n",
        "print('\\nTest Loss: {:.4f}, Test AUC: {:.4f}, Test Acc: {:.4f}'.format(test_loss, test_auc, test_acc))\n",
        "acc_models_test.append(test_acc)"
      ],
      "metadata": {
        "colab": {
          "base_uri": "https://localhost:8080/"
        },
        "outputId": "13dc133d-3db4-411a-edc2-ad82f8f70126",
        "id": "9h1nKvCRwBwA"
      },
      "execution_count": 83,
      "outputs": [
        {
          "output_type": "stream",
          "name": "stderr",
          "text": [
            "100%|██████████| 3/3 [00:03<00:00,  1.07s/it]"
          ]
        },
        {
          "output_type": "stream",
          "name": "stdout",
          "text": [
            "\n",
            "Test Loss: 0.0080, Test AUC: 0.7002, Test Acc: 0.7059\n"
          ]
        },
        {
          "output_type": "stream",
          "name": "stderr",
          "text": [
            "\n"
          ]
        }
      ]
    },
    {
      "cell_type": "markdown",
      "metadata": {
        "id": "HPN5No_YwBwB"
      },
      "source": [
        "### Now, it's time to retrain the entire network (previously pre-trained on Imagenet)\n"
      ]
    },
    {
      "cell_type": "code",
      "source": [
        "\n",
        "#Unfreeze all parameters of the model to retrain the entire network\n",
        "for param in resnet18.parameters():\n",
        "    param.requires_grad = True\n",
        "\n",
        "resnet18.fc = nn.Linear(resnet18.fc.in_features, num_classes)\n",
        "# optimizer = optim.Adam(model.parameters(), lr=learning_rate)\n",
        "\n",
        "# We train the the network on the same code as proposed above and then test\n"
      ],
      "metadata": {
        "id": "qvoqgrMqwBwB"
      },
      "execution_count": 22,
      "outputs": []
    },
    {
      "cell_type": "code",
      "source": [
        "model=resnet18.float().cuda() # use float32 to save a bit of memory\n",
        "\n",
        "# pos_weight is N_Train/sum(Ytrain) -> why in your opinion ?\n",
        "# calculates how many times the negative class is more frequent than the positive class.\n",
        "# By setting pos_weight to this value, it's like telling the model to pretend that the classes are balanced.\n",
        "criterion = nn.BCEWithLogitsLoss(pos_weight=torch.Tensor([5.347593582887701]).cuda())\n",
        "auc = torchmetrics.AUROC(task='binary',num_classes=2, average = 'macro').cuda()\n",
        "accuracy = torchmetrics.Accuracy(task='binary',num_classes = 2, average='micro').cuda()\n",
        "optimizer = optim.Adam(model.parameters(), lr=learning_rate)\n",
        "Tensor = torch.cuda.FloatTensor # use float32 to save a bit of memory\n",
        "\n",
        "# Training\n",
        "for epoch in range(num_epochs):\n",
        "    model.train()\n",
        "    train_loss = 0.0\n",
        "    for images, composite, labels in tqdm(train_loader):\n",
        "        optimizer.zero_grad()\n",
        "        #outputs = model(images.float().cuda())\n",
        "        outputs = model(composite.float().cuda())\n",
        "        loss = criterion(outputs.squeeze(), labels.float().cuda())\n",
        "        loss.backward()\n",
        "        optimizer.step()\n",
        "        #train_loss += loss.item() * images.size(0)\n",
        "        train_loss += loss.item() * composite.size(0)\n",
        "    train_loss = train_loss / len(train_dataset)\n",
        "\n",
        "    all_preds=[]\n",
        "    all_labels=[]\n",
        "    # Validation\n",
        "    model.eval()\n",
        "    val_loss = 0.0\n",
        "    with torch.no_grad():\n",
        "        for images, composite, labels in tqdm(val_loader):\n",
        "            #outputs = model(images.float().cuda())\n",
        "            outputs = model(composite.float().cuda())\n",
        "            loss = criterion(outputs.squeeze(), labels.float().cuda())\n",
        "            #val_loss += loss.item() * images.size(0)\n",
        "            val_loss += loss.item() * composite.size(0)\n",
        "            preds=torch.sigmoid(outputs).squeeze()\n",
        "            auc.update(preds, labels.cuda())\n",
        "            accuracy.update(preds, labels.cuda())\n",
        "    val_loss = val_loss / len(val_dataset)\n",
        "    val_auc = auc.compute()\n",
        "    val_acc = accuracy.compute()\n",
        "    print('Epoch [{}/{}], Train Loss: {:.4f}, Val Loss: {:.4f}, Val AUC: {:.4f}, Val Acc: {:.4f}'.format(epoch+1, num_epochs, train_loss, val_loss, val_auc, val_acc))\n",
        "\n"
      ],
      "metadata": {
        "id": "FkBUxFe_NwnN",
        "colab": {
          "base_uri": "https://localhost:8080/"
        },
        "outputId": "6b710518-8bd1-4a62-d970-c672dfc93344"
      },
      "execution_count": 23,
      "outputs": [
        {
          "output_type": "stream",
          "name": "stderr",
          "text": [
            "100%|██████████| 8/8 [00:10<00:00,  1.25s/it]\n",
            "100%|██████████| 1/1 [00:01<00:00,  1.26s/it]\n"
          ]
        },
        {
          "output_type": "stream",
          "name": "stdout",
          "text": [
            "Epoch [1/5], Train Loss: 3.8122, Val Loss: 57299368.0000, Val AUC: 0.5000, Val Acc: 0.8000\n"
          ]
        },
        {
          "output_type": "stream",
          "name": "stderr",
          "text": [
            "100%|██████████| 8/8 [00:09<00:00,  1.22s/it]\n",
            "100%|██████████| 1/1 [00:01<00:00,  1.31s/it]\n"
          ]
        },
        {
          "output_type": "stream",
          "name": "stdout",
          "text": [
            "Epoch [2/5], Train Loss: 2.0857, Val Loss: 10240.0322, Val AUC: 0.5000, Val Acc: 0.5000\n"
          ]
        },
        {
          "output_type": "stream",
          "name": "stderr",
          "text": [
            "100%|██████████| 8/8 [00:10<00:00,  1.29s/it]\n",
            "100%|██████████| 1/1 [00:01<00:00,  1.48s/it]\n"
          ]
        },
        {
          "output_type": "stream",
          "name": "stdout",
          "text": [
            "Epoch [3/5], Train Loss: 1.7411, Val Loss: 9692.8467, Val AUC: 0.5000, Val Acc: 0.6000\n"
          ]
        },
        {
          "output_type": "stream",
          "name": "stderr",
          "text": [
            "100%|██████████| 8/8 [00:10<00:00,  1.35s/it]\n",
            "100%|██████████| 1/1 [00:01<00:00,  1.24s/it]\n"
          ]
        },
        {
          "output_type": "stream",
          "name": "stdout",
          "text": [
            "Epoch [4/5], Train Loss: 1.5455, Val Loss: 10379.7471, Val AUC: 0.5000, Val Acc: 0.5000\n"
          ]
        },
        {
          "output_type": "stream",
          "name": "stderr",
          "text": [
            "100%|██████████| 8/8 [00:10<00:00,  1.25s/it]\n",
            "100%|██████████| 1/1 [00:01<00:00,  1.07s/it]"
          ]
        },
        {
          "output_type": "stream",
          "name": "stdout",
          "text": [
            "Epoch [5/5], Train Loss: 1.5967, Val Loss: 322.1334, Val AUC: 0.5010, Val Acc: 0.5600\n"
          ]
        },
        {
          "output_type": "stream",
          "name": "stderr",
          "text": [
            "\n"
          ]
        }
      ]
    },
    {
      "cell_type": "code",
      "source": [
        "### Testing\n",
        "model.eval()\n",
        "test_loss=0\n",
        "with torch.no_grad():\n",
        "    for images, composite, labels in tqdm(test_loader):\n",
        "        outputs = model(images.float().cuda())\n",
        "        loss = criterion(outputs.squeeze(), labels.float().cuda())\n",
        "        test_loss += loss.item()\n",
        "        preds=torch.sigmoid(outputs).squeeze()\n",
        "        auc.update(preds, labels.cuda())\n",
        "        accuracy.update(preds, labels.cuda())\n",
        "test_loss = test_loss / len(test_dataset)\n",
        "test_auc = auc.compute()\n",
        "test_acc = accuracy.compute()\n",
        "print('\\nTest Loss: {:.4f}, Test AUC: {:.4f}, Test Acc: {:.4f}'.format(test_loss, test_auc, test_acc))\n",
        "acc_models_test.append(test_acc)"
      ],
      "metadata": {
        "id": "QnnBQ8_RN2LK",
        "colab": {
          "base_uri": "https://localhost:8080/"
        },
        "outputId": "752eae74-7b02-4888-a06e-d2cfc3c08552"
      },
      "execution_count": 24,
      "outputs": [
        {
          "output_type": "stream",
          "name": "stderr",
          "text": [
            "100%|██████████| 3/3 [00:04<00:00,  1.48s/it]"
          ]
        },
        {
          "output_type": "stream",
          "name": "stdout",
          "text": [
            "\n",
            "Test Loss: 2.8750, Test AUC: 0.5031, Test Acc: 0.6467\n"
          ]
        },
        {
          "output_type": "stream",
          "name": "stderr",
          "text": [
            "\n"
          ]
        }
      ]
    },
    {
      "cell_type": "markdown",
      "metadata": {
        "id": "meNBe5LHwBwC"
      },
      "source": [
        "### And eventually train from scratch the network, namely the weights should be randomly initiliazed."
      ]
    },
    {
      "cell_type": "code",
      "source": [
        "resnet18 = models.resnet18()\n",
        "resnet18.fc = nn.Linear(resnet18.fc.in_features, num_classes)\n",
        "\n",
        "# We train the the network on the same code as proposed above and then test to get the accurecy\n"
      ],
      "metadata": {
        "id": "V5d9dnljwBwC"
      },
      "execution_count": 25,
      "outputs": []
    },
    {
      "cell_type": "code",
      "source": [
        "model=resnet18.float().cuda() # use float32 to save a bit of memory\n",
        "\n",
        "# pos_weight is N_Train/sum(Ytrain) -> why in your opinion ?\n",
        "# calculates how many times the negative class is more frequent than the positive class.\n",
        "# By setting pos_weight to this value, it's like telling the model to pretend that the classes are balanced.\n",
        "criterion = nn.BCEWithLogitsLoss(pos_weight=torch.Tensor([5.347593582887701]).cuda())\n",
        "auc = torchmetrics.AUROC(task='binary',num_classes=2, average = 'macro').cuda()\n",
        "accuracy = torchmetrics.Accuracy(task='binary',num_classes = 2, average='micro').cuda()\n",
        "optimizer = optim.Adam(model.parameters(), lr=learning_rate)\n",
        "Tensor = torch.cuda.FloatTensor # use float32 to save a bit of memory\n",
        "\n",
        "# Training\n",
        "for epoch in range(num_epochs):\n",
        "    model.train()\n",
        "    train_loss = 0.0\n",
        "    for images, composite, labels in tqdm(train_loader):\n",
        "        optimizer.zero_grad()\n",
        "        #outputs = model(images.float().cuda())\n",
        "        outputs = model(composite.float().cuda())\n",
        "        loss = criterion(outputs.squeeze(), labels.float().cuda())\n",
        "        loss.backward()\n",
        "        optimizer.step()\n",
        "        #train_loss += loss.item() * images.size(0)\n",
        "        train_loss += loss.item() * composite.size(0)\n",
        "    train_loss = train_loss / len(train_dataset)\n",
        "\n",
        "    all_preds=[]\n",
        "    all_labels=[]\n",
        "    # Validation\n",
        "    model.eval()\n",
        "    val_loss = 0.0\n",
        "    with torch.no_grad():\n",
        "        for images, composite, labels in tqdm(val_loader):\n",
        "            #outputs = model(images.float().cuda())\n",
        "            outputs = model(composite.float().cuda())\n",
        "            loss = criterion(outputs.squeeze(), labels.float().cuda())\n",
        "            #val_loss += loss.item() * images.size(0)\n",
        "            val_loss += loss.item() * composite.size(0)\n",
        "            preds=torch.sigmoid(outputs).squeeze()\n",
        "            auc.update(preds, labels.cuda())\n",
        "            accuracy.update(preds, labels.cuda())\n",
        "    val_loss = val_loss / len(val_dataset)\n",
        "    val_auc = auc.compute()\n",
        "    val_acc = accuracy.compute()\n",
        "    print('Epoch [{}/{}], Train Loss: {:.4f}, Val Loss: {:.4f}, Val AUC: {:.4f}, Val Acc: {:.4f}'.format(epoch+1, num_epochs, train_loss, val_loss, val_auc, val_acc))\n",
        "\n"
      ],
      "metadata": {
        "id": "p-TrbNVwNxXj",
        "colab": {
          "base_uri": "https://localhost:8080/"
        },
        "outputId": "a0c23652-c6e4-46de-cdcc-c060733625b9"
      },
      "execution_count": 26,
      "outputs": [
        {
          "output_type": "stream",
          "name": "stderr",
          "text": [
            "100%|██████████| 8/8 [00:10<00:00,  1.33s/it]\n",
            "100%|██████████| 1/1 [00:00<00:00,  1.00it/s]\n"
          ]
        },
        {
          "output_type": "stream",
          "name": "stdout",
          "text": [
            "Epoch [1/5], Train Loss: 5.8053, Val Loss: 32410392.0000, Val AUC: 0.5000, Val Acc: 0.2000\n"
          ]
        },
        {
          "output_type": "stream",
          "name": "stderr",
          "text": [
            "100%|██████████| 8/8 [00:11<00:00,  1.39s/it]\n",
            "100%|██████████| 1/1 [00:01<00:00,  1.06s/it]\n"
          ]
        },
        {
          "output_type": "stream",
          "name": "stdout",
          "text": [
            "Epoch [2/5], Train Loss: 1.9325, Val Loss: 6568.9170, Val AUC: 0.5000, Val Acc: 0.5000\n"
          ]
        },
        {
          "output_type": "stream",
          "name": "stderr",
          "text": [
            "100%|██████████| 8/8 [00:12<00:00,  1.51s/it]\n",
            "100%|██████████| 1/1 [00:00<00:00,  1.02it/s]\n"
          ]
        },
        {
          "output_type": "stream",
          "name": "stdout",
          "text": [
            "Epoch [3/5], Train Loss: 1.4860, Val Loss: 50.6656, Val AUC: 0.5052, Val Acc: 0.5800\n"
          ]
        },
        {
          "output_type": "stream",
          "name": "stderr",
          "text": [
            "100%|██████████| 8/8 [00:10<00:00,  1.30s/it]\n",
            "100%|██████████| 1/1 [00:00<00:00,  1.04it/s]\n"
          ]
        },
        {
          "output_type": "stream",
          "name": "stdout",
          "text": [
            "Epoch [4/5], Train Loss: 1.3101, Val Loss: 5.4758, Val AUC: 0.5026, Val Acc: 0.4850\n"
          ]
        },
        {
          "output_type": "stream",
          "name": "stderr",
          "text": [
            "100%|██████████| 8/8 [00:10<00:00,  1.32s/it]\n",
            "100%|██████████| 1/1 [00:00<00:00,  1.01it/s]"
          ]
        },
        {
          "output_type": "stream",
          "name": "stdout",
          "text": [
            "Epoch [5/5], Train Loss: 1.2787, Val Loss: 1.6140, Val AUC: 0.5015, Val Acc: 0.4307\n"
          ]
        },
        {
          "output_type": "stream",
          "name": "stderr",
          "text": [
            "\n"
          ]
        }
      ]
    },
    {
      "cell_type": "code",
      "source": [
        "### Testing\n",
        "model.eval()\n",
        "test_loss=0\n",
        "with torch.no_grad():\n",
        "    for images, composite, labels in tqdm(test_loader):\n",
        "        outputs = model(images.float().cuda())\n",
        "        loss = criterion(outputs.squeeze(), labels.float().cuda())\n",
        "        test_loss += loss.item()\n",
        "        preds=torch.sigmoid(outputs).squeeze()\n",
        "        auc.update(preds, labels.cuda())\n",
        "        accuracy.update(preds, labels.cuda())\n",
        "test_loss = test_loss / len(test_dataset)\n",
        "test_auc = auc.compute()\n",
        "test_acc = accuracy.compute()\n",
        "print('\\nTest Loss: {:.4f}, Test AUC: {:.4f}, Test Acc: {:.4f}'.format(test_loss, test_auc, test_acc))\n",
        "acc_models_test.append(test_acc)"
      ],
      "metadata": {
        "id": "BaiCj0I9N29P",
        "colab": {
          "base_uri": "https://localhost:8080/"
        },
        "outputId": "057e5cfc-9ec2-4548-a124-b6e8a78dc005"
      },
      "execution_count": 27,
      "outputs": [
        {
          "output_type": "stream",
          "name": "stderr",
          "text": [
            "100%|██████████| 3/3 [00:02<00:00,  1.00it/s]"
          ]
        },
        {
          "output_type": "stream",
          "name": "stdout",
          "text": [
            "\n",
            "Test Loss: 0.0068, Test AUC: 0.4972, Test Acc: 0.3556\n"
          ]
        },
        {
          "output_type": "stream",
          "name": "stderr",
          "text": [
            "\n"
          ]
        }
      ]
    },
    {
      "cell_type": "markdown",
      "source": [
        "**Question**: Train at least 3 different networks using the three strategies. Use the validation set to compare the performance of the three models and evaluate the best-performing one on the test set. Which is the best strategy ? Are you satisfied ?"
      ],
      "metadata": {
        "id": "-pES6IlwwBwC"
      }
    },
    {
      "cell_type": "markdown",
      "source": [
        "During the traning we use of num_epochs=5 and learning_rate=0.05 for all of the 3 strategies to be able to produce accurate comparision between the techiques.\n",
        "\n",
        "* Changes of the last layer :\n",
        " * seconds :  52\n",
        " * validaiton:  Train Loss: 1.4966, Val Loss: 2.3485, Val AUC: 0.7431, Val Acc: 0.8267\n",
        " * test :Test Loss: 0.0193, Test AUC: 0.7088, Test Acc: 0.8163\n",
        "\n",
        "* retrain the entire network (previously pre-trained on Imagenet)\n",
        " * seconds train : 54\n",
        " * validaiton:  \n",
        " * test :Test Loss: 2.8750, Test AUC: 0.5031, Test Acc: 0.6467\n",
        "\n",
        "* train from scratch the network\n",
        " * seconds train : 63\n",
        " * validaiton: Train Loss: 1.2787, Val Loss: 1.6140, Val AUC: 0.5015, Val Acc: 0.4307\n",
        " * test : Test Loss: 0.0068, Test AUC: 0.4972, Test Acc: 0.3556\n",
        "\n"
      ],
      "metadata": {
        "id": "ouHWN8e5zPmR"
      }
    },
    {
      "cell_type": "code",
      "source": [
        "del model"
      ],
      "metadata": {
        "id": "Op_mBQLzzyEx"
      },
      "execution_count": 28,
      "outputs": []
    },
    {
      "cell_type": "code",
      "source": [
        "\n",
        "import gc\n",
        "gc.collect()\n",
        "torch.cuda.empty_cache()"
      ],
      "metadata": {
        "id": "o0WrIrYTGLMv"
      },
      "execution_count": 29,
      "outputs": []
    },
    {
      "cell_type": "markdown",
      "source": [
        "## VGG 16"
      ],
      "metadata": {
        "id": "W3F9JaZd1WlJ"
      }
    },
    {
      "cell_type": "markdown",
      "source": [
        "### Fine-tuning the Last Layer of a Pre-trained VGG Network"
      ],
      "metadata": {
        "id": "IdUXCxMR1Zex"
      }
    },
    {
      "cell_type": "code",
      "source": [
        "batch_size=8 # adapted to the Google Colab GPU\n",
        "num_epochs=5# to be modified\n",
        "learning_rate=0.001 # to be modified\n",
        "\n",
        "train_dataset = ISICDataset(pathTrain, Ytrain)\n",
        "val_dataset=ISICDataset(pathVal, Yval)\n",
        "test_dataset=ISICDataset(pathTest, Ytest)\n",
        "\n",
        "train_loader = DataLoader(train_dataset, num_workers=1, batch_size=batch_size, shuffle=True)\n",
        "val_loader = DataLoader(val_dataset, num_workers=1, batch_size=batch_size)\n",
        "test_loader = DataLoader(test_dataset, num_workers=1, batch_size=batch_size)"
      ],
      "metadata": {
        "id": "Qsw6kUtDMtC6"
      },
      "execution_count": 30,
      "outputs": []
    },
    {
      "cell_type": "code",
      "source": [
        "vgg16 = models.vgg16(weights='IMAGENET1K_V1')\n",
        "# Freeze all parameters of the model\n",
        "for param in vgg16.features.parameters():\n",
        "    param.requires_grad = False\n",
        "\n",
        "vgg16.classifier[6] = nn.Linear(vgg16.classifier[6].in_features, num_classes)\n"
      ],
      "metadata": {
        "id": "wylGtNnQ1kiK",
        "colab": {
          "base_uri": "https://localhost:8080/"
        },
        "outputId": "84a10c15-8f55-4003-fc9e-a0a587a67c39"
      },
      "execution_count": 31,
      "outputs": [
        {
          "output_type": "stream",
          "name": "stderr",
          "text": [
            "Downloading: \"https://download.pytorch.org/models/vgg16-397923af.pth\" to /root/.cache/torch/hub/checkpoints/vgg16-397923af.pth\n",
            "100%|██████████| 528M/528M [00:08<00:00, 68.1MB/s]\n"
          ]
        }
      ]
    },
    {
      "cell_type": "code",
      "source": [
        "model=vgg16.float().cuda() # use float32 to save a bit of memory\n",
        "\n",
        "# pos_weight is N_Train/sum(Ytrain) -> why in your opinion ?\n",
        "criterion = nn.BCEWithLogitsLoss(pos_weight=torch.Tensor([5.347593582887701]).cuda())\n",
        "auc = torchmetrics.AUROC(task='binary',num_classes=2, average = 'macro').cuda()\n",
        "accuracy = torchmetrics.Accuracy(task='binary',num_classes = 2, average='micro').cuda()\n",
        "optimizer = optim.Adam(model.parameters(), lr=learning_rate)\n",
        "Tensor = torch.cuda.FloatTensor # use float32 to save a bit of memory\n",
        "\n",
        "# Training\n",
        "for epoch in range(num_epochs):\n",
        "    model.train()\n",
        "    train_loss = 0.0\n",
        "    for images, composite, labels in tqdm(train_loader):\n",
        "        optimizer.zero_grad()\n",
        "        #outputs = model(images.float().cuda())\n",
        "        outputs = model(composite.float().cuda())\n",
        "        loss = criterion(outputs.squeeze(), labels.float().cuda())\n",
        "        loss.backward()\n",
        "        optimizer.step()\n",
        "        #train_loss += loss.item() * images.size(0)\n",
        "        train_loss += loss.item() * composite.size(0)\n",
        "    train_loss = train_loss / len(train_dataset)\n",
        "\n",
        "    all_preds=[]\n",
        "    all_labels=[]\n",
        "    # Validation\n",
        "    model.eval()\n",
        "    val_loss = 0.0\n",
        "    with torch.no_grad():\n",
        "        for images, composite, labels in tqdm(val_loader):\n",
        "            #outputs = model(images.float().cuda())\n",
        "            outputs = model(composite.float().cuda())\n",
        "            loss = criterion(outputs.squeeze(), labels.float().cuda())\n",
        "            #val_loss += loss.item() * images.size(0)\n",
        "            val_loss += loss.item() * composite.size(0)\n",
        "            preds=torch.sigmoid(outputs).squeeze()\n",
        "            auc.update(preds, labels.cuda())\n",
        "            accuracy.update(preds, labels.cuda())\n",
        "    val_loss = val_loss / len(val_dataset)\n",
        "    val_auc = auc.compute()\n",
        "    val_acc = accuracy.compute()\n",
        "    print('Epoch [{}/{}], Train Loss: {:.4f}, Val Loss: {:.4f}, Val AUC: {:.4f}, Val Acc: {:.4f}'.format(epoch+1, num_epochs, train_loss, val_loss, val_auc, val_acc))"
      ],
      "metadata": {
        "id": "2BPtMsJ-4Agq",
        "outputId": "7fb553c9-3773-4d02-c4e6-bce61cc256ea",
        "colab": {
          "base_uri": "https://localhost:8080/"
        }
      },
      "execution_count": 32,
      "outputs": [
        {
          "output_type": "stream",
          "name": "stderr",
          "text": [
            "100%|██████████| 250/250 [00:25<00:00,  9.65it/s]\n",
            "100%|██████████| 19/19 [00:01<00:00, 16.05it/s]\n"
          ]
        },
        {
          "output_type": "stream",
          "name": "stdout",
          "text": [
            "Epoch [1/5], Train Loss: 7.2164, Val Loss: 8.0001, Val AUC: 0.7297, Val Acc: 0.8000\n"
          ]
        },
        {
          "output_type": "stream",
          "name": "stderr",
          "text": [
            "100%|██████████| 250/250 [00:29<00:00,  8.61it/s]\n",
            "100%|██████████| 19/19 [00:01<00:00, 10.92it/s]\n"
          ]
        },
        {
          "output_type": "stream",
          "name": "stdout",
          "text": [
            "Epoch [2/5], Train Loss: 3.6128, Val Loss: 3.8314, Val AUC: 0.6043, Val Acc: 0.7100\n"
          ]
        },
        {
          "output_type": "stream",
          "name": "stderr",
          "text": [
            "100%|██████████| 250/250 [00:25<00:00,  9.97it/s]\n",
            "100%|██████████| 19/19 [00:02<00:00,  8.71it/s]\n"
          ]
        },
        {
          "output_type": "stream",
          "name": "stdout",
          "text": [
            "Epoch [3/5], Train Loss: 2.5487, Val Loss: 2.3725, Val AUC: 0.6334, Val Acc: 0.7244\n"
          ]
        },
        {
          "output_type": "stream",
          "name": "stderr",
          "text": [
            "100%|██████████| 250/250 [00:23<00:00, 10.54it/s]\n",
            "100%|██████████| 19/19 [00:01<00:00, 15.96it/s]\n"
          ]
        },
        {
          "output_type": "stream",
          "name": "stdout",
          "text": [
            "Epoch [4/5], Train Loss: 2.1391, Val Loss: 1.4458, Val AUC: 0.6301, Val Acc: 0.7300\n"
          ]
        },
        {
          "output_type": "stream",
          "name": "stderr",
          "text": [
            "100%|██████████| 250/250 [00:25<00:00, 10.00it/s]\n",
            "100%|██████████| 19/19 [00:01<00:00, 16.00it/s]"
          ]
        },
        {
          "output_type": "stream",
          "name": "stdout",
          "text": [
            "Epoch [5/5], Train Loss: 2.2194, Val Loss: 3.0565, Val AUC: 0.6422, Val Acc: 0.7413\n"
          ]
        },
        {
          "output_type": "stream",
          "name": "stderr",
          "text": [
            "\n"
          ]
        }
      ]
    },
    {
      "cell_type": "code",
      "source": [
        "model.eval()\n",
        "test_loss=0\n",
        "with torch.no_grad():\n",
        "    for images, composite, labels in tqdm(test_loader):\n",
        "        outputs = model(images.float().cuda())\n",
        "        loss = criterion(outputs.squeeze(), labels.float().cuda())\n",
        "        test_loss += loss.item()\n",
        "        preds=torch.sigmoid(outputs).squeeze()\n",
        "        auc.update(preds, labels.cuda())\n",
        "        accuracy.update(preds, labels.cuda())\n",
        "test_loss = test_loss / len(test_dataset)\n",
        "test_auc = auc.compute()\n",
        "test_acc = accuracy.compute()\n",
        "print('\\nTest Loss: {:.4f}, Test AUC: {:.4f}, Test Acc: {:.4f}'.format(test_loss, test_auc, test_acc))\n",
        "acc_models_test.append(test_acc)"
      ],
      "metadata": {
        "id": "VUHTUzjt4C_s",
        "outputId": "2024861b-800f-4692-cdef-f1ea2a300924",
        "colab": {
          "base_uri": "https://localhost:8080/"
        }
      },
      "execution_count": 33,
      "outputs": [
        {
          "output_type": "stream",
          "name": "stderr",
          "text": [
            "100%|██████████| 75/75 [00:04<00:00, 16.27it/s]"
          ]
        },
        {
          "output_type": "stream",
          "name": "stdout",
          "text": [
            "\n",
            "Test Loss: 0.6916, Test AUC: 0.6095, Test Acc: 0.7696\n"
          ]
        },
        {
          "output_type": "stream",
          "name": "stderr",
          "text": [
            "\n"
          ]
        }
      ]
    },
    {
      "cell_type": "markdown",
      "source": [
        "### Re-training the Entire Pre-trained VGG Network"
      ],
      "metadata": {
        "id": "DWBK6fq41cN4"
      }
    },
    {
      "cell_type": "code",
      "source": [
        "# Load a pre-trained VGG-16 model\n",
        "for param in vgg16.features.parameters():\n",
        "    param.requires_grad = True\n",
        "vgg16.classifier[6] = nn.Linear(vgg16.classifier[6].in_features, num_classes)\n"
      ],
      "metadata": {
        "id": "W6dQKZ5ZvczY"
      },
      "execution_count": 34,
      "outputs": []
    },
    {
      "cell_type": "code",
      "source": [
        "model=vgg16.float().cuda() # use float32 to save a bit of memory\n",
        "\n",
        "# pos_weight is N_Train/sum(Ytrain) -> why in your opinion ?\n",
        "criterion = nn.BCEWithLogitsLoss(pos_weight=torch.Tensor([5.347593582887701]).cuda())\n",
        "auc = torchmetrics.AUROC(task='binary',num_classes=2, average = 'macro').cuda()\n",
        "accuracy = torchmetrics.Accuracy(task='binary',num_classes = 2, average='micro').cuda()\n",
        "optimizer = optim.Adam(model.parameters(), lr=learning_rate)\n",
        "Tensor = torch.cuda.FloatTensor # use float32 to save a bit of memory\n",
        "\n",
        "# Training\n",
        "for epoch in range(num_epochs):\n",
        "    model.train()\n",
        "    train_loss = 0.0\n",
        "    for images, composite, labels in tqdm(train_loader):\n",
        "        optimizer.zero_grad()\n",
        "        #outputs = model(images.float().cuda())\n",
        "        outputs = model(composite.float().cuda())\n",
        "        loss = criterion(outputs.squeeze(), labels.float().cuda())\n",
        "        loss.backward()\n",
        "        optimizer.step()\n",
        "        #train_loss += loss.item() * images.size(0)\n",
        "        train_loss += loss.item() * composite.size(0)\n",
        "    train_loss = train_loss / len(train_dataset)\n",
        "\n",
        "    all_preds=[]\n",
        "    all_labels=[]\n",
        "    # Validation\n",
        "    model.eval()\n",
        "    val_loss = 0.0\n",
        "    with torch.no_grad():\n",
        "        for images, composite, labels in tqdm(val_loader):\n",
        "            #outputs = model(images.float().cuda())\n",
        "            outputs = model(composite.float().cuda())\n",
        "            loss = criterion(outputs.squeeze(), labels.float().cuda())\n",
        "            #val_loss += loss.item() * images.size(0)\n",
        "            val_loss += loss.item() * composite.size(0)\n",
        "            preds=torch.sigmoid(outputs).squeeze()\n",
        "            auc.update(preds, labels.cuda())\n",
        "            accuracy.update(preds, labels.cuda())\n",
        "    val_loss = val_loss / len(val_dataset)\n",
        "    val_auc = auc.compute()\n",
        "    val_acc = accuracy.compute()\n",
        "    print('Epoch [{}/{}], Train Loss: {:.4f}, Val Loss: {:.4f}, Val AUC: {:.4f}, Val Acc: {:.4f}'.format(epoch+1, num_epochs, train_loss, val_loss, val_auc, val_acc))"
      ],
      "metadata": {
        "id": "mB9DeGD4Nc8b",
        "colab": {
          "base_uri": "https://localhost:8080/"
        },
        "outputId": "84d54109-12dc-4d26-a5d6-1bf533c6ee96"
      },
      "execution_count": 35,
      "outputs": [
        {
          "output_type": "stream",
          "name": "stderr",
          "text": [
            "100%|██████████| 250/250 [00:45<00:00,  5.49it/s]\n",
            "100%|██████████| 19/19 [00:01<00:00, 12.16it/s]\n"
          ]
        },
        {
          "output_type": "stream",
          "name": "stdout",
          "text": [
            "Epoch [1/5], Train Loss: 1.5272, Val Loss: 1.2965, Val AUC: 0.4247, Val Acc: 0.3733\n"
          ]
        },
        {
          "output_type": "stream",
          "name": "stderr",
          "text": [
            "100%|██████████| 250/250 [00:46<00:00,  5.43it/s]\n",
            "100%|██████████| 19/19 [00:01<00:00, 15.90it/s]\n"
          ]
        },
        {
          "output_type": "stream",
          "name": "stdout",
          "text": [
            "Epoch [2/5], Train Loss: 1.2647, Val Loss: 1.2860, Val AUC: 0.4801, Val Acc: 0.2867\n"
          ]
        },
        {
          "output_type": "stream",
          "name": "stderr",
          "text": [
            "100%|██████████| 250/250 [00:44<00:00,  5.60it/s]\n",
            "100%|██████████| 19/19 [00:01<00:00, 15.86it/s]\n"
          ]
        },
        {
          "output_type": "stream",
          "name": "stdout",
          "text": [
            "Epoch [3/5], Train Loss: 1.2515, Val Loss: 1.2900, Val AUC: 0.4912, Val Acc: 0.2578\n"
          ]
        },
        {
          "output_type": "stream",
          "name": "stderr",
          "text": [
            "100%|██████████| 250/250 [00:44<00:00,  5.57it/s]\n",
            "100%|██████████| 19/19 [00:01<00:00, 12.33it/s]\n"
          ]
        },
        {
          "output_type": "stream",
          "name": "stdout",
          "text": [
            "Epoch [4/5], Train Loss: 1.2582, Val Loss: 1.2774, Val AUC: 0.4950, Val Acc: 0.2433\n"
          ]
        },
        {
          "output_type": "stream",
          "name": "stderr",
          "text": [
            "100%|██████████| 250/250 [00:44<00:00,  5.59it/s]\n",
            "100%|██████████| 19/19 [00:01<00:00, 15.77it/s]"
          ]
        },
        {
          "output_type": "stream",
          "name": "stdout",
          "text": [
            "Epoch [5/5], Train Loss: 1.2533, Val Loss: 1.2798, Val AUC: 0.4968, Val Acc: 0.2347\n"
          ]
        },
        {
          "output_type": "stream",
          "name": "stderr",
          "text": [
            "\n"
          ]
        }
      ]
    },
    {
      "cell_type": "code",
      "source": [
        "model.eval()\n",
        "test_loss=0\n",
        "with torch.no_grad():\n",
        "    for images, composite, labels in tqdm(test_loader):\n",
        "        outputs = model(images.float().cuda())\n",
        "        loss = criterion(outputs.squeeze(), labels.float().cuda())\n",
        "        test_loss += loss.item()\n",
        "        preds=torch.sigmoid(outputs).squeeze()\n",
        "        auc.update(preds, labels.cuda())\n",
        "        accuracy.update(preds, labels.cuda())\n",
        "test_loss = test_loss / len(test_dataset)\n",
        "test_auc = auc.compute()\n",
        "test_acc = accuracy.compute()\n",
        "print('\\nTest Loss: {:.4f}, Test AUC: {:.4f}, Test Acc: {:.4f}'.format(test_loss, test_auc, test_acc))\n",
        "acc_models_test.append(test_acc)"
      ],
      "metadata": {
        "id": "y5Qb-RDiNhMF",
        "colab": {
          "base_uri": "https://localhost:8080/"
        },
        "outputId": "100341bb-25ab-41f2-e17d-bf6e21cd50a7"
      },
      "execution_count": 36,
      "outputs": [
        {
          "output_type": "stream",
          "name": "stderr",
          "text": [
            "100%|██████████| 75/75 [00:04<00:00, 15.35it/s]"
          ]
        },
        {
          "output_type": "stream",
          "name": "stdout",
          "text": [
            "\n",
            "Test Loss: 0.1589, Test AUC: 0.4959, Test Acc: 0.2170\n"
          ]
        },
        {
          "output_type": "stream",
          "name": "stderr",
          "text": [
            "\n"
          ]
        }
      ]
    },
    {
      "cell_type": "markdown",
      "source": [
        "During the traning we use of num_epochs=5 and learning_rate=0.05 and batch_size = 32 (due to GPU constraints) for all of the 3 strategies to be able to produce accurate comparision between the techiques.\n",
        "\n",
        "* Changes of the last layer :\n",
        " * seconds train : 135\n",
        " * validaiton: Train Loss: 2.2194, Val Loss: 3.0565, Val AUC: 0.6422, Val Acc: 0.7413\n",
        " * test :Test Loss: 0.6916, Test AUC: 0.6095, Test Acc: 0.7696\n",
        "\n",
        "* retrain the entire network (previously pre-trained on Imagenet)\n",
        " * seconds train : 232\n",
        " * validaiton: Train Loss: 1.2557, Val Loss: 1.2772, Val AUC: 0.5000, Val Acc: 0.2000\n",
        " * test : Test Loss: 0.1582, Test AUC: 0.4997, Test Acc: 0.2414\n",
        "* train from scratch the network\n",
        " * seconds train : 237\n",
        " * validaiton: Train Loss: 1.2506, Val Loss: 1.2794, Val AUC: 0.5000, Val Acc: 0.2000\n",
        " * test : Test Loss: 0.1584, Test AUC: 0.4984, Test Acc: 0.1978"
      ],
      "metadata": {
        "id": "-kipGkn16A9B"
      }
    },
    {
      "cell_type": "markdown",
      "source": [
        "### Training a VGG Network from Scratch"
      ],
      "metadata": {
        "id": "WRWbdrRC1fLb"
      }
    },
    {
      "cell_type": "code",
      "source": [
        "vgg16 = models.vgg16()\n",
        "vgg16.classifier[6] = nn.Linear(vgg16.classifier[6].in_features, num_classes)\n"
      ],
      "metadata": {
        "id": "z9_5ufhF9HQ1"
      },
      "execution_count": 37,
      "outputs": []
    },
    {
      "cell_type": "code",
      "source": [
        "model=vgg16.float().cuda() # use float32 to save a bit of memory\n",
        "\n",
        "# pos_weight is N_Train/sum(Ytrain) -> why in your opinion ?\n",
        "criterion = nn.BCEWithLogitsLoss(pos_weight=torch.Tensor([5.347593582887701]).cuda())\n",
        "auc = torchmetrics.AUROC(task='binary',num_classes=2, average = 'macro').cuda()\n",
        "accuracy = torchmetrics.Accuracy(task='binary',num_classes = 2, average='micro').cuda()\n",
        "optimizer = optim.Adam(model.parameters(), lr=learning_rate)\n",
        "Tensor = torch.cuda.FloatTensor # use float32 to save a bit of memory\n",
        "\n",
        "# Training\n",
        "for epoch in range(num_epochs):\n",
        "    model.train()\n",
        "    train_loss = 0.0\n",
        "    for images, composite, labels in tqdm(train_loader):\n",
        "        optimizer.zero_grad()\n",
        "        #outputs = model(images.float().cuda())\n",
        "        outputs = model(composite.float().cuda())\n",
        "        loss = criterion(outputs.squeeze(), labels.float().cuda())\n",
        "        loss.backward()\n",
        "        optimizer.step()\n",
        "        #train_loss += loss.item() * images.size(0)\n",
        "        train_loss += loss.item() * composite.size(0)\n",
        "    train_loss = train_loss / len(train_dataset)\n",
        "\n",
        "    all_preds=[]\n",
        "    all_labels=[]\n",
        "    # Validation\n",
        "    model.eval()\n",
        "    val_loss = 0.0\n",
        "    with torch.no_grad():\n",
        "        for images, composite, labels in tqdm(val_loader):\n",
        "            #outputs = model(images.float().cuda())\n",
        "            outputs = model(composite.float().cuda())\n",
        "            loss = criterion(outputs.squeeze(), labels.float().cuda())\n",
        "            #val_loss += loss.item() * images.size(0)\n",
        "            val_loss += loss.item() * composite.size(0)\n",
        "            preds=torch.sigmoid(outputs).squeeze()\n",
        "            auc.update(preds, labels.cuda())\n",
        "            accuracy.update(preds, labels.cuda())\n",
        "    val_loss = val_loss / len(val_dataset)\n",
        "    val_auc = auc.compute()\n",
        "    val_acc = accuracy.compute()\n",
        "    print('Epoch [{}/{}], Train Loss: {:.4f}, Val Loss: {:.4f}, Val AUC: {:.4f}, Val Acc: {:.4f}'.format(epoch+1, num_epochs, train_loss, val_loss, val_auc, val_acc))"
      ],
      "metadata": {
        "id": "hXWshXhPNdta",
        "colab": {
          "base_uri": "https://localhost:8080/"
        },
        "outputId": "a8dcdebc-7814-4d21-e373-a3330edc11a5"
      },
      "execution_count": 38,
      "outputs": [
        {
          "output_type": "stream",
          "name": "stderr",
          "text": [
            "100%|██████████| 250/250 [00:45<00:00,  5.52it/s]\n",
            "100%|██████████| 19/19 [00:01<00:00, 15.03it/s]\n"
          ]
        },
        {
          "output_type": "stream",
          "name": "stdout",
          "text": [
            "Epoch [1/5], Train Loss: 1.7812, Val Loss: 1.2841, Val AUC: 0.5000, Val Acc: 0.2000\n"
          ]
        },
        {
          "output_type": "stream",
          "name": "stderr",
          "text": [
            "100%|██████████| 250/250 [00:45<00:00,  5.51it/s]\n",
            "100%|██████████| 19/19 [00:01<00:00, 15.82it/s]\n"
          ]
        },
        {
          "output_type": "stream",
          "name": "stdout",
          "text": [
            "Epoch [2/5], Train Loss: 1.2502, Val Loss: 1.2804, Val AUC: 0.5000, Val Acc: 0.2000\n"
          ]
        },
        {
          "output_type": "stream",
          "name": "stderr",
          "text": [
            "100%|██████████| 250/250 [00:46<00:00,  5.39it/s]\n",
            "100%|██████████| 19/19 [00:02<00:00,  8.08it/s]\n"
          ]
        },
        {
          "output_type": "stream",
          "name": "stdout",
          "text": [
            "Epoch [3/5], Train Loss: 1.2490, Val Loss: 1.2773, Val AUC: 0.5000, Val Acc: 0.2000\n"
          ]
        },
        {
          "output_type": "stream",
          "name": "stderr",
          "text": [
            "100%|██████████| 250/250 [00:46<00:00,  5.32it/s]\n",
            "100%|██████████| 19/19 [00:02<00:00,  9.44it/s]\n"
          ]
        },
        {
          "output_type": "stream",
          "name": "stdout",
          "text": [
            "Epoch [4/5], Train Loss: 1.2490, Val Loss: 1.2849, Val AUC: 0.5000, Val Acc: 0.2000\n"
          ]
        },
        {
          "output_type": "stream",
          "name": "stderr",
          "text": [
            "100%|██████████| 250/250 [00:45<00:00,  5.54it/s]\n",
            "100%|██████████| 19/19 [00:01<00:00, 12.24it/s]"
          ]
        },
        {
          "output_type": "stream",
          "name": "stdout",
          "text": [
            "Epoch [5/5], Train Loss: 1.2506, Val Loss: 1.2794, Val AUC: 0.5000, Val Acc: 0.2000\n"
          ]
        },
        {
          "output_type": "stream",
          "name": "stderr",
          "text": [
            "\n"
          ]
        }
      ]
    },
    {
      "cell_type": "code",
      "source": [
        "model.eval()\n",
        "test_loss=0\n",
        "with torch.no_grad():\n",
        "    for images, composite, labels in tqdm(test_loader):\n",
        "        outputs = model(images.float().cuda())\n",
        "        loss = criterion(outputs.squeeze(), labels.float().cuda())\n",
        "        test_loss += loss.item()\n",
        "        preds=torch.sigmoid(outputs).squeeze()\n",
        "        auc.update(preds, labels.cuda())\n",
        "        accuracy.update(preds, labels.cuda())\n",
        "test_loss = test_loss / len(test_dataset)\n",
        "test_auc = auc.compute()\n",
        "test_acc = accuracy.compute()\n",
        "print('\\nTest Loss: {:.4f}, Test AUC: {:.4f}, Test Acc: {:.4f}'.format(test_loss, test_auc, test_acc))\n",
        "acc_models_test.append(test_acc)"
      ],
      "metadata": {
        "id": "99syd_HjNoGM",
        "colab": {
          "base_uri": "https://localhost:8080/"
        },
        "outputId": "9a792302-69c6-486a-dc7b-2af477069ced"
      },
      "execution_count": 39,
      "outputs": [
        {
          "output_type": "stream",
          "name": "stderr",
          "text": [
            "100%|██████████| 75/75 [00:04<00:00, 15.50it/s]"
          ]
        },
        {
          "output_type": "stream",
          "name": "stdout",
          "text": [
            "\n",
            "Test Loss: 0.1584, Test AUC: 0.4984, Test Acc: 0.1978\n"
          ]
        },
        {
          "output_type": "stream",
          "name": "stderr",
          "text": [
            "\n"
          ]
        }
      ]
    },
    {
      "cell_type": "code",
      "source": [
        "del model\n",
        "import gc\n",
        "gc.collect()\n",
        "torch.cuda.empty_cache()"
      ],
      "metadata": {
        "id": "p8nzZ-UvGw7T"
      },
      "execution_count": 40,
      "outputs": []
    },
    {
      "cell_type": "markdown",
      "source": [
        "## DenseNet"
      ],
      "metadata": {
        "id": "6YP8_R2C9iML"
      }
    },
    {
      "cell_type": "markdown",
      "source": [
        "### Fine-tuning the Last Layer of a Pre-trained DenseNet Network"
      ],
      "metadata": {
        "id": "622FZBXY9qtD"
      }
    },
    {
      "cell_type": "code",
      "source": [
        "batch_size=8 # adapted to the Google Colab GPU\n",
        "num_epochs=10# to be modified\n",
        "learning_rate=0.001 # to be modified\n",
        "\n",
        "train_dataset = ISICDataset(pathTrain, Ytrain)\n",
        "val_dataset=ISICDataset(pathVal, Yval)\n",
        "test_dataset=ISICDataset(pathTest, Ytest)\n",
        "\n",
        "train_loader = DataLoader(train_dataset, num_workers=1, batch_size=batch_size, shuffle=True)\n",
        "val_loader = DataLoader(val_dataset, num_workers=1, batch_size=batch_size)\n",
        "test_loader = DataLoader(test_dataset, num_workers=1, batch_size=batch_size)"
      ],
      "metadata": {
        "id": "QbjChrxiM246"
      },
      "execution_count": 41,
      "outputs": []
    },
    {
      "cell_type": "code",
      "source": [
        "densenet121 = models.densenet121(weights='IMAGENET1K_V1')\n",
        "\n",
        "for param in densenet121.parameters():\n",
        "    param.requires_grad = False\n",
        "\n",
        "densenet121.classifier = nn.Linear(densenet121.classifier.in_features, num_classes)"
      ],
      "metadata": {
        "id": "t0bTSAjJ961o",
        "colab": {
          "base_uri": "https://localhost:8080/"
        },
        "outputId": "0f0169c7-d64f-48d2-c805-e4515fc17b45"
      },
      "execution_count": 42,
      "outputs": [
        {
          "output_type": "stream",
          "name": "stderr",
          "text": [
            "Downloading: \"https://download.pytorch.org/models/densenet121-a639ec97.pth\" to /root/.cache/torch/hub/checkpoints/densenet121-a639ec97.pth\n",
            "100%|██████████| 30.8M/30.8M [00:00<00:00, 90.5MB/s]\n"
          ]
        }
      ]
    },
    {
      "cell_type": "code",
      "source": [
        "\n",
        "model=densenet121.float().cuda() # use float32 to save a bit of memory\n",
        "\n",
        "criterion = nn.BCEWithLogitsLoss(pos_weight=torch.Tensor([5.347593582887701]).cuda())\n",
        "auc = torchmetrics.AUROC(task='binary',num_classes=2, average = 'macro').cuda()\n",
        "accuracy = torchmetrics.Accuracy(task='binary',num_classes = 2, average='micro').cuda()\n",
        "optimizer = optim.Adam(model.parameters(), lr=learning_rate)\n",
        "Tensor = torch.cuda.FloatTensor # use float32 to save a bit of memory\n",
        "\n",
        "# Training\n",
        "for epoch in range(num_epochs):\n",
        "    model.train()\n",
        "    train_loss = 0.0\n",
        "    for images, composite, labels in tqdm(train_loader):\n",
        "        optimizer.zero_grad()\n",
        "        #outputs = model(images.float().cuda())\n",
        "        outputs = model(composite.float().cuda())\n",
        "        loss = criterion(outputs.squeeze(), labels.float().cuda())\n",
        "        loss.backward()\n",
        "        optimizer.step()\n",
        "        #train_loss += loss.item() * images.size(0)\n",
        "        train_loss += loss.item() * composite.size(0)\n",
        "    train_loss = train_loss / len(train_dataset)\n",
        "\n",
        "    all_preds=[]\n",
        "    all_labels=[]\n",
        "    # Validation\n",
        "    model.eval()\n",
        "    val_loss = 0.0\n",
        "    with torch.no_grad():\n",
        "        for images, composite, labels in tqdm(val_loader):\n",
        "            #outputs = model(images.float().cuda())\n",
        "            outputs = model(composite.float().cuda())\n",
        "            loss = criterion(outputs.squeeze(), labels.float().cuda())\n",
        "            #val_loss += loss.item() * images.size(0)\n",
        "            val_loss += loss.item() * composite.size(0)\n",
        "            preds=torch.sigmoid(outputs).squeeze()\n",
        "            auc.update(preds, labels.cuda())\n",
        "            accuracy.update(preds, labels.cuda())\n",
        "    val_loss = val_loss / len(val_dataset)\n",
        "    val_auc = auc.compute()\n",
        "    val_acc = accuracy.compute()\n",
        "    print('Epoch [{}/{}], Train Loss: {:.4f}, Val Loss: {:.4f}, Val AUC: {:.4f}, Val Acc: {:.4f}'.format(epoch+1, num_epochs, train_loss, val_loss, val_auc, val_acc))"
      ],
      "metadata": {
        "id": "SYMOlLzZB0mI",
        "outputId": "b2cdeccf-3ad0-4155-f0b1-e0d1d4c9e747",
        "colab": {
          "base_uri": "https://localhost:8080/"
        }
      },
      "execution_count": 43,
      "outputs": [
        {
          "output_type": "stream",
          "name": "stderr",
          "text": [
            "100%|██████████| 250/250 [00:13<00:00, 18.21it/s]\n",
            "100%|██████████| 19/19 [00:01<00:00, 17.82it/s]\n"
          ]
        },
        {
          "output_type": "stream",
          "name": "stdout",
          "text": [
            "Epoch [1/10], Train Loss: 1.2287, Val Loss: 1.2306, Val AUC: 0.7378, Val Acc: 0.8200\n"
          ]
        },
        {
          "output_type": "stream",
          "name": "stderr",
          "text": [
            "100%|██████████| 250/250 [00:13<00:00, 18.59it/s]\n",
            "100%|██████████| 19/19 [00:01<00:00, 18.72it/s]\n"
          ]
        },
        {
          "output_type": "stream",
          "name": "stdout",
          "text": [
            "Epoch [2/10], Train Loss: 1.1291, Val Loss: 1.0642, Val AUC: 0.7339, Val Acc: 0.7333\n"
          ]
        },
        {
          "output_type": "stream",
          "name": "stderr",
          "text": [
            "100%|██████████| 250/250 [00:13<00:00, 18.59it/s]\n",
            "100%|██████████| 19/19 [00:01<00:00, 14.32it/s]\n"
          ]
        },
        {
          "output_type": "stream",
          "name": "stdout",
          "text": [
            "Epoch [3/10], Train Loss: 1.0985, Val Loss: 1.1082, Val AUC: 0.7515, Val Acc: 0.7400\n"
          ]
        },
        {
          "output_type": "stream",
          "name": "stderr",
          "text": [
            "100%|██████████| 250/250 [00:14<00:00, 16.70it/s]\n",
            "100%|██████████| 19/19 [00:01<00:00, 18.79it/s]\n"
          ]
        },
        {
          "output_type": "stream",
          "name": "stdout",
          "text": [
            "Epoch [4/10], Train Loss: 1.0658, Val Loss: 1.0615, Val AUC: 0.7580, Val Acc: 0.7333\n"
          ]
        },
        {
          "output_type": "stream",
          "name": "stderr",
          "text": [
            "100%|██████████| 250/250 [00:14<00:00, 17.54it/s]\n",
            "100%|██████████| 19/19 [00:00<00:00, 19.14it/s]\n"
          ]
        },
        {
          "output_type": "stream",
          "name": "stdout",
          "text": [
            "Epoch [5/10], Train Loss: 1.0182, Val Loss: 1.2378, Val AUC: 0.7559, Val Acc: 0.7493\n"
          ]
        },
        {
          "output_type": "stream",
          "name": "stderr",
          "text": [
            "100%|██████████| 250/250 [00:13<00:00, 18.62it/s]\n",
            "100%|██████████| 19/19 [00:00<00:00, 19.31it/s]\n"
          ]
        },
        {
          "output_type": "stream",
          "name": "stdout",
          "text": [
            "Epoch [6/10], Train Loss: 1.0327, Val Loss: 1.1055, Val AUC: 0.7587, Val Acc: 0.7489\n"
          ]
        },
        {
          "output_type": "stream",
          "name": "stderr",
          "text": [
            "100%|██████████| 250/250 [00:14<00:00, 17.02it/s]\n",
            "100%|██████████| 19/19 [00:00<00:00, 19.34it/s]\n"
          ]
        },
        {
          "output_type": "stream",
          "name": "stdout",
          "text": [
            "Epoch [7/10], Train Loss: 1.0261, Val Loss: 1.1231, Val AUC: 0.7540, Val Acc: 0.7343\n"
          ]
        },
        {
          "output_type": "stream",
          "name": "stderr",
          "text": [
            "100%|██████████| 250/250 [00:14<00:00, 17.59it/s]\n",
            "100%|██████████| 19/19 [00:01<00:00, 11.74it/s]\n"
          ]
        },
        {
          "output_type": "stream",
          "name": "stdout",
          "text": [
            "Epoch [8/10], Train Loss: 1.0138, Val Loss: 1.0875, Val AUC: 0.7567, Val Acc: 0.7325\n"
          ]
        },
        {
          "output_type": "stream",
          "name": "stderr",
          "text": [
            "100%|██████████| 250/250 [00:19<00:00, 13.00it/s]\n",
            "100%|██████████| 19/19 [00:01<00:00, 15.24it/s]\n"
          ]
        },
        {
          "output_type": "stream",
          "name": "stdout",
          "text": [
            "Epoch [9/10], Train Loss: 0.9998, Val Loss: 1.0759, Val AUC: 0.7517, Val Acc: 0.7126\n"
          ]
        },
        {
          "output_type": "stream",
          "name": "stderr",
          "text": [
            "100%|██████████| 250/250 [00:23<00:00, 10.78it/s]\n",
            "100%|██████████| 19/19 [00:01<00:00, 13.09it/s]"
          ]
        },
        {
          "output_type": "stream",
          "name": "stdout",
          "text": [
            "Epoch [10/10], Train Loss: 0.9839, Val Loss: 1.0707, Val AUC: 0.7507, Val Acc: 0.7033\n"
          ]
        },
        {
          "output_type": "stream",
          "name": "stderr",
          "text": [
            "\n"
          ]
        }
      ]
    },
    {
      "cell_type": "code",
      "source": [
        "model.eval()\n",
        "test_loss=0\n",
        "with torch.no_grad():\n",
        "    for images, composite, labels in tqdm(test_loader):\n",
        "        outputs = model(images.float().cuda())\n",
        "        loss = criterion(outputs.squeeze(), labels.float().cuda())\n",
        "        test_loss += loss.item()\n",
        "        preds=torch.sigmoid(outputs).squeeze()\n",
        "        auc.update(preds, labels.cuda())\n",
        "        accuracy.update(preds, labels.cuda())\n",
        "test_loss = test_loss / len(test_dataset)\n",
        "test_auc = auc.compute()\n",
        "test_acc = accuracy.compute()\n",
        "print('\\nTest Loss: {:.4f}, Test AUC: {:.4f}, Test Acc: {:.4f}'.format(test_loss, test_auc, test_acc))\n",
        "acc_models_test.append(test_acc)"
      ],
      "metadata": {
        "id": "3txk16dhC-BY",
        "outputId": "8c3435c2-1924-4a74-e0f0-3fda52114173",
        "colab": {
          "base_uri": "https://localhost:8080/"
        }
      },
      "execution_count": 44,
      "outputs": [
        {
          "output_type": "stream",
          "name": "stderr",
          "text": [
            "100%|██████████| 75/75 [00:05<00:00, 12.65it/s]"
          ]
        },
        {
          "output_type": "stream",
          "name": "stdout",
          "text": [
            "\n",
            "Test Loss: 0.1672, Test AUC: 0.7286, Test Acc: 0.7124\n"
          ]
        },
        {
          "output_type": "stream",
          "name": "stderr",
          "text": [
            "\n"
          ]
        }
      ]
    },
    {
      "cell_type": "markdown",
      "source": [
        "### Re-training the Entire Pre-trained DenseNet Network"
      ],
      "metadata": {
        "id": "5-mu5K-W9wNs"
      }
    },
    {
      "cell_type": "code",
      "source": [
        "for param in densenet121.parameters():\n",
        "    param.requires_grad = True\n",
        "densenet121.classifier = nn.Linear(densenet121.classifier.in_features, num_classes)\n"
      ],
      "metadata": {
        "id": "oc17prM1-hxd"
      },
      "execution_count": 45,
      "outputs": []
    },
    {
      "cell_type": "code",
      "source": [
        "\n",
        "model=densenet121.float().cuda() # use float32 to save a bit of memory\n",
        "\n",
        "criterion = nn.BCEWithLogitsLoss(pos_weight=torch.Tensor([5.347593582887701]).cuda())\n",
        "auc = torchmetrics.AUROC(task='binary',num_classes=2, average = 'macro').cuda()\n",
        "accuracy = torchmetrics.Accuracy(task='binary',num_classes = 2, average='micro').cuda()\n",
        "optimizer = optim.Adam(model.parameters(), lr=learning_rate)\n",
        "Tensor = torch.cuda.FloatTensor # use float32 to save a bit of memory\n",
        "\n",
        "# Training\n",
        "for epoch in range(num_epochs):\n",
        "    model.train()\n",
        "    train_loss = 0.0\n",
        "    for images, composite, labels in tqdm(train_loader):\n",
        "        optimizer.zero_grad()\n",
        "        #outputs = model(images.float().cuda())\n",
        "        outputs = model(composite.float().cuda())\n",
        "        loss = criterion(outputs.squeeze(), labels.float().cuda())\n",
        "        loss.backward()\n",
        "        optimizer.step()\n",
        "        #train_loss += loss.item() * images.size(0)\n",
        "        train_loss += loss.item() * composite.size(0)\n",
        "    train_loss = train_loss / len(train_dataset)\n",
        "\n",
        "    all_preds=[]\n",
        "    all_labels=[]\n",
        "    # Validation\n",
        "    model.eval()\n",
        "    val_loss = 0.0\n",
        "    with torch.no_grad():\n",
        "        for images, composite, labels in tqdm(val_loader):\n",
        "            #outputs = model(images.float().cuda())\n",
        "            outputs = model(composite.float().cuda())\n",
        "            loss = criterion(outputs.squeeze(), labels.float().cuda())\n",
        "            #val_loss += loss.item() * images.size(0)\n",
        "            val_loss += loss.item() * composite.size(0)\n",
        "            preds=torch.sigmoid(outputs).squeeze()\n",
        "            auc.update(preds, labels.cuda())\n",
        "            accuracy.update(preds, labels.cuda())\n",
        "    val_loss = val_loss / len(val_dataset)\n",
        "    val_auc = auc.compute()\n",
        "    val_acc = accuracy.compute()\n",
        "    print('Epoch [{}/{}], Train Loss: {:.4f}, Val Loss: {:.4f}, Val AUC: {:.4f}, Val Acc: {:.4f}'.format(epoch+1, num_epochs, train_loss, val_loss, val_auc, val_acc))"
      ],
      "metadata": {
        "id": "r2AJmcGAM9iQ",
        "colab": {
          "base_uri": "https://localhost:8080/"
        },
        "outputId": "28e9b71d-4631-459c-d45f-ea7e3b1484d8"
      },
      "execution_count": 46,
      "outputs": [
        {
          "output_type": "stream",
          "name": "stderr",
          "text": [
            "100%|██████████| 250/250 [00:40<00:00,  6.24it/s]\n",
            "100%|██████████| 19/19 [00:01<00:00, 10.64it/s]\n"
          ]
        },
        {
          "output_type": "stream",
          "name": "stdout",
          "text": [
            "Epoch [1/10], Train Loss: 1.3249, Val Loss: 1.2401, Val AUC: 0.6267, Val Acc: 0.5400\n"
          ]
        },
        {
          "output_type": "stream",
          "name": "stderr",
          "text": [
            "100%|██████████| 250/250 [00:46<00:00,  5.32it/s]\n",
            "100%|██████████| 19/19 [00:00<00:00, 19.13it/s]\n"
          ]
        },
        {
          "output_type": "stream",
          "name": "stdout",
          "text": [
            "Epoch [2/10], Train Loss: 1.2667, Val Loss: 1.2845, Val AUC: 0.6321, Val Acc: 0.6167\n"
          ]
        },
        {
          "output_type": "stream",
          "name": "stderr",
          "text": [
            "100%|██████████| 250/250 [00:29<00:00,  8.49it/s]\n",
            "100%|██████████| 19/19 [00:01<00:00, 10.51it/s]\n"
          ]
        },
        {
          "output_type": "stream",
          "name": "stdout",
          "text": [
            "Epoch [3/10], Train Loss: 1.2606, Val Loss: 1.3324, Val AUC: 0.5983, Val Acc: 0.6044\n"
          ]
        },
        {
          "output_type": "stream",
          "name": "stderr",
          "text": [
            "100%|██████████| 250/250 [00:42<00:00,  5.84it/s]\n",
            "100%|██████████| 19/19 [00:01<00:00, 10.11it/s]\n"
          ]
        },
        {
          "output_type": "stream",
          "name": "stdout",
          "text": [
            "Epoch [4/10], Train Loss: 1.2895, Val Loss: 1.4328, Val AUC: 0.5967, Val Acc: 0.6267\n"
          ]
        },
        {
          "output_type": "stream",
          "name": "stderr",
          "text": [
            "100%|██████████| 250/250 [00:40<00:00,  6.17it/s]\n",
            "100%|██████████| 19/19 [00:00<00:00, 19.11it/s]\n"
          ]
        },
        {
          "output_type": "stream",
          "name": "stdout",
          "text": [
            "Epoch [5/10], Train Loss: 1.2830, Val Loss: 26.3062, Val AUC: 0.5637, Val Acc: 0.5413\n"
          ]
        },
        {
          "output_type": "stream",
          "name": "stderr",
          "text": [
            "100%|██████████| 250/250 [00:28<00:00,  8.66it/s]\n",
            "100%|██████████| 19/19 [00:00<00:00, 19.21it/s]\n"
          ]
        },
        {
          "output_type": "stream",
          "name": "stdout",
          "text": [
            "Epoch [6/10], Train Loss: 1.2786, Val Loss: 1.2437, Val AUC: 0.5689, Val Acc: 0.5111\n"
          ]
        },
        {
          "output_type": "stream",
          "name": "stderr",
          "text": [
            "100%|██████████| 250/250 [00:30<00:00,  8.07it/s]\n",
            "100%|██████████| 19/19 [00:01<00:00, 18.45it/s]\n"
          ]
        },
        {
          "output_type": "stream",
          "name": "stdout",
          "text": [
            "Epoch [7/10], Train Loss: 1.2422, Val Loss: 1.2454, Val AUC: 0.5772, Val Acc: 0.5057\n"
          ]
        },
        {
          "output_type": "stream",
          "name": "stderr",
          "text": [
            "100%|██████████| 250/250 [00:30<00:00,  8.29it/s]\n",
            "100%|██████████| 19/19 [00:01<00:00, 18.92it/s]\n"
          ]
        },
        {
          "output_type": "stream",
          "name": "stdout",
          "text": [
            "Epoch [8/10], Train Loss: 1.2628, Val Loss: 1.3064, Val AUC: 0.5662, Val Acc: 0.4675\n"
          ]
        },
        {
          "output_type": "stream",
          "name": "stderr",
          "text": [
            "100%|██████████| 250/250 [00:29<00:00,  8.54it/s]\n",
            "100%|██████████| 19/19 [00:01<00:00, 18.97it/s]\n"
          ]
        },
        {
          "output_type": "stream",
          "name": "stdout",
          "text": [
            "Epoch [9/10], Train Loss: 1.2617, Val Loss: 1.2880, Val AUC: 0.5657, Val Acc: 0.4600\n"
          ]
        },
        {
          "output_type": "stream",
          "name": "stderr",
          "text": [
            "100%|██████████| 250/250 [00:29<00:00,  8.45it/s]\n",
            "100%|██████████| 19/19 [00:01<00:00, 18.61it/s]"
          ]
        },
        {
          "output_type": "stream",
          "name": "stdout",
          "text": [
            "Epoch [10/10], Train Loss: 1.2646, Val Loss: 1.2693, Val AUC: 0.5633, Val Acc: 0.4420\n"
          ]
        },
        {
          "output_type": "stream",
          "name": "stderr",
          "text": [
            "\n"
          ]
        }
      ]
    },
    {
      "cell_type": "code",
      "source": [
        "model.eval()\n",
        "test_loss=0\n",
        "with torch.no_grad():\n",
        "    for images, composite, labels in tqdm(test_loader):\n",
        "        outputs = model(images.float().cuda())\n",
        "        loss = criterion(outputs.squeeze(), labels.float().cuda())\n",
        "        test_loss += loss.item()\n",
        "        preds=torch.sigmoid(outputs).squeeze()\n",
        "        auc.update(preds, labels.cuda())\n",
        "        accuracy.update(preds, labels.cuda())\n",
        "test_loss = test_loss / len(test_dataset)\n",
        "test_auc = auc.compute()\n",
        "test_acc = accuracy.compute()\n",
        "print('\\nTest Loss: {:.4f}, Test AUC: {:.4f}, Test Acc: {:.4f}'.format(test_loss, test_auc, test_acc))\n",
        "acc_models_test.append(test_acc)"
      ],
      "metadata": {
        "id": "QYukaQMAM_f9",
        "colab": {
          "base_uri": "https://localhost:8080/"
        },
        "outputId": "5b975324-aeed-4e82-fac6-21ac7c5b7b89"
      },
      "execution_count": 48,
      "outputs": [
        {
          "output_type": "stream",
          "name": "stderr",
          "text": [
            "100%|██████████| 75/75 [00:04<00:00, 16.74it/s]\n"
          ]
        },
        {
          "output_type": "stream",
          "name": "stdout",
          "text": [
            "\n",
            "Test Loss: 0.1617, Test AUC: 0.5379, Test Acc: 0.4463\n"
          ]
        }
      ]
    },
    {
      "cell_type": "markdown",
      "source": [
        "###  Training a DenseNet Network from Scratch"
      ],
      "metadata": {
        "id": "tkVY1Ue59z07"
      }
    },
    {
      "cell_type": "code",
      "source": [
        "densenet121 = models.densenet121()\n",
        "densenet121.classifier = nn.Linear(densenet121.classifier.in_features, num_classes)"
      ],
      "metadata": {
        "id": "uinJFM10-s7V"
      },
      "execution_count": 49,
      "outputs": []
    },
    {
      "cell_type": "code",
      "source": [
        "\n",
        "model=densenet121.float().cuda() # use float32 to save a bit of memory\n",
        "\n",
        "criterion = nn.BCEWithLogitsLoss(pos_weight=torch.Tensor([5.347593582887701]).cuda())\n",
        "auc = torchmetrics.AUROC(task='binary',num_classes=2, average = 'macro').cuda()\n",
        "accuracy = torchmetrics.Accuracy(task='binary',num_classes = 2, average='micro').cuda()\n",
        "optimizer = optim.Adam(model.parameters(), lr=learning_rate)\n",
        "Tensor = torch.cuda.FloatTensor # use float32 to save a bit of memory\n",
        "\n",
        "# Training\n",
        "for epoch in range(num_epochs):\n",
        "    model.train()\n",
        "    train_loss = 0.0\n",
        "    for images, composite, labels in tqdm(train_loader):\n",
        "        optimizer.zero_grad()\n",
        "        #outputs = model(images.float().cuda())\n",
        "        outputs = model(composite.float().cuda())\n",
        "        loss = criterion(outputs.squeeze(), labels.float().cuda())\n",
        "        loss.backward()\n",
        "        optimizer.step()\n",
        "        #train_loss += loss.item() * images.size(0)\n",
        "        train_loss += loss.item() * composite.size(0)\n",
        "    train_loss = train_loss / len(train_dataset)\n",
        "\n",
        "    all_preds=[]\n",
        "    all_labels=[]\n",
        "    # Validation\n",
        "    model.eval()\n",
        "    val_loss = 0.0\n",
        "    with torch.no_grad():\n",
        "        for images, composite, labels in tqdm(val_loader):\n",
        "            #outputs = model(images.float().cuda())\n",
        "            outputs = model(composite.float().cuda())\n",
        "            loss = criterion(outputs.squeeze(), labels.float().cuda())\n",
        "            #val_loss += loss.item() * images.size(0)\n",
        "            val_loss += loss.item() * composite.size(0)\n",
        "            preds=torch.sigmoid(outputs).squeeze()\n",
        "            auc.update(preds, labels.cuda())\n",
        "            accuracy.update(preds, labels.cuda())\n",
        "    val_loss = val_loss / len(val_dataset)\n",
        "    val_auc = auc.compute()\n",
        "    val_acc = accuracy.compute()\n",
        "    print('Epoch [{}/{}], Train Loss: {:.4f}, Val Loss: {:.4f}, Val AUC: {:.4f}, Val Acc: {:.4f}'.format(epoch+1, num_epochs, train_loss, val_loss, val_auc, val_acc))"
      ],
      "metadata": {
        "id": "5vt6QLZiNFBY",
        "colab": {
          "base_uri": "https://localhost:8080/"
        },
        "outputId": "95c6f30d-0934-4a0b-99e2-7fc19515d88f"
      },
      "execution_count": 50,
      "outputs": [
        {
          "output_type": "stream",
          "name": "stderr",
          "text": [
            "100%|██████████| 250/250 [00:36<00:00,  6.89it/s]\n",
            "100%|██████████| 19/19 [00:00<00:00, 19.41it/s]\n"
          ]
        },
        {
          "output_type": "stream",
          "name": "stdout",
          "text": [
            "Epoch [1/10], Train Loss: 1.3056, Val Loss: 2.6793, Val AUC: 0.3764, Val Acc: 0.4000\n"
          ]
        },
        {
          "output_type": "stream",
          "name": "stderr",
          "text": [
            "100%|██████████| 250/250 [00:29<00:00,  8.53it/s]\n",
            "100%|██████████| 19/19 [00:00<00:00, 19.61it/s]\n"
          ]
        },
        {
          "output_type": "stream",
          "name": "stdout",
          "text": [
            "Epoch [2/10], Train Loss: 1.2809, Val Loss: 1.2692, Val AUC: 0.4524, Val Acc: 0.3267\n"
          ]
        },
        {
          "output_type": "stream",
          "name": "stderr",
          "text": [
            "100%|██████████| 250/250 [00:29<00:00,  8.36it/s]\n",
            "100%|██████████| 19/19 [00:00<00:00, 19.03it/s]\n"
          ]
        },
        {
          "output_type": "stream",
          "name": "stdout",
          "text": [
            "Epoch [3/10], Train Loss: 1.2540, Val Loss: 6.1881, Val AUC: 0.4661, Val Acc: 0.4667\n"
          ]
        },
        {
          "output_type": "stream",
          "name": "stderr",
          "text": [
            "100%|██████████| 250/250 [00:37<00:00,  6.60it/s]\n",
            "100%|██████████| 19/19 [00:02<00:00,  8.09it/s]\n"
          ]
        },
        {
          "output_type": "stream",
          "name": "stdout",
          "text": [
            "Epoch [4/10], Train Loss: 1.2765, Val Loss: 1.3457, Val AUC: 0.4874, Val Acc: 0.4567\n"
          ]
        },
        {
          "output_type": "stream",
          "name": "stderr",
          "text": [
            "100%|██████████| 250/250 [00:31<00:00,  7.92it/s]\n",
            "100%|██████████| 19/19 [00:01<00:00, 18.90it/s]\n"
          ]
        },
        {
          "output_type": "stream",
          "name": "stdout",
          "text": [
            "Epoch [5/10], Train Loss: 1.2621, Val Loss: 1.2764, Val AUC: 0.5074, Val Acc: 0.4067\n"
          ]
        },
        {
          "output_type": "stream",
          "name": "stderr",
          "text": [
            "100%|██████████| 250/250 [00:29<00:00,  8.39it/s]\n",
            "100%|██████████| 19/19 [00:00<00:00, 19.09it/s]\n"
          ]
        },
        {
          "output_type": "stream",
          "name": "stdout",
          "text": [
            "Epoch [6/10], Train Loss: 1.2591, Val Loss: 4.2789, Val AUC: 0.4999, Val Acc: 0.4722\n"
          ]
        },
        {
          "output_type": "stream",
          "name": "stderr",
          "text": [
            "100%|██████████| 250/250 [00:28<00:00,  8.63it/s]\n",
            "100%|██████████| 19/19 [00:01<00:00, 18.89it/s]\n"
          ]
        },
        {
          "output_type": "stream",
          "name": "stdout",
          "text": [
            "Epoch [7/10], Train Loss: 1.2621, Val Loss: 1.2622, Val AUC: 0.5050, Val Acc: 0.4429\n"
          ]
        },
        {
          "output_type": "stream",
          "name": "stderr",
          "text": [
            "100%|██████████| 250/250 [00:30<00:00,  8.27it/s]\n",
            "100%|██████████| 19/19 [00:01<00:00, 18.79it/s]\n"
          ]
        },
        {
          "output_type": "stream",
          "name": "stdout",
          "text": [
            "Epoch [8/10], Train Loss: 1.2559, Val Loss: 1.2877, Val AUC: 0.5046, Val Acc: 0.4183\n"
          ]
        },
        {
          "output_type": "stream",
          "name": "stderr",
          "text": [
            "100%|██████████| 250/250 [00:30<00:00,  8.25it/s]\n",
            "100%|██████████| 19/19 [00:01<00:00, 17.16it/s]\n"
          ]
        },
        {
          "output_type": "stream",
          "name": "stdout",
          "text": [
            "Epoch [9/10], Train Loss: 1.2507, Val Loss: 1.3412, Val AUC: 0.4977, Val Acc: 0.4156\n"
          ]
        },
        {
          "output_type": "stream",
          "name": "stderr",
          "text": [
            "100%|██████████| 250/250 [00:29<00:00,  8.59it/s]\n",
            "100%|██████████| 19/19 [00:01<00:00, 17.98it/s]"
          ]
        },
        {
          "output_type": "stream",
          "name": "stdout",
          "text": [
            "Epoch [10/10], Train Loss: 1.2557, Val Loss: 1.5335, Val AUC: 0.4961, Val Acc: 0.3940\n"
          ]
        },
        {
          "output_type": "stream",
          "name": "stderr",
          "text": [
            "\n"
          ]
        }
      ]
    },
    {
      "cell_type": "code",
      "source": [
        "model.eval()\n",
        "test_loss=0\n",
        "with torch.no_grad():\n",
        "    for images, composite, labels in tqdm(test_loader):\n",
        "        outputs = model(images.float().cuda())\n",
        "        loss = criterion(outputs.squeeze(), labels.float().cuda())\n",
        "        test_loss += loss.item()\n",
        "        preds=torch.sigmoid(outputs).squeeze()\n",
        "        auc.update(preds, labels.cuda())\n",
        "        accuracy.update(preds, labels.cuda())\n",
        "test_loss = test_loss / len(test_dataset)\n",
        "test_auc = auc.compute()\n",
        "test_acc = accuracy.compute()\n",
        "print('\\nTest Loss: {:.4f}, Test AUC: {:.4f}, Test Acc: {:.4f}'.format(test_loss, test_auc, test_acc))\n",
        "acc_models_test.append(test_acc)"
      ],
      "metadata": {
        "id": "ccsicheaNGlk",
        "colab": {
          "base_uri": "https://localhost:8080/"
        },
        "outputId": "e0a3b13b-b3d7-4a8e-f372-52bf3e5740c1"
      },
      "execution_count": 51,
      "outputs": [
        {
          "output_type": "stream",
          "name": "stderr",
          "text": [
            "100%|██████████| 75/75 [00:04<00:00, 16.72it/s]"
          ]
        },
        {
          "output_type": "stream",
          "name": "stdout",
          "text": [
            "\n",
            "Test Loss: 0.2869, Test AUC: 0.5024, Test Acc: 0.3376\n"
          ]
        },
        {
          "output_type": "stream",
          "name": "stderr",
          "text": [
            "\n"
          ]
        }
      ]
    },
    {
      "cell_type": "markdown",
      "source": [
        "During the traning we use of num_epochs=10 and learning_rate=0.001 and a batch size 8 for all of the 3 strategies to be able to produce accurate comparision between the techiques.\n",
        "\n",
        "* Changes of the last layer :\n",
        " * seconds train :  166\n",
        " * validaiton: rain Loss: 0.9839, Val Loss: 1.0707, Val AUC: 0.7507, Val Acc: 0.7033\n",
        " * test : Test Loss: 0.1672, Test AUC: 0.7286, Test Acc: 0.7124\n",
        "* retrain the entire network (previously pre-trained on Imagenet)\n",
        " * seconds train :361\n",
        " * validaiton: Train Loss: 1.2646, Val Loss: 1.2693, Val AUC: 0.5633, Val Acc: 0.4420\n",
        " * test :Test Loss: 0.1617, Test AUC: 0.5379, Test Acc: 0.4463\n",
        "* train from scratch the network\n",
        " * seconds train : 326\n",
        " * validaiton: Train Loss: 1.2557, Val Loss: 1.5335, Val AUC: 0.4961, Val Acc: 0.3940\n",
        " * test : Test Loss: 0.2869, Test AUC: 0.5024, Test Acc: 0.3376\n"
      ],
      "metadata": {
        "id": "lFbqaoWODIyR"
      }
    },
    {
      "cell_type": "markdown",
      "source": [
        "**Question**: Train at least 3 different networks using the three strategies. Use the validation set to compare the performance of the three models and evaluate the best-performing one on the test set. Which is the best strategy ? Are you satisfied ?"
      ],
      "metadata": {
        "id": "ATUgL0Ia2wxH"
      }
    },
    {
      "cell_type": "code",
      "source": [
        "import matplotlib.pyplot as plt\n",
        "import numpy as np\n",
        "\n",
        "# Results data\n",
        "results = [\n",
        "    {\"strategy\": \"ResNet Last layer tuning\", \"execution_time\": 52, \"acc_test\": 0.81},\n",
        "    {\"strategy\": \"ResNet Retraining\", \"execution_time\": 54, \"acc_test\": 0.64},\n",
        "    {\"strategy\": \"ResNet Training From Scratch\", \"execution_time\": 63, \"acc_test\": 0.35},\n",
        "\n",
        "    {\"strategy\": \"VGG Last layer tuning\", \"execution_time\": 135, \"acc_test\": 0.76},\n",
        "    {\"strategy\": \"VGG Retraining\", \"execution_time\": 232, \"acc_test\": 0.21},\n",
        "    {\"strategy\": \"VGG Training From Scratch\", \"execution_time\": 237, \"acc_test\": 0.20},\n",
        "\n",
        "    {\"strategy\": \"DenseNet Last layer tuning\", \"execution_time\": 166, \"acc_test\": 0.71},\n",
        "    {\"strategy\": \"DenseNet Retraining\", \"execution_time\": 361, \"acc_test\": 0.44},\n",
        "    {\"strategy\": \"DenseNet Training From Scratch\", \"execution_time\": 326, \"acc_test\": 0.33}\n",
        "]\n",
        "\n",
        "# Extracting strategy names, execution times, and test accuracies\n",
        "strategies = [result[\"strategy\"] for result in results]\n",
        "execution_times = [result[\"execution_time\"] for result in results]\n",
        "acc_tests = [result[\"acc_test\"] for result in results]\n",
        "# acc_test = acc_models_test\n",
        "\n",
        "# Creating the plot\n",
        "fig, ax1 = plt.subplots(figsize=(14, 8))\n",
        "\n",
        "# Plotting execution times\n",
        "color = 'tab:red'\n",
        "ax1.set_xlabel('Strategy')\n",
        "ax1.set_ylabel('Execution Time (seconds)', color=color)\n",
        "ax1.bar(strategies, execution_times, color=color, alpha=0.6, label='Execution Time')\n",
        "ax1.tick_params(axis='y', labelcolor=color)\n",
        "ax1.set_xticklabels(strategies, rotation=45, ha='right')\n",
        "\n",
        "# Creating a twin axis for test accuracy\n",
        "ax2 = ax1.twinx()\n",
        "color = 'tab:blue'\n",
        "ax2.set_ylabel('Test Accuracy', color=color)\n",
        "ax2.plot(strategies, acc_tests, color=color, marker='o', label='Test Accuracy')\n",
        "ax2.tick_params(axis='y', labelcolor=color)\n",
        "\n",
        "# Adding a legend\n",
        "fig.tight_layout()\n",
        "fig.legend(loc=\"upper left\", bbox_to_anchor=(0.1,0.9))\n",
        "\n",
        "plt.title('Comparison of Deep Learning Strategies')\n",
        "plt.show()\n"
      ],
      "metadata": {
        "id": "z4PlE03lQYNY",
        "outputId": "1a84a393-a5d9-4acf-d3b9-53515b6b6812",
        "colab": {
          "base_uri": "https://localhost:8080/",
          "height": 739
        }
      },
      "execution_count": 63,
      "outputs": [
        {
          "output_type": "stream",
          "name": "stderr",
          "text": [
            "<ipython-input-63-b8a0df0be373>:34: UserWarning: FixedFormatter should only be used together with FixedLocator\n",
            "  ax1.set_xticklabels(strategies, rotation=45, ha='right')\n"
          ]
        },
        {
          "output_type": "display_data",
          "data": {
            "text/plain": [
              "<Figure size 1400x800 with 2 Axes>"
            ],
            "image/png": "[encoded data removed]"
          },
          "metadata": {}
        }
      ]
    },
    {
      "cell_type": "markdown",
      "source": [
        "**Question**: You can use as input to your model either the full image or the masked image. Compare the two strategies by testing *in both cases* only on the full images (assume that you do not have the segmentation masks at test time). In this way, the comparison will be more fair. What's better ?"
      ],
      "metadata": {
        "id": "8M6hCw-03FJY"
      }
    },
    {
      "cell_type": "markdown",
      "source": [
        "I have only performed test on ResNet after fine-tuning the last layer and we definitely get better test accuracy in the composite image (0.81) compared to the original image with accuracy on the test set Test Acc: 0.7059. This means that isolating the lesion from the rest of the skin gives better results in terms of prediction."
      ],
      "metadata": {
        "id": "0MdXxJH_bp4o"
      }
    },
    {
      "cell_type": "markdown",
      "source": [
        "**Question**: Plot on a graph the time you have spent (x-axis) and the maximum AUC (y-axis) for all strategies you tried: feature engineering and DL fie-tuning or training. What's your conclusion ?"
      ],
      "metadata": {
        "id": "eoAxK-J34BCB"
      }
    },
    {
      "cell_type": "code",
      "source": [
        "results = [\n",
        "    {\"strategy\": \"DL executing and training all strategies\", \"time\": 7200, \"max_acc\": 0.81},\n",
        "    {\"strategy\": \"Feature Engineering + ML(Random Forest)\", \"time\": 25200, \"max_acc\": 0.7}\n",
        "]\n",
        "\n",
        "strategies = [result[\"strategy\"] for result in results]\n",
        "execution_times = [result[\"time\"] for result in results]\n",
        "acc_tests = [result[\"max_acc\"] for result in results]\n",
        "\n",
        "fig, ax1 = plt.subplots(figsize=(8, 8))\n",
        "\n",
        "color = 'tab:red'\n",
        "ax1.set_xlabel('Strategy')\n",
        "ax1.set_ylabel('Time (seconds)', color=color)\n",
        "ax1.bar(strategies, execution_times, color=color, alpha=0.6, label='Time')\n",
        "ax1.tick_params(axis='y', labelcolor=color)\n",
        "ax1.set_xticklabels(strategies, rotation=45, ha='right')\n",
        "\n",
        "ax2 = ax1.twinx()\n",
        "color = 'tab:blue'\n",
        "ax2.set_ylabel('Test Accuracy', color=color)\n",
        "ax2.plot(strategies, acc_tests, color=color, marker='o', label='Test Accuracy')\n",
        "ax2.tick_params(axis='y', labelcolor=color)\n",
        "\n",
        "fig.tight_layout()\n",
        "fig.legend(loc=\"upper left\", bbox_to_anchor=(0.1,0.9))\n",
        "\n",
        "plt.title('Comparison of Deep Learning vs Machine Learning Strategies')\n",
        "plt.show()\n"
      ],
      "metadata": {
        "colab": {
          "base_uri": "https://localhost:8080/",
          "height": 864
        },
        "id": "7vGkgK6LXw_R",
        "outputId": "df63dfcc-6a0b-4c38-dda5-a50aa159dcde"
      },
      "execution_count": 70,
      "outputs": [
        {
          "output_type": "stream",
          "name": "stderr",
          "text": [
            "<ipython-input-70-af79ee1a8ed9>:17: UserWarning: FixedFormatter should only be used together with FixedLocator\n",
            "  ax1.set_xticklabels(strategies, rotation=45, ha='right')\n"
          ]
        },
        {
          "output_type": "display_data",
          "data": {
            "text/plain": [
              "<Figure size 800x800 with 2 Axes>"
            ],
            "image/png": "[encoded data removed]"
          },
          "metadata": {}
        }
      ]
    },
    {
      "cell_type": "markdown",
      "source": [
        "To conclude, using Deep learning strategy and in particular fine tune the last layer of already pretrained neural network on ImageNet gives the best accuracy and execution time. The model with the best performance is the ResNet with accuracy 0.81 and execution time of less then a minute. Compared to the best performing model of the Machine learning which is the Random Forest with accuracy 0.75 but after spending more than 7 hours in reading research papers, implemention the feature extraction and creating the datasets for every image."
      ],
      "metadata": {
        "id": "-dLfQcnVLtnY"
      }
    }
  ],
  "metadata": {
    "colab": {
      "provenance": [],
      "gpuType": "T4",
      "toc_visible": true
    },
    "kernelspec": {
      "display_name": "Python 3",
      "name": "python3"
    },
    "language_info": {
      "codemirror_mode": {
        "name": "ipython",
        "version": 3
      },
      "file_extension": ".py",
      "mimetype": "text/x-python",
      "name": "python",
      "nbconvert_exporter": "python",
      "pygments_lexer": "ipython3",
      "version": "3.6.13"
    },
    "accelerator": "GPU"
  },
  "nbformat": 4,
  "nbformat_minor": 0
}